{
 "cells": [
  {
   "cell_type": "markdown",
   "metadata": {},
   "source": [
    "# Optuna"
   ]
  },
  {
   "cell_type": "code",
   "execution_count": 6,
   "metadata": {},
   "outputs": [],
   "source": [
    "# Import dependencies\n",
    "import numpy as np\n",
    "import pandas as pd\n",
    "import os, glob, subprocess, shutil, argparse\n",
    "import argparse\n",
    "from datetime import date\n",
    "\n",
    "# from PIL import Image\n",
    "import rasterio\n",
    "from sklearn.metrics import f1_score\n",
    "from sklearn.metrics import mean_squared_error\n",
    "from sklearn.metrics import log_loss\n",
    "from skimage.metrics import structural_similarity as ssim\n",
    "\n",
    "import warnings\n",
    "warnings.filterwarnings(\"ignore\")\n",
    "\n",
    "import itertools\n",
    "\n",
    "os.chdir('/Users/minho/Documents/GitHub/Cell2Fire')\n",
    "import Cell2Fire.DataGeneratorC as DataGenerator\n",
    "from Cell2Fire.Stats import *\n",
    "from Cell2Fire.ParseInputs import ParseInputs\n",
    "from Cell2FireC import *\n",
    "from Cell2Fire.Stats import *\n",
    "from Cell2Fire.Heuristics import *\n",
    "from Cell2Fire.ellipse_sim import *\n",
    "from Cell2Fire.ellipse_algorithms import EllipseAlgorithm\n",
    "\n",
    "# Optimization\n",
    "import optuna\n",
    "optuna.logging.set_verbosity(optuna.logging.WARNING)\n",
    "from numpy import linalg as LA\n",
    "\n",
    "from optuna.visualization.matplotlib import plot_contour\n",
    "# from optuna.visualization.matplotlib import plot_edf\n",
    "from optuna.visualization.matplotlib import plot_intermediate_values\n",
    "from optuna.visualization.matplotlib import plot_optimization_history\n",
    "from optuna.visualization.matplotlib import plot_parallel_coordinate\n",
    "from optuna.visualization.matplotlib import plot_param_importances\n",
    "from optuna.visualization.matplotlib import plot_slice"
   ]
  },
  {
   "cell_type": "markdown",
   "metadata": {},
   "source": [
    "## Optuna main functions"
   ]
  },
  {
   "cell_type": "code",
   "execution_count": 2,
   "metadata": {},
   "outputs": [],
   "source": [
    "## Main functions\n",
    "def open_img(f):\n",
    "    file = glob.glob(os.path.join(f, 'Grids', 'Grids1', '*.csv'))[0]\n",
    "    grid = np.loadtxt(file, delimiter=',')\n",
    "#     grid = pd.read_csv(file, delimiter=',', header=None)\n",
    "    return grid\n",
    "    \n",
    "# Objective function to optimize\n",
    "class Objective:\n",
    "    def __init__(self, k1_min, k1_max, k2_min, k2_max, k3_min, k3_max, k4_min, k4_max, k5_min, k5_max, loss, prune_steps, basepath):\n",
    "        # Hold this implementation specific arguments as the fields of the class.\n",
    "        self.k1_min = k1_min; self.k1_max = k1_max; self.k2_min = k2_min; self.k2_max = k2_max; self.k3_min = k3_min; self.k3_max = k3_max; \n",
    "        self.k4_min = k4_min; self.k4_max = k4_max; self.k5_min = k5_min; self.k5_max = k5_max;\n",
    "\n",
    "        self.loss = loss # Integer value to select loss function\n",
    "        self.prune_steps = prune_steps\n",
    "        self.basepath = BASEPATH # Need BASEPATH to load fire simulation paths\n",
    "        \n",
    "    def __call__(self, trial):\n",
    "        # Calculate an objective value by using the extra arguments.\n",
    "        K1 = trial.suggest_float(\"K1\", self.k1_min, self.k1_max)\n",
    "        K2 = trial.suggest_float(\"K2\", self.k2_min, self.k2_max)\n",
    "        K3 = trial.suggest_float(\"K3\", self.k3_min, self.k3_max)\n",
    "        K4 = trial.suggest_float(\"K4\", self.k4_min, self.k4_max)\n",
    "        K5 = trial.suggest_float(\"K5\", self.k5_min, self.k5_max)\n",
    "        # K3=0\n",
    "        # K4=0\n",
    "        # K5=0\n",
    "\n",
    "        # print(K1, K2, K3, K4, K5)\n",
    "\n",
    "        if prune_steps and prune_steps > 0:\n",
    "            # print(\"PRUNING!!\")\n",
    "            for step in range(prune_steps):\n",
    "                score1, score2, score3, score4, score5 = run([K1, K2, K3, K4, K5], loss, ftype, ws, weather_hours, fperiod_length, True, BASEPATH)            \n",
    "                if loss==1: \n",
    "                    intermediate_score = score1\n",
    "                if loss==2: \n",
    "                    intermediate_score = score2\n",
    "                if loss==3: \n",
    "                    intermediate_score = score3\n",
    "                if loss==4: \n",
    "                    intermediate_score = score4\n",
    "                if loss==5: \n",
    "                    intermediate_score = score5\n",
    "\n",
    "                trial.report(intermediate_score, step)\n",
    "                \n",
    "                # Handle pruning based on the intermediate value.\n",
    "                if trial.should_prune():\n",
    "                    raise optuna.TrialPruned()\n",
    "        # else:\n",
    "            # print(\"SKIP PRUNING!!\")\n",
    "        score1, score2, score3, score4, score5 = run([K1, K2, K3, K4, K5], loss, ftype, ws, weather_hours, fperiod_length, True, BASEPATH)            \n",
    "        \n",
    "        trial.set_user_attr('fro', score1)\n",
    "        trial.set_user_attr('mse', score2)\n",
    "        trial.set_user_attr('f1', score3)\n",
    "        trial.set_user_attr('logloss', score4)\n",
    "        trial.set_user_attr('ssim', score5)\n",
    "        \n",
    "        if loss == 1:\n",
    "            return score1\n",
    "        if loss == 2:\n",
    "            return score2\n",
    "        if loss == 3:\n",
    "            return score3\n",
    "        if loss == 4:\n",
    "            return score4\n",
    "        if loss == 5:\n",
    "            return score5\n",
    "\n",
    "# Logging from optimization\n",
    "def logging_callback(study, frozen_trial):\n",
    "    previous_best_value = study.user_attrs.get(\"previous_best_value\", None)\n",
    "    if previous_best_value != study.best_value:\n",
    "        study.set_user_attr(\"previous_best_value\", study.best_value)\n",
    "        print(\n",
    "            \"Trial {} finished with best value: {} and parameters: {}. \".format(\n",
    "            frozen_trial.number,\n",
    "            frozen_trial.value,\n",
    "            frozen_trial.params,\n",
    "            )\n",
    "        )\n",
    "\n",
    "# Main processing function (Filepaths, Cell2Fire Call)\n",
    "def run(K_opt,loss,ftype,ws,weather_hours,fperiod_length,save_memory,BASEPATH):\n",
    "\n",
    "    # Set parameters\n",
    "    FPERIODLENGTH = fperiod_length\n",
    "    HFACTOR = 1\n",
    "    FFACTOR = 1\n",
    "    BFACTOR = 1\n",
    "    EFACTOR = 1\n",
    "\n",
    "    LBFORMULA = 0 # FARSITE LB Equation\n",
    "    ELLIPTICAL = 4 # Adjusted alexander ellipse\n",
    "    adj = 2 # Adjusted alexander ellipse (For file naming)\n",
    "\n",
    "    # Set K Opt parameters\n",
    "    K1=K_opt[0]; K2=K_opt[1]; K3=K_opt[2]; K4=K_opt[3]; K5=K_opt[4]\n",
    "\n",
    "    # Input directories\n",
    "    INSTANCE = \"f\"+str(ftype)+\"_100_ws\" + str(ws) + \"_CS*\" + str(weather_hours) + \"HR\"\n",
    "    InFolder = glob.glob(os.path.join(BASEPATH, 'data_v2/data_cell2fire', INSTANCE))[0]\n",
    "    OutFolder = os.path.join(BASEPATH, 'results', InFolder.split('/')[-1] + \"_K1\" + str(K1) + \"_K2\" + str(K2) + \"_K3\" + str(K3) + \"_K4\" + str(K4) + \"_K5\" + str(K5) + \"/\") # Temp folder\n",
    "\n",
    "    # Output log\n",
    "    if OutFolder is not None:\n",
    "        if os.path.isdir(OutFolder) is False:\n",
    "            os.makedirs(OutFolder)\n",
    "        LogName = os.path.join(OutFolder, \"log_\"+ INSTANCE +\".log\")\n",
    "\n",
    "    # Create Data.csv (if needed)\n",
    "    dataName = os.path.join(InFolder, \"Data.csv\")\n",
    "    if os.path.isfile(dataName) is False:\n",
    "        print(\"Generating Data.csv File...\")\n",
    "        DataGenerator.GenDataFile(InFolder)\n",
    "\n",
    "    # Call (Bash)\n",
    "    execArray = [os.path.join(BASEPATH,\"Cell2FireC/Cell2Fire\"),\n",
    "                \"--input-instance-folder\", InFolder +'/',\n",
    "                \"--output-folder\",  OutFolder +'/', \n",
    "                \"--weather\", \"rows\", \n",
    "                \"--output-message\",\n",
    "                \"--ignitions\",\n",
    "                \"--final-grid\", \n",
    "                \"--ROS-CV\", \"0\",\n",
    "                \"--sim-years\", \"1\", \n",
    "                \"--nsims\", \"1\",\n",
    "                \"-nweathers\", \"1\", \n",
    "                \"--Fire-Period-Length\", str(FPERIODLENGTH),\n",
    "                \"--ROS-Threshold\", \"0\",\n",
    "                \"--HFactor\", str(HFACTOR), \"--FFactor\", str(FFACTOR), \"--BFactor\", str(BFACTOR), \"--EFactor\", str(EFACTOR),\n",
    "                \"--seed\", \"123\", \n",
    "                \"--EllipticalOption\", str(ELLIPTICAL),\n",
    "                \"--KFactor1\", str(K1), \"--KFactor2\", str(K2), \"--KFactor3\", str(K3), \"--KFactor4\", str(K4), \"--KFactor\", str(K5),\n",
    "                \"--LBFormula\", str(LBFORMULA),\n",
    "                \"--verbose\"]\n",
    "                # \">\", \"/home/minho/fires/cell2fire/results/log_\"+ INSTANCE + \"_Alexander_Adjusted_LB\" + str(LBFORMULA) +\".log\"]\n",
    "\n",
    "    # Perform the call\n",
    "    with open(LogName, 'w') as output:\n",
    "        proc = subprocess.Popen(execArray, stdout=output)\n",
    "        proc.communicate()\n",
    "    proc.wait() \n",
    "\n",
    "\n",
    "    # FARSITE burned ellipse file path     \n",
    "    farsite_path = os.path.join(BASEPATH, 'data_v2/farsite', INSTANCE)\n",
    "    farsite_img_path = glob.glob(farsite_path + \"*.tif\")[0]\n",
    "\n",
    "    # Mask FARSITE ROS values to binary\n",
    "    # farsite_img = Image.open(farsite_img_path)\n",
    "    farsite_img = rasterio.open(farsite_img_path).read(1)\n",
    "    farsite_img[farsite_img < 0] = np.nan # Mask\n",
    "    farsite_img[farsite_img == 0] = np.nan # Mask\n",
    "    farsite_img[farsite_img > 0] = 1\n",
    "    farsite_img = ~np.isnan(farsite_img)\n",
    "    # print(\"UNique: \", np.unique(farsite_img))\n",
    "\n",
    "    # Cell2Fire burned ellipse fire path\n",
    "    img = open_img(OutFolder)\n",
    "    img[img < 0] = np.nan # Mask\n",
    "    img[img == 0] = np.nan # Mask\n",
    "    img = ~np.isnan(img)\n",
    "    # print(\"UNique: \", np.unique(img))\n",
    "\n",
    "\n",
    "\n",
    "    # Set loss functions and optimization directions\n",
    "    # 1: Frobenius norm\n",
    "    # 2: MSE\n",
    "    # 3: F1-score\n",
    "    # 4: Cross-entropy (log-loss)\n",
    "\n",
    "    score1 = LA.norm(farsite_img ^ img, ord='fro')\n",
    "\n",
    "    score2 = mean_squared_error(farsite_img.astype(int), img.astype(int))\n",
    "\n",
    "    score3 = np.round(f1_score(\n",
    "                        y_true=farsite_img.flatten(), \n",
    "                        y_pred=img.flatten(), \n",
    "                        average=\"binary\", \n",
    "                        zero_division=0), 2)\n",
    "\n",
    "    score4 = log_loss(farsite_img, img, eps=1e-15)\n",
    "\n",
    "\n",
    "    score5 = ssim(farsite_img, img)\n",
    "\n",
    "    if save_memory:\n",
    "        # Delete temporary folder to save memory\n",
    "        shutil.rmtree(OutFolder)\n",
    "\n",
    "    return score1, score2, score3, score4, score5\n"
   ]
  },
  {
   "cell_type": "code",
   "execution_count": 3,
   "metadata": {},
   "outputs": [
    {
     "name": "stdout",
     "output_type": "stream",
     "text": [
      "Wind speed:  0\n"
     ]
    },
    {
     "data": {
      "application/vnd.jupyter.widget-view+json": {
       "model_id": "031948f7664d4b19bfecacd7fdd3736a",
       "version_major": 2,
       "version_minor": 0
      },
      "text/plain": [
       "  0%|          | 0/10 [00:00<?, ?it/s]"
      ]
     },
     "metadata": {},
     "output_type": "display_data"
    },
    {
     "name": "stdout",
     "output_type": "stream",
     "text": [
      "Trial 1 finished with best value: 1.4142135623730951 and parameters: {'K1': 0.11684791818676266, 'K2': 1.428343521627474, 'K3': 0.0, 'K4': 0.0, 'K5': 0.0}. \n"
     ]
    },
    {
     "name": "stderr",
     "output_type": "stream",
     "text": [
      "\u001b[33m[W 2023-04-28 00:59:00,229]\u001b[0m Output figures of this Matplotlib-based `plot_contour` function would be different from those of the Plotly-based `plot_contour`.\u001b[0m\n",
      "\u001b[33m[W 2023-04-28 00:59:00,230]\u001b[0m Param K3 unique value length is less than 2.\u001b[0m\n",
      "\u001b[33m[W 2023-04-28 00:59:00,231]\u001b[0m Param K4 unique value length is less than 2.\u001b[0m\n",
      "\u001b[33m[W 2023-04-28 00:59:00,232]\u001b[0m Param K5 unique value length is less than 2.\u001b[0m\n",
      "\u001b[33m[W 2023-04-28 00:59:00,233]\u001b[0m Param K3 unique value length is less than 2.\u001b[0m\n",
      "\u001b[33m[W 2023-04-28 00:59:00,234]\u001b[0m Param K4 unique value length is less than 2.\u001b[0m\n",
      "\u001b[33m[W 2023-04-28 00:59:00,235]\u001b[0m Param K5 unique value length is less than 2.\u001b[0m\n",
      "\u001b[33m[W 2023-04-28 00:59:00,236]\u001b[0m Param K3 unique value length is less than 2.\u001b[0m\n",
      "\u001b[33m[W 2023-04-28 00:59:00,237]\u001b[0m Param K3 unique value length is less than 2.\u001b[0m\n",
      "\u001b[33m[W 2023-04-28 00:59:00,237]\u001b[0m Param K4 unique value length is less than 2.\u001b[0m\n",
      "\u001b[33m[W 2023-04-28 00:59:00,238]\u001b[0m Param K5 unique value length is less than 2.\u001b[0m\n",
      "\u001b[33m[W 2023-04-28 00:59:00,239]\u001b[0m Param K4 unique value length is less than 2.\u001b[0m\n",
      "\u001b[33m[W 2023-04-28 00:59:00,239]\u001b[0m Param K4 unique value length is less than 2.\u001b[0m\n",
      "\u001b[33m[W 2023-04-28 00:59:00,240]\u001b[0m Param K3 unique value length is less than 2.\u001b[0m\n",
      "\u001b[33m[W 2023-04-28 00:59:00,241]\u001b[0m Param K5 unique value length is less than 2.\u001b[0m\n",
      "\u001b[33m[W 2023-04-28 00:59:00,242]\u001b[0m Param K5 unique value length is less than 2.\u001b[0m\n",
      "\u001b[33m[W 2023-04-28 00:59:00,242]\u001b[0m Param K5 unique value length is less than 2.\u001b[0m\n",
      "\u001b[33m[W 2023-04-28 00:59:00,243]\u001b[0m Param K3 unique value length is less than 2.\u001b[0m\n",
      "\u001b[33m[W 2023-04-28 00:59:00,244]\u001b[0m Param K4 unique value length is less than 2.\u001b[0m\n"
     ]
    },
    {
     "name": "stdout",
     "output_type": "stream",
     "text": [
      "Wind speed:  1\n"
     ]
    },
    {
     "data": {
      "application/vnd.jupyter.widget-view+json": {
       "model_id": "c251ec1afca44218bc5631c5fda8e1b4",
       "version_major": 2,
       "version_minor": 0
      },
      "text/plain": [
       "  0%|          | 0/10 [00:00<?, ?it/s]"
      ]
     },
     "metadata": {},
     "output_type": "display_data"
    },
    {
     "name": "stdout",
     "output_type": "stream",
     "text": [
      "Trial 0 finished with best value: 2.0 and parameters: {'K1': 0.3978539429439468, 'K2': 1.4017548604038428, 'K3': 0.0, 'K4': 0.0, 'K5': 0.0}. \n"
     ]
    },
    {
     "name": "stderr",
     "output_type": "stream",
     "text": [
      "\u001b[33m[W 2023-04-28 01:02:12,499]\u001b[0m Output figures of this Matplotlib-based `plot_contour` function would be different from those of the Plotly-based `plot_contour`.\u001b[0m\n",
      "\u001b[33m[W 2023-04-28 01:02:12,501]\u001b[0m Param K3 unique value length is less than 2.\u001b[0m\n",
      "\u001b[33m[W 2023-04-28 01:02:12,502]\u001b[0m Param K4 unique value length is less than 2.\u001b[0m\n",
      "\u001b[33m[W 2023-04-28 01:02:12,502]\u001b[0m Param K5 unique value length is less than 2.\u001b[0m\n",
      "\u001b[33m[W 2023-04-28 01:02:12,503]\u001b[0m Param K3 unique value length is less than 2.\u001b[0m\n",
      "\u001b[33m[W 2023-04-28 01:02:12,504]\u001b[0m Param K4 unique value length is less than 2.\u001b[0m\n",
      "\u001b[33m[W 2023-04-28 01:02:12,505]\u001b[0m Param K5 unique value length is less than 2.\u001b[0m\n",
      "\u001b[33m[W 2023-04-28 01:02:12,506]\u001b[0m Param K3 unique value length is less than 2.\u001b[0m\n",
      "\u001b[33m[W 2023-04-28 01:02:12,506]\u001b[0m Param K3 unique value length is less than 2.\u001b[0m\n",
      "\u001b[33m[W 2023-04-28 01:02:12,507]\u001b[0m Param K4 unique value length is less than 2.\u001b[0m\n",
      "\u001b[33m[W 2023-04-28 01:02:12,508]\u001b[0m Param K5 unique value length is less than 2.\u001b[0m\n",
      "\u001b[33m[W 2023-04-28 01:02:12,509]\u001b[0m Param K4 unique value length is less than 2.\u001b[0m\n",
      "\u001b[33m[W 2023-04-28 01:02:12,510]\u001b[0m Param K4 unique value length is less than 2.\u001b[0m\n",
      "\u001b[33m[W 2023-04-28 01:02:12,510]\u001b[0m Param K3 unique value length is less than 2.\u001b[0m\n",
      "\u001b[33m[W 2023-04-28 01:02:12,511]\u001b[0m Param K5 unique value length is less than 2.\u001b[0m\n",
      "\u001b[33m[W 2023-04-28 01:02:12,512]\u001b[0m Param K5 unique value length is less than 2.\u001b[0m\n",
      "\u001b[33m[W 2023-04-28 01:02:12,512]\u001b[0m Param K5 unique value length is less than 2.\u001b[0m\n",
      "\u001b[33m[W 2023-04-28 01:02:12,513]\u001b[0m Param K3 unique value length is less than 2.\u001b[0m\n",
      "\u001b[33m[W 2023-04-28 01:02:12,514]\u001b[0m Param K4 unique value length is less than 2.\u001b[0m\n"
     ]
    },
    {
     "name": "stdout",
     "output_type": "stream",
     "text": [
      "Wind speed:  2\n"
     ]
    },
    {
     "data": {
      "application/vnd.jupyter.widget-view+json": {
       "model_id": "53b8429dbfe245319ce9bf91dfc3a543",
       "version_major": 2,
       "version_minor": 0
      },
      "text/plain": [
       "  0%|          | 0/10 [00:00<?, ?it/s]"
      ]
     },
     "metadata": {},
     "output_type": "display_data"
    },
    {
     "name": "stdout",
     "output_type": "stream",
     "text": [
      "Trial 3 finished with best value: 2.8284271247461903 and parameters: {'K1': 0.2965797027819639, 'K2': 1.585426415354619, 'K3': 0.0, 'K4': 0.0, 'K5': 0.0}. \n"
     ]
    },
    {
     "name": "stderr",
     "output_type": "stream",
     "text": [
      "\u001b[33m[W 2023-04-28 01:05:24,359]\u001b[0m Output figures of this Matplotlib-based `plot_contour` function would be different from those of the Plotly-based `plot_contour`.\u001b[0m\n",
      "\u001b[33m[W 2023-04-28 01:05:24,360]\u001b[0m Param K3 unique value length is less than 2.\u001b[0m\n",
      "\u001b[33m[W 2023-04-28 01:05:24,360]\u001b[0m Param K4 unique value length is less than 2.\u001b[0m\n",
      "\u001b[33m[W 2023-04-28 01:05:24,361]\u001b[0m Param K5 unique value length is less than 2.\u001b[0m\n",
      "\u001b[33m[W 2023-04-28 01:05:24,361]\u001b[0m Param K3 unique value length is less than 2.\u001b[0m\n",
      "\u001b[33m[W 2023-04-28 01:05:24,362]\u001b[0m Param K4 unique value length is less than 2.\u001b[0m\n",
      "\u001b[33m[W 2023-04-28 01:05:24,362]\u001b[0m Param K5 unique value length is less than 2.\u001b[0m\n",
      "\u001b[33m[W 2023-04-28 01:05:24,363]\u001b[0m Param K3 unique value length is less than 2.\u001b[0m\n",
      "\u001b[33m[W 2023-04-28 01:05:24,363]\u001b[0m Param K3 unique value length is less than 2.\u001b[0m\n",
      "\u001b[33m[W 2023-04-28 01:05:24,363]\u001b[0m Param K4 unique value length is less than 2.\u001b[0m\n",
      "\u001b[33m[W 2023-04-28 01:05:24,364]\u001b[0m Param K5 unique value length is less than 2.\u001b[0m\n",
      "\u001b[33m[W 2023-04-28 01:05:24,364]\u001b[0m Param K4 unique value length is less than 2.\u001b[0m\n",
      "\u001b[33m[W 2023-04-28 01:05:24,364]\u001b[0m Param K4 unique value length is less than 2.\u001b[0m\n",
      "\u001b[33m[W 2023-04-28 01:05:24,365]\u001b[0m Param K3 unique value length is less than 2.\u001b[0m\n",
      "\u001b[33m[W 2023-04-28 01:05:24,365]\u001b[0m Param K5 unique value length is less than 2.\u001b[0m\n",
      "\u001b[33m[W 2023-04-28 01:05:24,366]\u001b[0m Param K5 unique value length is less than 2.\u001b[0m\n",
      "\u001b[33m[W 2023-04-28 01:05:24,366]\u001b[0m Param K5 unique value length is less than 2.\u001b[0m\n",
      "\u001b[33m[W 2023-04-28 01:05:24,366]\u001b[0m Param K3 unique value length is less than 2.\u001b[0m\n",
      "\u001b[33m[W 2023-04-28 01:05:24,367]\u001b[0m Param K4 unique value length is less than 2.\u001b[0m\n"
     ]
    },
    {
     "name": "stdout",
     "output_type": "stream",
     "text": [
      "Wind speed:  9\n"
     ]
    },
    {
     "data": {
      "application/vnd.jupyter.widget-view+json": {
       "model_id": "2be6f504aa5a41e2b77c373f7ae531fb",
       "version_major": 2,
       "version_minor": 0
      },
      "text/plain": [
       "  0%|          | 0/10 [00:00<?, ?it/s]"
      ]
     },
     "metadata": {},
     "output_type": "display_data"
    },
    {
     "name": "stdout",
     "output_type": "stream",
     "text": [
      "Trial 2 finished with best value: 12.68857754044952 and parameters: {'K1': 0.020539549373014387, 'K2': 1.1047736370569239, 'K3': 0.0, 'K4': 0.0, 'K5': 0.0}. \n",
      "Trial 4 finished with best value: 10.04987562112089 and parameters: {'K1': 0.2975077520740219, 'K2': 1.5240202302064179, 'K3': 0.0, 'K4': 0.0, 'K5': 0.0}. \n",
      "Trial 5 finished with best value: 9.539392014169456 and parameters: {'K1': 0.2723626355285522, 'K2': 1.0273432777649676, 'K3': 0.0, 'K4': 0.0, 'K5': 0.0}. \n",
      "Trial 6 finished with best value: 8.717797887081348 and parameters: {'K1': 0.34748176812351966, 'K2': 1.2739758719231111, 'K3': 0.0, 'K4': 0.0, 'K5': 0.0}. \n",
      "Trial 7 finished with best value: 8.246211251235321 and parameters: {'K1': 0.3874174329125492, 'K2': 1.2088666146539393, 'K3': 0.0, 'K4': 0.0, 'K5': 0.0}. \n"
     ]
    },
    {
     "name": "stderr",
     "output_type": "stream",
     "text": [
      "\u001b[33m[W 2023-04-28 01:13:43,990]\u001b[0m Output figures of this Matplotlib-based `plot_contour` function would be different from those of the Plotly-based `plot_contour`.\u001b[0m\n",
      "\u001b[33m[W 2023-04-28 01:13:43,991]\u001b[0m Param K3 unique value length is less than 2.\u001b[0m\n",
      "\u001b[33m[W 2023-04-28 01:13:43,992]\u001b[0m Param K4 unique value length is less than 2.\u001b[0m\n",
      "\u001b[33m[W 2023-04-28 01:13:43,993]\u001b[0m Param K5 unique value length is less than 2.\u001b[0m\n",
      "\u001b[33m[W 2023-04-28 01:13:43,993]\u001b[0m Param K3 unique value length is less than 2.\u001b[0m\n",
      "\u001b[33m[W 2023-04-28 01:13:43,994]\u001b[0m Param K4 unique value length is less than 2.\u001b[0m\n",
      "\u001b[33m[W 2023-04-28 01:13:43,995]\u001b[0m Param K5 unique value length is less than 2.\u001b[0m\n",
      "\u001b[33m[W 2023-04-28 01:13:43,995]\u001b[0m Param K3 unique value length is less than 2.\u001b[0m\n",
      "\u001b[33m[W 2023-04-28 01:13:43,996]\u001b[0m Param K3 unique value length is less than 2.\u001b[0m\n",
      "\u001b[33m[W 2023-04-28 01:13:43,997]\u001b[0m Param K4 unique value length is less than 2.\u001b[0m\n",
      "\u001b[33m[W 2023-04-28 01:13:43,997]\u001b[0m Param K5 unique value length is less than 2.\u001b[0m\n",
      "\u001b[33m[W 2023-04-28 01:13:43,998]\u001b[0m Param K4 unique value length is less than 2.\u001b[0m\n",
      "\u001b[33m[W 2023-04-28 01:13:43,998]\u001b[0m Param K4 unique value length is less than 2.\u001b[0m\n",
      "\u001b[33m[W 2023-04-28 01:13:43,999]\u001b[0m Param K3 unique value length is less than 2.\u001b[0m\n",
      "\u001b[33m[W 2023-04-28 01:13:43,999]\u001b[0m Param K5 unique value length is less than 2.\u001b[0m\n",
      "\u001b[33m[W 2023-04-28 01:13:44,000]\u001b[0m Param K5 unique value length is less than 2.\u001b[0m\n",
      "\u001b[33m[W 2023-04-28 01:13:44,001]\u001b[0m Param K5 unique value length is less than 2.\u001b[0m\n",
      "\u001b[33m[W 2023-04-28 01:13:44,001]\u001b[0m Param K3 unique value length is less than 2.\u001b[0m\n",
      "\u001b[33m[W 2023-04-28 01:13:44,002]\u001b[0m Param K4 unique value length is less than 2.\u001b[0m\n"
     ]
    },
    {
     "name": "stdout",
     "output_type": "stream",
     "text": [
      "Wind speed:  10\n"
     ]
    },
    {
     "data": {
      "application/vnd.jupyter.widget-view+json": {
       "model_id": "f6aae465cfab4c239d7b1c37a3d284bf",
       "version_major": 2,
       "version_minor": 0
      },
      "text/plain": [
       "  0%|          | 0/10 [00:00<?, ?it/s]"
      ]
     },
     "metadata": {},
     "output_type": "display_data"
    },
    {
     "name": "stdout",
     "output_type": "stream",
     "text": [
      "Trial 2 finished with best value: 13.076696830622021 and parameters: {'K1': 0.21452654821545525, 'K2': 1.2161223591381016, 'K3': 0.0, 'K4': 0.0, 'K5': 0.0}. \n",
      "Trial 1 finished with best value: 12.922847983320086 and parameters: {'K1': 0.2753243901994684, 'K2': 1.8880786731123749, 'K3': 0.0, 'K4': 0.0, 'K5': 0.0}. \n",
      "Trial 3 finished with best value: 12.083045973594572 and parameters: {'K1': 0.306482411822812, 'K2': 1.5076234632270875, 'K3': 0.0, 'K4': 0.0, 'K5': 0.0}. \n",
      "Trial 0 finished with best value: 11.090536506409418 and parameters: {'K1': 0.46474666186546365, 'K2': 1.702834586328878, 'K3': 0.0, 'K4': 0.0, 'K5': 0.0}. \n",
      "Trial 5 finished with best value: 10.816653826391969 and parameters: {'K1': 0.4812664579664427, 'K2': 1.5656768261168563, 'K3': 0.0, 'K4': 0.0, 'K5': 0.0}. \n",
      "Trial 8 finished with best value: 10.344080432788601 and parameters: {'K1': 0.4052883838942293, 'K2': 1.3009686314876232, 'K3': 0.0, 'K4': 0.0, 'K5': 0.0}. \n"
     ]
    },
    {
     "name": "stderr",
     "output_type": "stream",
     "text": [
      "\u001b[33m[W 2023-04-28 01:22:28,226]\u001b[0m Output figures of this Matplotlib-based `plot_contour` function would be different from those of the Plotly-based `plot_contour`.\u001b[0m\n",
      "\u001b[33m[W 2023-04-28 01:22:28,228]\u001b[0m Param K3 unique value length is less than 2.\u001b[0m\n",
      "\u001b[33m[W 2023-04-28 01:22:28,228]\u001b[0m Param K4 unique value length is less than 2.\u001b[0m\n",
      "\u001b[33m[W 2023-04-28 01:22:28,229]\u001b[0m Param K5 unique value length is less than 2.\u001b[0m\n",
      "\u001b[33m[W 2023-04-28 01:22:28,229]\u001b[0m Param K3 unique value length is less than 2.\u001b[0m\n",
      "\u001b[33m[W 2023-04-28 01:22:28,229]\u001b[0m Param K4 unique value length is less than 2.\u001b[0m\n",
      "\u001b[33m[W 2023-04-28 01:22:28,230]\u001b[0m Param K5 unique value length is less than 2.\u001b[0m\n",
      "\u001b[33m[W 2023-04-28 01:22:28,230]\u001b[0m Param K3 unique value length is less than 2.\u001b[0m\n",
      "\u001b[33m[W 2023-04-28 01:22:28,231]\u001b[0m Param K3 unique value length is less than 2.\u001b[0m\n",
      "\u001b[33m[W 2023-04-28 01:22:28,231]\u001b[0m Param K4 unique value length is less than 2.\u001b[0m\n",
      "\u001b[33m[W 2023-04-28 01:22:28,232]\u001b[0m Param K5 unique value length is less than 2.\u001b[0m\n",
      "\u001b[33m[W 2023-04-28 01:22:28,232]\u001b[0m Param K4 unique value length is less than 2.\u001b[0m\n",
      "\u001b[33m[W 2023-04-28 01:22:28,233]\u001b[0m Param K4 unique value length is less than 2.\u001b[0m\n",
      "\u001b[33m[W 2023-04-28 01:22:28,233]\u001b[0m Param K3 unique value length is less than 2.\u001b[0m\n",
      "\u001b[33m[W 2023-04-28 01:22:28,233]\u001b[0m Param K5 unique value length is less than 2.\u001b[0m\n",
      "\u001b[33m[W 2023-04-28 01:22:28,234]\u001b[0m Param K5 unique value length is less than 2.\u001b[0m\n",
      "\u001b[33m[W 2023-04-28 01:22:28,234]\u001b[0m Param K5 unique value length is less than 2.\u001b[0m\n",
      "\u001b[33m[W 2023-04-28 01:22:28,235]\u001b[0m Param K3 unique value length is less than 2.\u001b[0m\n",
      "\u001b[33m[W 2023-04-28 01:22:28,235]\u001b[0m Param K4 unique value length is less than 2.\u001b[0m\n"
     ]
    },
    {
     "name": "stdout",
     "output_type": "stream",
     "text": [
      "Wind speed:  15\n"
     ]
    },
    {
     "data": {
      "application/vnd.jupyter.widget-view+json": {
       "model_id": "704f9a8da774478eb839c23f9226c0fc",
       "version_major": 2,
       "version_minor": 0
      },
      "text/plain": [
       "  0%|          | 0/10 [00:00<?, ?it/s]"
      ]
     },
     "metadata": {},
     "output_type": "display_data"
    },
    {
     "name": "stdout",
     "output_type": "stream",
     "text": [
      "Trial 0 finished with best value: 20.54263858417414 and parameters: {'K1': 0.5139997994714776, 'K2': 1.8454795087643008, 'K3': 0.0, 'K4': 0.0, 'K5': 0.0}. \n",
      "Trial 1 finished with best value: 20.346989949375804 and parameters: {'K1': 0.6663050014292948, 'K2': 1.851634197742718, 'K3': 0.0, 'K4': 0.0, 'K5': 0.0}. \n",
      "Trial 5 finished with best value: 19.390719429665317 and parameters: {'K1': 0.5917076119643561, 'K2': 1.5278440242789393, 'K3': 0.0, 'K4': 0.0, 'K5': 0.0}. \n",
      "Trial 4 finished with best value: 19.026297590440446 and parameters: {'K1': 0.6241285410161241, 'K2': 1.477972362235575, 'K3': 0.0, 'K4': 0.0, 'K5': 0.0}. \n",
      "Trial 6 finished with best value: 18.439088914585774 and parameters: {'K1': 0.5623429521096054, 'K2': 1.4495548597191892, 'K3': 0.0, 'K4': 0.0, 'K5': 0.0}. \n"
     ]
    },
    {
     "name": "stderr",
     "output_type": "stream",
     "text": [
      "\u001b[33m[W 2023-04-28 01:38:52,528]\u001b[0m Output figures of this Matplotlib-based `plot_contour` function would be different from those of the Plotly-based `plot_contour`.\u001b[0m\n",
      "\u001b[33m[W 2023-04-28 01:38:52,529]\u001b[0m Param K3 unique value length is less than 2.\u001b[0m\n",
      "\u001b[33m[W 2023-04-28 01:38:52,529]\u001b[0m Param K4 unique value length is less than 2.\u001b[0m\n",
      "\u001b[33m[W 2023-04-28 01:38:52,530]\u001b[0m Param K5 unique value length is less than 2.\u001b[0m\n",
      "\u001b[33m[W 2023-04-28 01:38:52,530]\u001b[0m Param K3 unique value length is less than 2.\u001b[0m\n",
      "\u001b[33m[W 2023-04-28 01:38:52,531]\u001b[0m Param K4 unique value length is less than 2.\u001b[0m\n",
      "\u001b[33m[W 2023-04-28 01:38:52,531]\u001b[0m Param K5 unique value length is less than 2.\u001b[0m\n",
      "\u001b[33m[W 2023-04-28 01:38:52,532]\u001b[0m Param K3 unique value length is less than 2.\u001b[0m\n",
      "\u001b[33m[W 2023-04-28 01:38:52,533]\u001b[0m Param K3 unique value length is less than 2.\u001b[0m\n",
      "\u001b[33m[W 2023-04-28 01:38:52,534]\u001b[0m Param K4 unique value length is less than 2.\u001b[0m\n",
      "\u001b[33m[W 2023-04-28 01:38:52,534]\u001b[0m Param K5 unique value length is less than 2.\u001b[0m\n",
      "\u001b[33m[W 2023-04-28 01:38:52,534]\u001b[0m Param K4 unique value length is less than 2.\u001b[0m\n",
      "\u001b[33m[W 2023-04-28 01:38:52,535]\u001b[0m Param K4 unique value length is less than 2.\u001b[0m\n",
      "\u001b[33m[W 2023-04-28 01:38:52,535]\u001b[0m Param K3 unique value length is less than 2.\u001b[0m\n",
      "\u001b[33m[W 2023-04-28 01:38:52,536]\u001b[0m Param K5 unique value length is less than 2.\u001b[0m\n",
      "\u001b[33m[W 2023-04-28 01:38:52,536]\u001b[0m Param K5 unique value length is less than 2.\u001b[0m\n",
      "\u001b[33m[W 2023-04-28 01:38:52,537]\u001b[0m Param K5 unique value length is less than 2.\u001b[0m\n",
      "\u001b[33m[W 2023-04-28 01:38:52,537]\u001b[0m Param K3 unique value length is less than 2.\u001b[0m\n",
      "\u001b[33m[W 2023-04-28 01:38:52,538]\u001b[0m Param K4 unique value length is less than 2.\u001b[0m\n"
     ]
    },
    {
     "name": "stdout",
     "output_type": "stream",
     "text": [
      "Wind speed:  20\n"
     ]
    },
    {
     "data": {
      "application/vnd.jupyter.widget-view+json": {
       "model_id": "5cad63fbeb664d2ab703af0ec4195bd4",
       "version_major": 2,
       "version_minor": 0
      },
      "text/plain": [
       "  0%|          | 0/10 [00:00<?, ?it/s]"
      ]
     },
     "metadata": {},
     "output_type": "display_data"
    },
    {
     "name": "stdout",
     "output_type": "stream",
     "text": [
      "Trial 3 finished with best value: 30.512292604784715 and parameters: {'K1': 0.1581014799446614, 'K2': 1.4058579911134517, 'K3': 0.0, 'K4': 0.0, 'K5': 0.0}. \n",
      "Trial 2 finished with best value: 30.347981810987037 and parameters: {'K1': 0.23304370423803378, 'K2': 1.6470882087322347, 'K3': 0.0, 'K4': 0.0, 'K5': 0.0}. \n",
      "Trial 1 finished with best value: 29.017236257093817 and parameters: {'K1': 0.2632764185487694, 'K2': 1.2348487761988096, 'K3': 0.0, 'K4': 0.0, 'K5': 0.0}. \n",
      "Trial 4 finished with best value: 28.844410203711913 and parameters: {'K1': 0.43352652866736563, 'K2': 1.5139934080183666, 'K3': 0.0, 'K4': 0.0, 'K5': 0.0}. \n",
      "Trial 5 finished with best value: 23.727621035409346 and parameters: {'K1': 0.6025821023028425, 'K2': 1.08835909642713, 'K3': 0.0, 'K4': 0.0, 'K5': 0.0}. \n"
     ]
    },
    {
     "name": "stderr",
     "output_type": "stream",
     "text": [
      "\u001b[33m[W 2023-04-28 01:57:36,012]\u001b[0m Output figures of this Matplotlib-based `plot_contour` function would be different from those of the Plotly-based `plot_contour`.\u001b[0m\n",
      "\u001b[33m[W 2023-04-28 01:57:36,013]\u001b[0m Param K3 unique value length is less than 2.\u001b[0m\n",
      "\u001b[33m[W 2023-04-28 01:57:36,014]\u001b[0m Param K4 unique value length is less than 2.\u001b[0m\n",
      "\u001b[33m[W 2023-04-28 01:57:36,015]\u001b[0m Param K5 unique value length is less than 2.\u001b[0m\n",
      "\u001b[33m[W 2023-04-28 01:57:36,015]\u001b[0m Param K3 unique value length is less than 2.\u001b[0m\n",
      "\u001b[33m[W 2023-04-28 01:57:36,016]\u001b[0m Param K4 unique value length is less than 2.\u001b[0m\n",
      "\u001b[33m[W 2023-04-28 01:57:36,017]\u001b[0m Param K5 unique value length is less than 2.\u001b[0m\n",
      "\u001b[33m[W 2023-04-28 01:57:36,017]\u001b[0m Param K3 unique value length is less than 2.\u001b[0m\n",
      "\u001b[33m[W 2023-04-28 01:57:36,018]\u001b[0m Param K3 unique value length is less than 2.\u001b[0m\n",
      "\u001b[33m[W 2023-04-28 01:57:36,018]\u001b[0m Param K4 unique value length is less than 2.\u001b[0m\n",
      "\u001b[33m[W 2023-04-28 01:57:36,019]\u001b[0m Param K5 unique value length is less than 2.\u001b[0m\n",
      "\u001b[33m[W 2023-04-28 01:57:36,019]\u001b[0m Param K4 unique value length is less than 2.\u001b[0m\n",
      "\u001b[33m[W 2023-04-28 01:57:36,020]\u001b[0m Param K4 unique value length is less than 2.\u001b[0m\n",
      "\u001b[33m[W 2023-04-28 01:57:36,021]\u001b[0m Param K3 unique value length is less than 2.\u001b[0m\n",
      "\u001b[33m[W 2023-04-28 01:57:36,021]\u001b[0m Param K5 unique value length is less than 2.\u001b[0m\n",
      "\u001b[33m[W 2023-04-28 01:57:36,022]\u001b[0m Param K5 unique value length is less than 2.\u001b[0m\n",
      "\u001b[33m[W 2023-04-28 01:57:36,022]\u001b[0m Param K5 unique value length is less than 2.\u001b[0m\n",
      "\u001b[33m[W 2023-04-28 01:57:36,023]\u001b[0m Param K3 unique value length is less than 2.\u001b[0m\n",
      "\u001b[33m[W 2023-04-28 01:57:36,023]\u001b[0m Param K4 unique value length is less than 2.\u001b[0m\n"
     ]
    },
    {
     "name": "stdout",
     "output_type": "stream",
     "text": [
      "Wind speed:  30\n"
     ]
    },
    {
     "data": {
      "application/vnd.jupyter.widget-view+json": {
       "model_id": "479536676e684023a9f3d346a4e38e6f",
       "version_major": 2,
       "version_minor": 0
      },
      "text/plain": [
       "  0%|          | 0/10 [00:00<?, ?it/s]"
      ]
     },
     "metadata": {},
     "output_type": "display_data"
    },
    {
     "name": "stdout",
     "output_type": "stream",
     "text": [
      "Trial 1 finished with best value: 44.844174649557324 and parameters: {'K1': 0.44178393662832416, 'K2': 1.8694163001448787, 'K3': 0.0, 'K4': 0.0, 'K5': 0.0}. \n",
      "Trial 2 finished with best value: 43.32435804486894 and parameters: {'K1': 0.9373365941020885, 'K2': 1.4481738030351816, 'K3': 0.0, 'K4': 0.0, 'K5': 0.0}. \n"
     ]
    },
    {
     "name": "stderr",
     "output_type": "stream",
     "text": [
      "\u001b[33m[W 2023-04-28 02:39:10,329]\u001b[0m Output figures of this Matplotlib-based `plot_contour` function would be different from those of the Plotly-based `plot_contour`.\u001b[0m\n",
      "\u001b[33m[W 2023-04-28 02:39:10,330]\u001b[0m Param K3 unique value length is less than 2.\u001b[0m\n",
      "\u001b[33m[W 2023-04-28 02:39:10,331]\u001b[0m Param K4 unique value length is less than 2.\u001b[0m\n",
      "\u001b[33m[W 2023-04-28 02:39:10,331]\u001b[0m Param K5 unique value length is less than 2.\u001b[0m\n",
      "\u001b[33m[W 2023-04-28 02:39:10,332]\u001b[0m Param K3 unique value length is less than 2.\u001b[0m\n",
      "\u001b[33m[W 2023-04-28 02:39:10,332]\u001b[0m Param K4 unique value length is less than 2.\u001b[0m\n",
      "\u001b[33m[W 2023-04-28 02:39:10,333]\u001b[0m Param K5 unique value length is less than 2.\u001b[0m\n",
      "\u001b[33m[W 2023-04-28 02:39:10,334]\u001b[0m Param K3 unique value length is less than 2.\u001b[0m\n",
      "\u001b[33m[W 2023-04-28 02:39:10,334]\u001b[0m Param K3 unique value length is less than 2.\u001b[0m\n",
      "\u001b[33m[W 2023-04-28 02:39:10,335]\u001b[0m Param K4 unique value length is less than 2.\u001b[0m\n",
      "\u001b[33m[W 2023-04-28 02:39:10,335]\u001b[0m Param K5 unique value length is less than 2.\u001b[0m\n",
      "\u001b[33m[W 2023-04-28 02:39:10,336]\u001b[0m Param K4 unique value length is less than 2.\u001b[0m\n",
      "\u001b[33m[W 2023-04-28 02:39:10,336]\u001b[0m Param K4 unique value length is less than 2.\u001b[0m\n",
      "\u001b[33m[W 2023-04-28 02:39:10,337]\u001b[0m Param K3 unique value length is less than 2.\u001b[0m\n",
      "\u001b[33m[W 2023-04-28 02:39:10,338]\u001b[0m Param K5 unique value length is less than 2.\u001b[0m\n",
      "\u001b[33m[W 2023-04-28 02:39:10,338]\u001b[0m Param K5 unique value length is less than 2.\u001b[0m\n",
      "\u001b[33m[W 2023-04-28 02:39:10,339]\u001b[0m Param K5 unique value length is less than 2.\u001b[0m\n",
      "\u001b[33m[W 2023-04-28 02:39:10,339]\u001b[0m Param K3 unique value length is less than 2.\u001b[0m\n",
      "\u001b[33m[W 2023-04-28 02:39:10,340]\u001b[0m Param K4 unique value length is less than 2.\u001b[0m\n"
     ]
    },
    {
     "name": "stdout",
     "output_type": "stream",
     "text": [
      "Wind speed:  0\n"
     ]
    },
    {
     "data": {
      "application/vnd.jupyter.widget-view+json": {
       "model_id": "391fb97bff314674a7460604190bf783",
       "version_major": 2,
       "version_minor": 0
      },
      "text/plain": [
       "  0%|          | 0/10 [00:00<?, ?it/s]"
      ]
     },
     "metadata": {},
     "output_type": "display_data"
    },
    {
     "name": "stdout",
     "output_type": "stream",
     "text": [
      "Trial 2 finished with best value: 1.4142135623730951 and parameters: {'K1': 0.9083204138985129, 'K2': 1.6776716569378327, 'K3': 0.0, 'K4': 0.0, 'K5': 0.0}. \n"
     ]
    },
    {
     "name": "stderr",
     "output_type": "stream",
     "text": [
      "\u001b[33m[W 2023-04-28 02:42:28,162]\u001b[0m Output figures of this Matplotlib-based `plot_contour` function would be different from those of the Plotly-based `plot_contour`.\u001b[0m\n",
      "\u001b[33m[W 2023-04-28 02:42:28,164]\u001b[0m Param K3 unique value length is less than 2.\u001b[0m\n",
      "\u001b[33m[W 2023-04-28 02:42:28,165]\u001b[0m Param K4 unique value length is less than 2.\u001b[0m\n",
      "\u001b[33m[W 2023-04-28 02:42:28,165]\u001b[0m Param K5 unique value length is less than 2.\u001b[0m\n",
      "\u001b[33m[W 2023-04-28 02:42:28,166]\u001b[0m Param K3 unique value length is less than 2.\u001b[0m\n",
      "\u001b[33m[W 2023-04-28 02:42:28,167]\u001b[0m Param K4 unique value length is less than 2.\u001b[0m\n",
      "\u001b[33m[W 2023-04-28 02:42:28,167]\u001b[0m Param K5 unique value length is less than 2.\u001b[0m\n",
      "\u001b[33m[W 2023-04-28 02:42:28,168]\u001b[0m Param K3 unique value length is less than 2.\u001b[0m\n",
      "\u001b[33m[W 2023-04-28 02:42:28,169]\u001b[0m Param K3 unique value length is less than 2.\u001b[0m\n",
      "\u001b[33m[W 2023-04-28 02:42:28,170]\u001b[0m Param K4 unique value length is less than 2.\u001b[0m\n",
      "\u001b[33m[W 2023-04-28 02:42:28,170]\u001b[0m Param K5 unique value length is less than 2.\u001b[0m\n",
      "\u001b[33m[W 2023-04-28 02:42:28,171]\u001b[0m Param K4 unique value length is less than 2.\u001b[0m\n",
      "\u001b[33m[W 2023-04-28 02:42:28,171]\u001b[0m Param K4 unique value length is less than 2.\u001b[0m\n",
      "\u001b[33m[W 2023-04-28 02:42:28,172]\u001b[0m Param K3 unique value length is less than 2.\u001b[0m\n",
      "\u001b[33m[W 2023-04-28 02:42:28,172]\u001b[0m Param K5 unique value length is less than 2.\u001b[0m\n",
      "\u001b[33m[W 2023-04-28 02:42:28,173]\u001b[0m Param K5 unique value length is less than 2.\u001b[0m\n",
      "\u001b[33m[W 2023-04-28 02:42:28,173]\u001b[0m Param K5 unique value length is less than 2.\u001b[0m\n",
      "\u001b[33m[W 2023-04-28 02:42:28,174]\u001b[0m Param K3 unique value length is less than 2.\u001b[0m\n",
      "\u001b[33m[W 2023-04-28 02:42:28,175]\u001b[0m Param K4 unique value length is less than 2.\u001b[0m\n"
     ]
    },
    {
     "name": "stdout",
     "output_type": "stream",
     "text": [
      "Wind speed:  1\n"
     ]
    },
    {
     "data": {
      "application/vnd.jupyter.widget-view+json": {
       "model_id": "44037f75ea8e46938824b0aa0420de5f",
       "version_major": 2,
       "version_minor": 0
      },
      "text/plain": [
       "  0%|          | 0/10 [00:00<?, ?it/s]"
      ]
     },
     "metadata": {},
     "output_type": "display_data"
    },
    {
     "name": "stdout",
     "output_type": "stream",
     "text": [
      "Trial 3 finished with best value: 2.0 and parameters: {'K1': 0.07778672070835391, 'K2': 1.457767004419244, 'K3': 0.0, 'K4': 0.0, 'K5': 0.0}. \n"
     ]
    },
    {
     "name": "stderr",
     "output_type": "stream",
     "text": [
      "\u001b[33m[W 2023-04-28 02:45:46,962]\u001b[0m Output figures of this Matplotlib-based `plot_contour` function would be different from those of the Plotly-based `plot_contour`.\u001b[0m\n",
      "\u001b[33m[W 2023-04-28 02:45:46,964]\u001b[0m Param K3 unique value length is less than 2.\u001b[0m\n",
      "\u001b[33m[W 2023-04-28 02:45:46,964]\u001b[0m Param K4 unique value length is less than 2.\u001b[0m\n",
      "\u001b[33m[W 2023-04-28 02:45:46,966]\u001b[0m Param K5 unique value length is less than 2.\u001b[0m\n",
      "\u001b[33m[W 2023-04-28 02:45:46,967]\u001b[0m Param K3 unique value length is less than 2.\u001b[0m\n",
      "\u001b[33m[W 2023-04-28 02:45:46,967]\u001b[0m Param K4 unique value length is less than 2.\u001b[0m\n",
      "\u001b[33m[W 2023-04-28 02:45:46,968]\u001b[0m Param K5 unique value length is less than 2.\u001b[0m\n",
      "\u001b[33m[W 2023-04-28 02:45:46,969]\u001b[0m Param K3 unique value length is less than 2.\u001b[0m\n",
      "\u001b[33m[W 2023-04-28 02:45:46,970]\u001b[0m Param K3 unique value length is less than 2.\u001b[0m\n",
      "\u001b[33m[W 2023-04-28 02:45:46,971]\u001b[0m Param K4 unique value length is less than 2.\u001b[0m\n",
      "\u001b[33m[W 2023-04-28 02:45:46,971]\u001b[0m Param K5 unique value length is less than 2.\u001b[0m\n",
      "\u001b[33m[W 2023-04-28 02:45:46,972]\u001b[0m Param K4 unique value length is less than 2.\u001b[0m\n",
      "\u001b[33m[W 2023-04-28 02:45:46,972]\u001b[0m Param K4 unique value length is less than 2.\u001b[0m\n",
      "\u001b[33m[W 2023-04-28 02:45:46,973]\u001b[0m Param K3 unique value length is less than 2.\u001b[0m\n",
      "\u001b[33m[W 2023-04-28 02:45:46,973]\u001b[0m Param K5 unique value length is less than 2.\u001b[0m\n",
      "\u001b[33m[W 2023-04-28 02:45:46,973]\u001b[0m Param K5 unique value length is less than 2.\u001b[0m\n",
      "\u001b[33m[W 2023-04-28 02:45:46,974]\u001b[0m Param K5 unique value length is less than 2.\u001b[0m\n",
      "\u001b[33m[W 2023-04-28 02:45:46,974]\u001b[0m Param K3 unique value length is less than 2.\u001b[0m\n",
      "\u001b[33m[W 2023-04-28 02:45:46,975]\u001b[0m Param K4 unique value length is less than 2.\u001b[0m\n"
     ]
    },
    {
     "name": "stdout",
     "output_type": "stream",
     "text": [
      "Wind speed:  2\n"
     ]
    },
    {
     "data": {
      "application/vnd.jupyter.widget-view+json": {
       "model_id": "f6c5a90e198a440ca16dd0bffeb12ca8",
       "version_major": 2,
       "version_minor": 0
      },
      "text/plain": [
       "  0%|          | 0/10 [00:00<?, ?it/s]"
      ]
     },
     "metadata": {},
     "output_type": "display_data"
    },
    {
     "name": "stdout",
     "output_type": "stream",
     "text": [
      "Trial 3 finished with best value: 2.8284271247461903 and parameters: {'K1': 0.48411955175271104, 'K2': 1.769425993950874, 'K3': 0.0, 'K4': 0.0, 'K5': 0.0}. \n"
     ]
    },
    {
     "name": "stderr",
     "output_type": "stream",
     "text": [
      "\u001b[33m[W 2023-04-28 02:49:05,779]\u001b[0m Output figures of this Matplotlib-based `plot_contour` function would be different from those of the Plotly-based `plot_contour`.\u001b[0m\n",
      "\u001b[33m[W 2023-04-28 02:49:05,781]\u001b[0m Param K3 unique value length is less than 2.\u001b[0m\n",
      "\u001b[33m[W 2023-04-28 02:49:05,782]\u001b[0m Param K4 unique value length is less than 2.\u001b[0m\n",
      "\u001b[33m[W 2023-04-28 02:49:05,782]\u001b[0m Param K5 unique value length is less than 2.\u001b[0m\n",
      "\u001b[33m[W 2023-04-28 02:49:05,783]\u001b[0m Param K3 unique value length is less than 2.\u001b[0m\n",
      "\u001b[33m[W 2023-04-28 02:49:05,784]\u001b[0m Param K4 unique value length is less than 2.\u001b[0m\n",
      "\u001b[33m[W 2023-04-28 02:49:05,784]\u001b[0m Param K5 unique value length is less than 2.\u001b[0m\n",
      "\u001b[33m[W 2023-04-28 02:49:05,785]\u001b[0m Param K3 unique value length is less than 2.\u001b[0m\n",
      "\u001b[33m[W 2023-04-28 02:49:05,786]\u001b[0m Param K3 unique value length is less than 2.\u001b[0m\n",
      "\u001b[33m[W 2023-04-28 02:49:05,786]\u001b[0m Param K4 unique value length is less than 2.\u001b[0m\n",
      "\u001b[33m[W 2023-04-28 02:49:05,787]\u001b[0m Param K5 unique value length is less than 2.\u001b[0m\n",
      "\u001b[33m[W 2023-04-28 02:49:05,788]\u001b[0m Param K4 unique value length is less than 2.\u001b[0m\n",
      "\u001b[33m[W 2023-04-28 02:49:05,788]\u001b[0m Param K4 unique value length is less than 2.\u001b[0m\n",
      "\u001b[33m[W 2023-04-28 02:49:05,789]\u001b[0m Param K3 unique value length is less than 2.\u001b[0m\n",
      "\u001b[33m[W 2023-04-28 02:49:05,790]\u001b[0m Param K5 unique value length is less than 2.\u001b[0m\n",
      "\u001b[33m[W 2023-04-28 02:49:05,791]\u001b[0m Param K5 unique value length is less than 2.\u001b[0m\n",
      "\u001b[33m[W 2023-04-28 02:49:05,792]\u001b[0m Param K5 unique value length is less than 2.\u001b[0m\n",
      "\u001b[33m[W 2023-04-28 02:49:05,793]\u001b[0m Param K3 unique value length is less than 2.\u001b[0m\n",
      "\u001b[33m[W 2023-04-28 02:49:05,793]\u001b[0m Param K4 unique value length is less than 2.\u001b[0m\n"
     ]
    },
    {
     "name": "stdout",
     "output_type": "stream",
     "text": [
      "Wind speed:  9\n"
     ]
    },
    {
     "data": {
      "application/vnd.jupyter.widget-view+json": {
       "model_id": "02a7014a59724913b18fad91f26834d5",
       "version_major": 2,
       "version_minor": 0
      },
      "text/plain": [
       "  0%|          | 0/10 [00:00<?, ?it/s]"
      ]
     },
     "metadata": {},
     "output_type": "display_data"
    },
    {
     "name": "stdout",
     "output_type": "stream",
     "text": [
      "Trial 3 finished with best value: 11.661903789690601 and parameters: {'K1': 0.18670558828791528, 'K2': 1.6320072323895831, 'K3': 0.0, 'K4': 0.0, 'K5': 0.0}. \n",
      "Trial 2 finished with best value: 10.677078252031311 and parameters: {'K1': 0.2947999749424798, 'K2': 1.893977106379597, 'K3': 0.0, 'K4': 0.0, 'K5': 0.0}. \n",
      "Trial 1 finished with best value: 9.1104335791443 and parameters: {'K1': 0.32987675957468376, 'K2': 1.3746607444186738, 'K3': 0.0, 'K4': 0.0, 'K5': 0.0}. \n",
      "Trial 9 finished with best value: 8.366600265340756 and parameters: {'K1': 0.40513723384497513, 'K2': 1.3615162176121565, 'K3': 0.0, 'K4': 0.0, 'K5': 0.0}. \n"
     ]
    },
    {
     "name": "stderr",
     "output_type": "stream",
     "text": [
      "\u001b[33m[W 2023-04-28 02:56:41,851]\u001b[0m Output figures of this Matplotlib-based `plot_contour` function would be different from those of the Plotly-based `plot_contour`.\u001b[0m\n",
      "\u001b[33m[W 2023-04-28 02:56:41,853]\u001b[0m Param K3 unique value length is less than 2.\u001b[0m\n",
      "\u001b[33m[W 2023-04-28 02:56:41,853]\u001b[0m Param K4 unique value length is less than 2.\u001b[0m\n",
      "\u001b[33m[W 2023-04-28 02:56:41,854]\u001b[0m Param K5 unique value length is less than 2.\u001b[0m\n",
      "\u001b[33m[W 2023-04-28 02:56:41,854]\u001b[0m Param K3 unique value length is less than 2.\u001b[0m\n",
      "\u001b[33m[W 2023-04-28 02:56:41,855]\u001b[0m Param K4 unique value length is less than 2.\u001b[0m\n",
      "\u001b[33m[W 2023-04-28 02:56:41,855]\u001b[0m Param K5 unique value length is less than 2.\u001b[0m\n",
      "\u001b[33m[W 2023-04-28 02:56:41,856]\u001b[0m Param K3 unique value length is less than 2.\u001b[0m\n",
      "\u001b[33m[W 2023-04-28 02:56:41,856]\u001b[0m Param K3 unique value length is less than 2.\u001b[0m\n",
      "\u001b[33m[W 2023-04-28 02:56:41,857]\u001b[0m Param K4 unique value length is less than 2.\u001b[0m\n",
      "\u001b[33m[W 2023-04-28 02:56:41,857]\u001b[0m Param K5 unique value length is less than 2.\u001b[0m\n",
      "\u001b[33m[W 2023-04-28 02:56:41,858]\u001b[0m Param K4 unique value length is less than 2.\u001b[0m\n",
      "\u001b[33m[W 2023-04-28 02:56:41,858]\u001b[0m Param K4 unique value length is less than 2.\u001b[0m\n",
      "\u001b[33m[W 2023-04-28 02:56:41,859]\u001b[0m Param K3 unique value length is less than 2.\u001b[0m\n",
      "\u001b[33m[W 2023-04-28 02:56:41,859]\u001b[0m Param K5 unique value length is less than 2.\u001b[0m\n",
      "\u001b[33m[W 2023-04-28 02:56:41,860]\u001b[0m Param K5 unique value length is less than 2.\u001b[0m\n",
      "\u001b[33m[W 2023-04-28 02:56:41,860]\u001b[0m Param K5 unique value length is less than 2.\u001b[0m\n",
      "\u001b[33m[W 2023-04-28 02:56:41,860]\u001b[0m Param K3 unique value length is less than 2.\u001b[0m\n",
      "\u001b[33m[W 2023-04-28 02:56:41,861]\u001b[0m Param K4 unique value length is less than 2.\u001b[0m\n"
     ]
    },
    {
     "name": "stdout",
     "output_type": "stream",
     "text": [
      "Wind speed:  10\n"
     ]
    },
    {
     "data": {
      "application/vnd.jupyter.widget-view+json": {
       "model_id": "1f944ef5d0fe46bbb623cf4a11249377",
       "version_major": 2,
       "version_minor": 0
      },
      "text/plain": [
       "  0%|          | 0/10 [00:00<?, ?it/s]"
      ]
     },
     "metadata": {},
     "output_type": "display_data"
    },
    {
     "name": "stdout",
     "output_type": "stream",
     "text": [
      "Trial 0 finished with best value: 12.922847983320086 and parameters: {'K1': 0.2727750683601887, 'K2': 1.856981017482394, 'K3': 0.0, 'K4': 0.0, 'K5': 0.0}. \n",
      "Trial 4 finished with best value: 12.409673645990857 and parameters: {'K1': 0.2998413626084767, 'K2': 1.6662394102107587, 'K3': 0.0, 'K4': 0.0, 'K5': 0.0}. \n",
      "Trial 5 finished with best value: 10.63014581273465 and parameters: {'K1': 0.42472997308047855, 'K2': 1.450839082702634, 'K3': 0.0, 'K4': 0.0, 'K5': 0.0}. \n"
     ]
    },
    {
     "name": "stderr",
     "output_type": "stream",
     "text": [
      "\u001b[33m[W 2023-04-28 03:06:46,573]\u001b[0m Output figures of this Matplotlib-based `plot_contour` function would be different from those of the Plotly-based `plot_contour`.\u001b[0m\n",
      "\u001b[33m[W 2023-04-28 03:06:46,574]\u001b[0m Param K3 unique value length is less than 2.\u001b[0m\n",
      "\u001b[33m[W 2023-04-28 03:06:46,575]\u001b[0m Param K4 unique value length is less than 2.\u001b[0m\n",
      "\u001b[33m[W 2023-04-28 03:06:46,575]\u001b[0m Param K5 unique value length is less than 2.\u001b[0m\n",
      "\u001b[33m[W 2023-04-28 03:06:46,576]\u001b[0m Param K3 unique value length is less than 2.\u001b[0m\n",
      "\u001b[33m[W 2023-04-28 03:06:46,576]\u001b[0m Param K4 unique value length is less than 2.\u001b[0m\n",
      "\u001b[33m[W 2023-04-28 03:06:46,577]\u001b[0m Param K5 unique value length is less than 2.\u001b[0m\n",
      "\u001b[33m[W 2023-04-28 03:06:46,578]\u001b[0m Param K3 unique value length is less than 2.\u001b[0m\n",
      "\u001b[33m[W 2023-04-28 03:06:46,578]\u001b[0m Param K3 unique value length is less than 2.\u001b[0m\n",
      "\u001b[33m[W 2023-04-28 03:06:46,579]\u001b[0m Param K4 unique value length is less than 2.\u001b[0m\n",
      "\u001b[33m[W 2023-04-28 03:06:46,579]\u001b[0m Param K5 unique value length is less than 2.\u001b[0m\n",
      "\u001b[33m[W 2023-04-28 03:06:46,580]\u001b[0m Param K4 unique value length is less than 2.\u001b[0m\n",
      "\u001b[33m[W 2023-04-28 03:06:46,580]\u001b[0m Param K4 unique value length is less than 2.\u001b[0m\n",
      "\u001b[33m[W 2023-04-28 03:06:46,581]\u001b[0m Param K3 unique value length is less than 2.\u001b[0m\n",
      "\u001b[33m[W 2023-04-28 03:06:46,581]\u001b[0m Param K5 unique value length is less than 2.\u001b[0m\n",
      "\u001b[33m[W 2023-04-28 03:06:46,582]\u001b[0m Param K5 unique value length is less than 2.\u001b[0m\n",
      "\u001b[33m[W 2023-04-28 03:06:46,583]\u001b[0m Param K5 unique value length is less than 2.\u001b[0m\n",
      "\u001b[33m[W 2023-04-28 03:06:46,583]\u001b[0m Param K3 unique value length is less than 2.\u001b[0m\n",
      "\u001b[33m[W 2023-04-28 03:06:46,584]\u001b[0m Param K4 unique value length is less than 2.\u001b[0m\n"
     ]
    },
    {
     "name": "stdout",
     "output_type": "stream",
     "text": [
      "Wind speed:  15\n"
     ]
    },
    {
     "data": {
      "application/vnd.jupyter.widget-view+json": {
       "model_id": "bd99f859acf64bff84e1d37e599f9130",
       "version_major": 2,
       "version_minor": 0
      },
      "text/plain": [
       "  0%|          | 0/10 [00:00<?, ?it/s]"
      ]
     },
     "metadata": {},
     "output_type": "display_data"
    },
    {
     "name": "stdout",
     "output_type": "stream",
     "text": [
      "Trial 3 finished with best value: 20.591260281974 and parameters: {'K1': 0.4745349873724305, 'K2': 1.8004069897653654, 'K3': 0.0, 'K4': 0.0, 'K5': 0.0}. \n",
      "Trial 2 finished with best value: 19.28730152198591 and parameters: {'K1': 0.568038408835445, 'K2': 1.6341625420393617, 'K3': 0.0, 'K4': 0.0, 'K5': 0.0}. \n",
      "Trial 8 finished with best value: 18.920887928424502 and parameters: {'K1': 0.7070466240289283, 'K2': 1.5552192906914462, 'K3': 0.0, 'K4': 0.0, 'K5': 0.0}. \n"
     ]
    },
    {
     "name": "stderr",
     "output_type": "stream",
     "text": [
      "\u001b[33m[W 2023-04-28 03:23:51,037]\u001b[0m Output figures of this Matplotlib-based `plot_contour` function would be different from those of the Plotly-based `plot_contour`.\u001b[0m\n",
      "\u001b[33m[W 2023-04-28 03:23:51,039]\u001b[0m Param K3 unique value length is less than 2.\u001b[0m\n",
      "\u001b[33m[W 2023-04-28 03:23:51,039]\u001b[0m Param K4 unique value length is less than 2.\u001b[0m\n",
      "\u001b[33m[W 2023-04-28 03:23:51,040]\u001b[0m Param K5 unique value length is less than 2.\u001b[0m\n",
      "\u001b[33m[W 2023-04-28 03:23:51,041]\u001b[0m Param K3 unique value length is less than 2.\u001b[0m\n",
      "\u001b[33m[W 2023-04-28 03:23:51,041]\u001b[0m Param K4 unique value length is less than 2.\u001b[0m\n",
      "\u001b[33m[W 2023-04-28 03:23:51,042]\u001b[0m Param K5 unique value length is less than 2.\u001b[0m\n",
      "\u001b[33m[W 2023-04-28 03:23:51,042]\u001b[0m Param K3 unique value length is less than 2.\u001b[0m\n",
      "\u001b[33m[W 2023-04-28 03:23:51,043]\u001b[0m Param K3 unique value length is less than 2.\u001b[0m\n",
      "\u001b[33m[W 2023-04-28 03:23:51,044]\u001b[0m Param K4 unique value length is less than 2.\u001b[0m\n",
      "\u001b[33m[W 2023-04-28 03:23:51,044]\u001b[0m Param K5 unique value length is less than 2.\u001b[0m\n",
      "\u001b[33m[W 2023-04-28 03:23:51,045]\u001b[0m Param K4 unique value length is less than 2.\u001b[0m\n",
      "\u001b[33m[W 2023-04-28 03:23:51,045]\u001b[0m Param K4 unique value length is less than 2.\u001b[0m\n",
      "\u001b[33m[W 2023-04-28 03:23:51,046]\u001b[0m Param K3 unique value length is less than 2.\u001b[0m\n",
      "\u001b[33m[W 2023-04-28 03:23:51,046]\u001b[0m Param K5 unique value length is less than 2.\u001b[0m\n",
      "\u001b[33m[W 2023-04-28 03:23:51,047]\u001b[0m Param K5 unique value length is less than 2.\u001b[0m\n",
      "\u001b[33m[W 2023-04-28 03:23:51,048]\u001b[0m Param K5 unique value length is less than 2.\u001b[0m\n",
      "\u001b[33m[W 2023-04-28 03:23:51,049]\u001b[0m Param K3 unique value length is less than 2.\u001b[0m\n",
      "\u001b[33m[W 2023-04-28 03:23:51,049]\u001b[0m Param K4 unique value length is less than 2.\u001b[0m\n"
     ]
    },
    {
     "name": "stdout",
     "output_type": "stream",
     "text": [
      "Wind speed:  20\n"
     ]
    },
    {
     "data": {
      "application/vnd.jupyter.widget-view+json": {
       "model_id": "d81284c4c62448468245b084c5950d10",
       "version_major": 2,
       "version_minor": 0
      },
      "text/plain": [
       "  0%|          | 0/10 [00:00<?, ?it/s]"
      ]
     },
     "metadata": {},
     "output_type": "display_data"
    },
    {
     "name": "stdout",
     "output_type": "stream",
     "text": [
      "Trial 1 finished with best value: 29.698484809834994 and parameters: {'K1': 0.31311963236549367, 'K2': 1.533973096592197, 'K3': 0.0, 'K4': 0.0, 'K5': 0.0}. \n",
      "Trial 2 finished with best value: 24.919871588754223 and parameters: {'K1': 0.5991708342326884, 'K2': 1.1699934025359653, 'K3': 0.0, 'K4': 0.0, 'K5': 0.0}. \n",
      "Trial 3 finished with best value: 24.657656011875904 and parameters: {'K1': 0.8540688301329853, 'K2': 1.1503296597600265, 'K3': 0.0, 'K4': 0.0, 'K5': 0.0}. \n"
     ]
    },
    {
     "name": "stderr",
     "output_type": "stream",
     "text": [
      "\u001b[33m[W 2023-04-28 03:42:38,785]\u001b[0m Output figures of this Matplotlib-based `plot_contour` function would be different from those of the Plotly-based `plot_contour`.\u001b[0m\n",
      "\u001b[33m[W 2023-04-28 03:42:38,786]\u001b[0m Param K3 unique value length is less than 2.\u001b[0m\n",
      "\u001b[33m[W 2023-04-28 03:42:38,787]\u001b[0m Param K4 unique value length is less than 2.\u001b[0m\n",
      "\u001b[33m[W 2023-04-28 03:42:38,788]\u001b[0m Param K5 unique value length is less than 2.\u001b[0m\n",
      "\u001b[33m[W 2023-04-28 03:42:38,789]\u001b[0m Param K3 unique value length is less than 2.\u001b[0m\n",
      "\u001b[33m[W 2023-04-28 03:42:38,790]\u001b[0m Param K4 unique value length is less than 2.\u001b[0m\n",
      "\u001b[33m[W 2023-04-28 03:42:38,791]\u001b[0m Param K5 unique value length is less than 2.\u001b[0m\n",
      "\u001b[33m[W 2023-04-28 03:42:38,791]\u001b[0m Param K3 unique value length is less than 2.\u001b[0m\n",
      "\u001b[33m[W 2023-04-28 03:42:38,792]\u001b[0m Param K3 unique value length is less than 2.\u001b[0m\n",
      "\u001b[33m[W 2023-04-28 03:42:38,793]\u001b[0m Param K4 unique value length is less than 2.\u001b[0m\n",
      "\u001b[33m[W 2023-04-28 03:42:38,793]\u001b[0m Param K5 unique value length is less than 2.\u001b[0m\n",
      "\u001b[33m[W 2023-04-28 03:42:38,794]\u001b[0m Param K4 unique value length is less than 2.\u001b[0m\n",
      "\u001b[33m[W 2023-04-28 03:42:38,795]\u001b[0m Param K4 unique value length is less than 2.\u001b[0m\n",
      "\u001b[33m[W 2023-04-28 03:42:38,796]\u001b[0m Param K3 unique value length is less than 2.\u001b[0m\n",
      "\u001b[33m[W 2023-04-28 03:42:38,796]\u001b[0m Param K5 unique value length is less than 2.\u001b[0m\n",
      "\u001b[33m[W 2023-04-28 03:42:38,797]\u001b[0m Param K5 unique value length is less than 2.\u001b[0m\n",
      "\u001b[33m[W 2023-04-28 03:42:38,798]\u001b[0m Param K5 unique value length is less than 2.\u001b[0m\n",
      "\u001b[33m[W 2023-04-28 03:42:38,798]\u001b[0m Param K3 unique value length is less than 2.\u001b[0m\n",
      "\u001b[33m[W 2023-04-28 03:42:38,799]\u001b[0m Param K4 unique value length is less than 2.\u001b[0m\n"
     ]
    },
    {
     "name": "stdout",
     "output_type": "stream",
     "text": [
      "Wind speed:  30\n"
     ]
    },
    {
     "data": {
      "application/vnd.jupyter.widget-view+json": {
       "model_id": "48b44f61f8c1430f9e607e40c2a003e6",
       "version_major": 2,
       "version_minor": 0
      },
      "text/plain": [
       "  0%|          | 0/10 [00:00<?, ?it/s]"
      ]
     },
     "metadata": {},
     "output_type": "display_data"
    },
    {
     "name": "stdout",
     "output_type": "stream",
     "text": [
      "Trial 1 finished with best value: 44.598206241955516 and parameters: {'K1': 0.9089869019073484, 'K2': 1.6140326312694337, 'K3': 0.0, 'K4': 0.0, 'K5': 0.0}. \n",
      "Trial 3 finished with best value: 44.328320518603 and parameters: {'K1': 0.674403813876316, 'K2': 1.4867610127604882, 'K3': 0.0, 'K4': 0.0, 'K5': 0.0}. \n",
      "Trial 2 finished with best value: 43.46262762420146 and parameters: {'K1': 0.4881351485467633, 'K2': 1.2736064338320399, 'K3': 0.0, 'K4': 0.0, 'K5': 0.0}. \n",
      "Trial 9 finished with best value: 41.60528812542944 and parameters: {'K1': 0.3933585929492669, 'K2': 1.0350337633198166, 'K3': 0.0, 'K4': 0.0, 'K5': 0.0}. \n"
     ]
    },
    {
     "name": "stderr",
     "output_type": "stream",
     "text": [
      "\u001b[33m[W 2023-04-28 04:29:06,282]\u001b[0m Output figures of this Matplotlib-based `plot_contour` function would be different from those of the Plotly-based `plot_contour`.\u001b[0m\n",
      "\u001b[33m[W 2023-04-28 04:29:06,284]\u001b[0m Param K3 unique value length is less than 2.\u001b[0m\n",
      "\u001b[33m[W 2023-04-28 04:29:06,284]\u001b[0m Param K4 unique value length is less than 2.\u001b[0m\n",
      "\u001b[33m[W 2023-04-28 04:29:06,285]\u001b[0m Param K5 unique value length is less than 2.\u001b[0m\n",
      "\u001b[33m[W 2023-04-28 04:29:06,286]\u001b[0m Param K3 unique value length is less than 2.\u001b[0m\n",
      "\u001b[33m[W 2023-04-28 04:29:06,286]\u001b[0m Param K4 unique value length is less than 2.\u001b[0m\n",
      "\u001b[33m[W 2023-04-28 04:29:06,287]\u001b[0m Param K5 unique value length is less than 2.\u001b[0m\n",
      "\u001b[33m[W 2023-04-28 04:29:06,287]\u001b[0m Param K3 unique value length is less than 2.\u001b[0m\n",
      "\u001b[33m[W 2023-04-28 04:29:06,288]\u001b[0m Param K3 unique value length is less than 2.\u001b[0m\n",
      "\u001b[33m[W 2023-04-28 04:29:06,288]\u001b[0m Param K4 unique value length is less than 2.\u001b[0m\n",
      "\u001b[33m[W 2023-04-28 04:29:06,289]\u001b[0m Param K5 unique value length is less than 2.\u001b[0m\n",
      "\u001b[33m[W 2023-04-28 04:29:06,290]\u001b[0m Param K4 unique value length is less than 2.\u001b[0m\n",
      "\u001b[33m[W 2023-04-28 04:29:06,290]\u001b[0m Param K4 unique value length is less than 2.\u001b[0m\n",
      "\u001b[33m[W 2023-04-28 04:29:06,291]\u001b[0m Param K3 unique value length is less than 2.\u001b[0m\n",
      "\u001b[33m[W 2023-04-28 04:29:06,291]\u001b[0m Param K5 unique value length is less than 2.\u001b[0m\n",
      "\u001b[33m[W 2023-04-28 04:29:06,292]\u001b[0m Param K5 unique value length is less than 2.\u001b[0m\n",
      "\u001b[33m[W 2023-04-28 04:29:06,292]\u001b[0m Param K5 unique value length is less than 2.\u001b[0m\n",
      "\u001b[33m[W 2023-04-28 04:29:06,293]\u001b[0m Param K3 unique value length is less than 2.\u001b[0m\n",
      "\u001b[33m[W 2023-04-28 04:29:06,294]\u001b[0m Param K4 unique value length is less than 2.\u001b[0m\n"
     ]
    },
    {
     "name": "stdout",
     "output_type": "stream",
     "text": [
      "Wind speed:  0\n"
     ]
    },
    {
     "data": {
      "application/vnd.jupyter.widget-view+json": {
       "model_id": "77b1793aeae4461f9b8b32cafc82c10e",
       "version_major": 2,
       "version_minor": 0
      },
      "text/plain": [
       "  0%|          | 0/10 [00:00<?, ?it/s]"
      ]
     },
     "metadata": {},
     "output_type": "display_data"
    },
    {
     "name": "stdout",
     "output_type": "stream",
     "text": [
      "Trial 0 finished with best value: 1.4142135623730951 and parameters: {'K1': 0.9309316621461073, 'K2': 1.5202381216976546, 'K3': 0.0, 'K4': 0.0, 'K5': 0.0}. \n"
     ]
    },
    {
     "name": "stderr",
     "output_type": "stream",
     "text": [
      "\u001b[33m[W 2023-04-28 04:32:27,843]\u001b[0m Output figures of this Matplotlib-based `plot_contour` function would be different from those of the Plotly-based `plot_contour`.\u001b[0m\n",
      "\u001b[33m[W 2023-04-28 04:32:27,845]\u001b[0m Param K3 unique value length is less than 2.\u001b[0m\n",
      "\u001b[33m[W 2023-04-28 04:32:27,846]\u001b[0m Param K4 unique value length is less than 2.\u001b[0m\n",
      "\u001b[33m[W 2023-04-28 04:32:27,846]\u001b[0m Param K5 unique value length is less than 2.\u001b[0m\n",
      "\u001b[33m[W 2023-04-28 04:32:27,848]\u001b[0m Param K3 unique value length is less than 2.\u001b[0m\n",
      "\u001b[33m[W 2023-04-28 04:32:27,848]\u001b[0m Param K4 unique value length is less than 2.\u001b[0m\n",
      "\u001b[33m[W 2023-04-28 04:32:27,849]\u001b[0m Param K5 unique value length is less than 2.\u001b[0m\n",
      "\u001b[33m[W 2023-04-28 04:32:27,850]\u001b[0m Param K3 unique value length is less than 2.\u001b[0m\n",
      "\u001b[33m[W 2023-04-28 04:32:27,850]\u001b[0m Param K3 unique value length is less than 2.\u001b[0m\n",
      "\u001b[33m[W 2023-04-28 04:32:27,851]\u001b[0m Param K4 unique value length is less than 2.\u001b[0m\n",
      "\u001b[33m[W 2023-04-28 04:32:27,852]\u001b[0m Param K5 unique value length is less than 2.\u001b[0m\n",
      "\u001b[33m[W 2023-04-28 04:32:27,853]\u001b[0m Param K4 unique value length is less than 2.\u001b[0m\n",
      "\u001b[33m[W 2023-04-28 04:32:27,853]\u001b[0m Param K4 unique value length is less than 2.\u001b[0m\n",
      "\u001b[33m[W 2023-04-28 04:32:27,854]\u001b[0m Param K3 unique value length is less than 2.\u001b[0m\n",
      "\u001b[33m[W 2023-04-28 04:32:27,855]\u001b[0m Param K5 unique value length is less than 2.\u001b[0m\n",
      "\u001b[33m[W 2023-04-28 04:32:27,856]\u001b[0m Param K5 unique value length is less than 2.\u001b[0m\n",
      "\u001b[33m[W 2023-04-28 04:32:27,856]\u001b[0m Param K5 unique value length is less than 2.\u001b[0m\n",
      "\u001b[33m[W 2023-04-28 04:32:27,857]\u001b[0m Param K3 unique value length is less than 2.\u001b[0m\n",
      "\u001b[33m[W 2023-04-28 04:32:27,858]\u001b[0m Param K4 unique value length is less than 2.\u001b[0m\n"
     ]
    },
    {
     "name": "stdout",
     "output_type": "stream",
     "text": [
      "Wind speed:  1\n"
     ]
    },
    {
     "data": {
      "application/vnd.jupyter.widget-view+json": {
       "model_id": "243b929662414ca3a3864033dce3c3b5",
       "version_major": 2,
       "version_minor": 0
      },
      "text/plain": [
       "  0%|          | 0/10 [00:00<?, ?it/s]"
      ]
     },
     "metadata": {},
     "output_type": "display_data"
    },
    {
     "name": "stdout",
     "output_type": "stream",
     "text": [
      "Trial 3 finished with best value: 2.0 and parameters: {'K1': 0.25783316349472185, 'K2': 1.7605240402914513, 'K3': 0.0, 'K4': 0.0, 'K5': 0.0}. \n"
     ]
    },
    {
     "name": "stderr",
     "output_type": "stream",
     "text": [
      "\u001b[33m[W 2023-04-28 04:35:49,024]\u001b[0m Output figures of this Matplotlib-based `plot_contour` function would be different from those of the Plotly-based `plot_contour`.\u001b[0m\n",
      "\u001b[33m[W 2023-04-28 04:35:49,025]\u001b[0m Param K3 unique value length is less than 2.\u001b[0m\n",
      "\u001b[33m[W 2023-04-28 04:35:49,026]\u001b[0m Param K4 unique value length is less than 2.\u001b[0m\n",
      "\u001b[33m[W 2023-04-28 04:35:49,027]\u001b[0m Param K5 unique value length is less than 2.\u001b[0m\n",
      "\u001b[33m[W 2023-04-28 04:35:49,027]\u001b[0m Param K3 unique value length is less than 2.\u001b[0m\n",
      "\u001b[33m[W 2023-04-28 04:35:49,028]\u001b[0m Param K4 unique value length is less than 2.\u001b[0m\n",
      "\u001b[33m[W 2023-04-28 04:35:49,029]\u001b[0m Param K5 unique value length is less than 2.\u001b[0m\n",
      "\u001b[33m[W 2023-04-28 04:35:49,029]\u001b[0m Param K3 unique value length is less than 2.\u001b[0m\n",
      "\u001b[33m[W 2023-04-28 04:35:49,030]\u001b[0m Param K3 unique value length is less than 2.\u001b[0m\n",
      "\u001b[33m[W 2023-04-28 04:35:49,031]\u001b[0m Param K4 unique value length is less than 2.\u001b[0m\n",
      "\u001b[33m[W 2023-04-28 04:35:49,031]\u001b[0m Param K5 unique value length is less than 2.\u001b[0m\n",
      "\u001b[33m[W 2023-04-28 04:35:49,032]\u001b[0m Param K4 unique value length is less than 2.\u001b[0m\n",
      "\u001b[33m[W 2023-04-28 04:35:49,032]\u001b[0m Param K4 unique value length is less than 2.\u001b[0m\n",
      "\u001b[33m[W 2023-04-28 04:35:49,033]\u001b[0m Param K3 unique value length is less than 2.\u001b[0m\n",
      "\u001b[33m[W 2023-04-28 04:35:49,034]\u001b[0m Param K5 unique value length is less than 2.\u001b[0m\n",
      "\u001b[33m[W 2023-04-28 04:35:49,034]\u001b[0m Param K5 unique value length is less than 2.\u001b[0m\n",
      "\u001b[33m[W 2023-04-28 04:35:49,035]\u001b[0m Param K5 unique value length is less than 2.\u001b[0m\n",
      "\u001b[33m[W 2023-04-28 04:35:49,035]\u001b[0m Param K3 unique value length is less than 2.\u001b[0m\n",
      "\u001b[33m[W 2023-04-28 04:35:49,036]\u001b[0m Param K4 unique value length is less than 2.\u001b[0m\n"
     ]
    },
    {
     "name": "stdout",
     "output_type": "stream",
     "text": [
      "Wind speed:  2\n"
     ]
    },
    {
     "data": {
      "application/vnd.jupyter.widget-view+json": {
       "model_id": "e93e4e8bd18a44afa4978a4af89d43bb",
       "version_major": 2,
       "version_minor": 0
      },
      "text/plain": [
       "  0%|          | 0/10 [00:00<?, ?it/s]"
      ]
     },
     "metadata": {},
     "output_type": "display_data"
    },
    {
     "name": "stdout",
     "output_type": "stream",
     "text": [
      "Trial 0 finished with best value: 2.8284271247461903 and parameters: {'K1': 0.6972351599438869, 'K2': 1.1094747429694496, 'K3': 0.0, 'K4': 0.0, 'K5': 0.0}. \n"
     ]
    },
    {
     "name": "stderr",
     "output_type": "stream",
     "text": [
      "\u001b[33m[W 2023-04-28 04:39:09,041]\u001b[0m Output figures of this Matplotlib-based `plot_contour` function would be different from those of the Plotly-based `plot_contour`.\u001b[0m\n",
      "\u001b[33m[W 2023-04-28 04:39:09,042]\u001b[0m Param K3 unique value length is less than 2.\u001b[0m\n",
      "\u001b[33m[W 2023-04-28 04:39:09,043]\u001b[0m Param K4 unique value length is less than 2.\u001b[0m\n",
      "\u001b[33m[W 2023-04-28 04:39:09,043]\u001b[0m Param K5 unique value length is less than 2.\u001b[0m\n",
      "\u001b[33m[W 2023-04-28 04:39:09,044]\u001b[0m Param K3 unique value length is less than 2.\u001b[0m\n",
      "\u001b[33m[W 2023-04-28 04:39:09,045]\u001b[0m Param K4 unique value length is less than 2.\u001b[0m\n",
      "\u001b[33m[W 2023-04-28 04:39:09,046]\u001b[0m Param K5 unique value length is less than 2.\u001b[0m\n",
      "\u001b[33m[W 2023-04-28 04:39:09,046]\u001b[0m Param K3 unique value length is less than 2.\u001b[0m\n",
      "\u001b[33m[W 2023-04-28 04:39:09,047]\u001b[0m Param K3 unique value length is less than 2.\u001b[0m\n",
      "\u001b[33m[W 2023-04-28 04:39:09,048]\u001b[0m Param K4 unique value length is less than 2.\u001b[0m\n",
      "\u001b[33m[W 2023-04-28 04:39:09,048]\u001b[0m Param K5 unique value length is less than 2.\u001b[0m\n",
      "\u001b[33m[W 2023-04-28 04:39:09,049]\u001b[0m Param K4 unique value length is less than 2.\u001b[0m\n",
      "\u001b[33m[W 2023-04-28 04:39:09,050]\u001b[0m Param K4 unique value length is less than 2.\u001b[0m\n",
      "\u001b[33m[W 2023-04-28 04:39:09,050]\u001b[0m Param K3 unique value length is less than 2.\u001b[0m\n",
      "\u001b[33m[W 2023-04-28 04:39:09,051]\u001b[0m Param K5 unique value length is less than 2.\u001b[0m\n",
      "\u001b[33m[W 2023-04-28 04:39:09,052]\u001b[0m Param K5 unique value length is less than 2.\u001b[0m\n",
      "\u001b[33m[W 2023-04-28 04:39:09,052]\u001b[0m Param K5 unique value length is less than 2.\u001b[0m\n",
      "\u001b[33m[W 2023-04-28 04:39:09,053]\u001b[0m Param K3 unique value length is less than 2.\u001b[0m\n",
      "\u001b[33m[W 2023-04-28 04:39:09,053]\u001b[0m Param K4 unique value length is less than 2.\u001b[0m\n"
     ]
    },
    {
     "name": "stdout",
     "output_type": "stream",
     "text": [
      "Wind speed:  9\n"
     ]
    },
    {
     "data": {
      "application/vnd.jupyter.widget-view+json": {
       "model_id": "d549ce705e574eee825b74a0a14a8418",
       "version_major": 2,
       "version_minor": 0
      },
      "text/plain": [
       "  0%|          | 0/10 [00:00<?, ?it/s]"
      ]
     },
     "metadata": {},
     "output_type": "display_data"
    },
    {
     "name": "stdout",
     "output_type": "stream",
     "text": [
      "Trial 1 finished with best value: 11.74734012447073 and parameters: {'K1': 0.16322352589502342, 'K2': 1.124483578286183, 'K3': 0.0, 'K4': 0.0, 'K5': 0.0}. \n",
      "Trial 0 finished with best value: 10.14889156509222 and parameters: {'K1': 0.39396092780539316, 'K2': 1.9868368120350328, 'K3': 0.0, 'K4': 0.0, 'K5': 0.0}. \n",
      "Trial 3 finished with best value: 8.831760866327848 and parameters: {'K1': 0.4726676114588426, 'K2': 1.5015858145252334, 'K3': 0.0, 'K4': 0.0, 'K5': 0.0}. \n"
     ]
    },
    {
     "name": "stderr",
     "output_type": "stream",
     "text": [
      "\u001b[33m[W 2023-04-28 04:52:01,252]\u001b[0m Output figures of this Matplotlib-based `plot_contour` function would be different from those of the Plotly-based `plot_contour`.\u001b[0m\n",
      "\u001b[33m[W 2023-04-28 04:52:01,254]\u001b[0m Param K3 unique value length is less than 2.\u001b[0m\n",
      "\u001b[33m[W 2023-04-28 04:52:01,255]\u001b[0m Param K4 unique value length is less than 2.\u001b[0m\n",
      "\u001b[33m[W 2023-04-28 04:52:01,255]\u001b[0m Param K5 unique value length is less than 2.\u001b[0m\n",
      "\u001b[33m[W 2023-04-28 04:52:01,256]\u001b[0m Param K3 unique value length is less than 2.\u001b[0m\n",
      "\u001b[33m[W 2023-04-28 04:52:01,257]\u001b[0m Param K4 unique value length is less than 2.\u001b[0m\n",
      "\u001b[33m[W 2023-04-28 04:52:01,257]\u001b[0m Param K5 unique value length is less than 2.\u001b[0m\n",
      "\u001b[33m[W 2023-04-28 04:52:01,258]\u001b[0m Param K3 unique value length is less than 2.\u001b[0m\n",
      "\u001b[33m[W 2023-04-28 04:52:01,258]\u001b[0m Param K3 unique value length is less than 2.\u001b[0m\n",
      "\u001b[33m[W 2023-04-28 04:52:01,259]\u001b[0m Param K4 unique value length is less than 2.\u001b[0m\n",
      "\u001b[33m[W 2023-04-28 04:52:01,259]\u001b[0m Param K5 unique value length is less than 2.\u001b[0m\n",
      "\u001b[33m[W 2023-04-28 04:52:01,260]\u001b[0m Param K4 unique value length is less than 2.\u001b[0m\n",
      "\u001b[33m[W 2023-04-28 04:52:01,261]\u001b[0m Param K4 unique value length is less than 2.\u001b[0m\n",
      "\u001b[33m[W 2023-04-28 04:52:01,261]\u001b[0m Param K3 unique value length is less than 2.\u001b[0m\n",
      "\u001b[33m[W 2023-04-28 04:52:01,262]\u001b[0m Param K5 unique value length is less than 2.\u001b[0m\n",
      "\u001b[33m[W 2023-04-28 04:52:01,262]\u001b[0m Param K5 unique value length is less than 2.\u001b[0m\n",
      "\u001b[33m[W 2023-04-28 04:52:01,263]\u001b[0m Param K5 unique value length is less than 2.\u001b[0m\n",
      "\u001b[33m[W 2023-04-28 04:52:01,263]\u001b[0m Param K3 unique value length is less than 2.\u001b[0m\n",
      "\u001b[33m[W 2023-04-28 04:52:01,264]\u001b[0m Param K4 unique value length is less than 2.\u001b[0m\n"
     ]
    },
    {
     "name": "stdout",
     "output_type": "stream",
     "text": [
      "Wind speed:  10\n"
     ]
    },
    {
     "data": {
      "application/vnd.jupyter.widget-view+json": {
       "model_id": "8b81f4bd8bff47aca2830cb4c1f28990",
       "version_major": 2,
       "version_minor": 0
      },
      "text/plain": [
       "  0%|          | 0/10 [00:00<?, ?it/s]"
      ]
     },
     "metadata": {},
     "output_type": "display_data"
    },
    {
     "name": "stdout",
     "output_type": "stream",
     "text": [
      "Trial 1 finished with best value: 11.489125293076057 and parameters: {'K1': 0.6362431307909485, 'K2': 1.605316308388882, 'K3': 0.0, 'K4': 0.0, 'K5': 0.0}. \n",
      "Trial 4 finished with best value: 11.445523142259598 and parameters: {'K1': 0.3386032311508833, 'K2': 1.3734883997482208, 'K3': 0.0, 'K4': 0.0, 'K5': 0.0}. \n",
      "Trial 6 finished with best value: 10.723805294763608 and parameters: {'K1': 0.422719332722143, 'K2': 1.4632158234235033, 'K3': 0.0, 'K4': 0.0, 'K5': 0.0}. \n",
      "Trial 9 finished with best value: 9.797958971132712 and parameters: {'K1': 0.5356679078241771, 'K2': 1.1731831087333418, 'K3': 0.0, 'K4': 0.0, 'K5': 0.0}. \n"
     ]
    },
    {
     "name": "stderr",
     "output_type": "stream",
     "text": [
      "\u001b[33m[W 2023-04-28 05:07:41,646]\u001b[0m Output figures of this Matplotlib-based `plot_contour` function would be different from those of the Plotly-based `plot_contour`.\u001b[0m\n",
      "\u001b[33m[W 2023-04-28 05:07:41,648]\u001b[0m Param K3 unique value length is less than 2.\u001b[0m\n",
      "\u001b[33m[W 2023-04-28 05:07:41,649]\u001b[0m Param K4 unique value length is less than 2.\u001b[0m\n",
      "\u001b[33m[W 2023-04-28 05:07:41,649]\u001b[0m Param K5 unique value length is less than 2.\u001b[0m\n",
      "\u001b[33m[W 2023-04-28 05:07:41,650]\u001b[0m Param K3 unique value length is less than 2.\u001b[0m\n",
      "\u001b[33m[W 2023-04-28 05:07:41,651]\u001b[0m Param K4 unique value length is less than 2.\u001b[0m\n",
      "\u001b[33m[W 2023-04-28 05:07:41,651]\u001b[0m Param K5 unique value length is less than 2.\u001b[0m\n",
      "\u001b[33m[W 2023-04-28 05:07:41,652]\u001b[0m Param K3 unique value length is less than 2.\u001b[0m\n",
      "\u001b[33m[W 2023-04-28 05:07:41,652]\u001b[0m Param K3 unique value length is less than 2.\u001b[0m\n",
      "\u001b[33m[W 2023-04-28 05:07:41,653]\u001b[0m Param K4 unique value length is less than 2.\u001b[0m\n",
      "\u001b[33m[W 2023-04-28 05:07:41,654]\u001b[0m Param K5 unique value length is less than 2.\u001b[0m\n",
      "\u001b[33m[W 2023-04-28 05:07:41,654]\u001b[0m Param K4 unique value length is less than 2.\u001b[0m\n",
      "\u001b[33m[W 2023-04-28 05:07:41,655]\u001b[0m Param K4 unique value length is less than 2.\u001b[0m\n",
      "\u001b[33m[W 2023-04-28 05:07:41,655]\u001b[0m Param K3 unique value length is less than 2.\u001b[0m\n",
      "\u001b[33m[W 2023-04-28 05:07:41,656]\u001b[0m Param K5 unique value length is less than 2.\u001b[0m\n",
      "\u001b[33m[W 2023-04-28 05:07:41,656]\u001b[0m Param K5 unique value length is less than 2.\u001b[0m\n",
      "\u001b[33m[W 2023-04-28 05:07:41,657]\u001b[0m Param K5 unique value length is less than 2.\u001b[0m\n",
      "\u001b[33m[W 2023-04-28 05:07:41,658]\u001b[0m Param K3 unique value length is less than 2.\u001b[0m\n",
      "\u001b[33m[W 2023-04-28 05:07:41,658]\u001b[0m Param K4 unique value length is less than 2.\u001b[0m\n"
     ]
    },
    {
     "name": "stdout",
     "output_type": "stream",
     "text": [
      "Wind speed:  15\n"
     ]
    },
    {
     "data": {
      "application/vnd.jupyter.widget-view+json": {
       "model_id": "bcfba52a3da84321b6344ba956bb26f2",
       "version_major": 2,
       "version_minor": 0
      },
      "text/plain": [
       "  0%|          | 0/10 [00:00<?, ?it/s]"
      ]
     },
     "metadata": {},
     "output_type": "display_data"
    },
    {
     "name": "stdout",
     "output_type": "stream",
     "text": [
      "Trial 1 finished with best value: 22.181073012818835 and parameters: {'K1': 0.1984969439636577, 'K2': 1.9667360248530033, 'K3': 0.0, 'K4': 0.0, 'K5': 0.0}. \n",
      "Trial 3 finished with best value: 18.57417562100671 and parameters: {'K1': 0.364257486726856, 'K2': 1.2311617186435853, 'K3': 0.0, 'K4': 0.0, 'K5': 0.0}. \n"
     ]
    },
    {
     "name": "stderr",
     "output_type": "stream",
     "text": [
      "\u001b[33m[W 2023-04-28 05:21:06,530]\u001b[0m Output figures of this Matplotlib-based `plot_contour` function would be different from those of the Plotly-based `plot_contour`.\u001b[0m\n",
      "\u001b[33m[W 2023-04-28 05:21:06,532]\u001b[0m Param K3 unique value length is less than 2.\u001b[0m\n",
      "\u001b[33m[W 2023-04-28 05:21:06,532]\u001b[0m Param K4 unique value length is less than 2.\u001b[0m\n",
      "\u001b[33m[W 2023-04-28 05:21:06,533]\u001b[0m Param K5 unique value length is less than 2.\u001b[0m\n",
      "\u001b[33m[W 2023-04-28 05:21:06,534]\u001b[0m Param K3 unique value length is less than 2.\u001b[0m\n",
      "\u001b[33m[W 2023-04-28 05:21:06,534]\u001b[0m Param K4 unique value length is less than 2.\u001b[0m\n",
      "\u001b[33m[W 2023-04-28 05:21:06,535]\u001b[0m Param K5 unique value length is less than 2.\u001b[0m\n",
      "\u001b[33m[W 2023-04-28 05:21:06,536]\u001b[0m Param K3 unique value length is less than 2.\u001b[0m\n",
      "\u001b[33m[W 2023-04-28 05:21:06,536]\u001b[0m Param K3 unique value length is less than 2.\u001b[0m\n",
      "\u001b[33m[W 2023-04-28 05:21:06,537]\u001b[0m Param K4 unique value length is less than 2.\u001b[0m\n",
      "\u001b[33m[W 2023-04-28 05:21:06,537]\u001b[0m Param K5 unique value length is less than 2.\u001b[0m\n",
      "\u001b[33m[W 2023-04-28 05:21:06,538]\u001b[0m Param K4 unique value length is less than 2.\u001b[0m\n",
      "\u001b[33m[W 2023-04-28 05:21:06,538]\u001b[0m Param K4 unique value length is less than 2.\u001b[0m\n",
      "\u001b[33m[W 2023-04-28 05:21:06,539]\u001b[0m Param K3 unique value length is less than 2.\u001b[0m\n",
      "\u001b[33m[W 2023-04-28 05:21:06,540]\u001b[0m Param K5 unique value length is less than 2.\u001b[0m\n",
      "\u001b[33m[W 2023-04-28 05:21:06,540]\u001b[0m Param K5 unique value length is less than 2.\u001b[0m\n",
      "\u001b[33m[W 2023-04-28 05:21:06,541]\u001b[0m Param K5 unique value length is less than 2.\u001b[0m\n",
      "\u001b[33m[W 2023-04-28 05:21:06,541]\u001b[0m Param K3 unique value length is less than 2.\u001b[0m\n",
      "\u001b[33m[W 2023-04-28 05:21:06,542]\u001b[0m Param K4 unique value length is less than 2.\u001b[0m\n"
     ]
    },
    {
     "name": "stdout",
     "output_type": "stream",
     "text": [
      "Wind speed:  20\n"
     ]
    },
    {
     "data": {
      "application/vnd.jupyter.widget-view+json": {
       "model_id": "1078c879332c4aacbf00e056ff547f13",
       "version_major": 2,
       "version_minor": 0
      },
      "text/plain": [
       "  0%|          | 0/10 [00:00<?, ?it/s]"
      ]
     },
     "metadata": {},
     "output_type": "display_data"
    },
    {
     "name": "stdout",
     "output_type": "stream",
     "text": [
      "Trial 1 finished with best value: 30.54504869860253 and parameters: {'K1': 0.22637487100826137, 'K2': 1.7661375826191796, 'K3': 0.0, 'K4': 0.0, 'K5': 0.0}. \n",
      "Trial 3 finished with best value: 30.495901363953813 and parameters: {'K1': 0.31128584487963473, 'K2': 1.8829842275683464, 'K3': 0.0, 'K4': 0.0, 'K5': 0.0}. \n",
      "Trial 4 finished with best value: 29.597297173897484 and parameters: {'K1': 0.328334091090031, 'K2': 1.5143401018683191, 'K3': 0.0, 'K4': 0.0, 'K5': 0.0}. \n",
      "Trial 0 finished with best value: 27.49545416973504 and parameters: {'K1': 0.8871416153828724, 'K2': 1.4946534858724871, 'K3': 0.0, 'K4': 0.0, 'K5': 0.0}. \n"
     ]
    },
    {
     "name": "stderr",
     "output_type": "stream",
     "text": [
      "\u001b[33m[W 2023-04-28 05:37:04,810]\u001b[0m Output figures of this Matplotlib-based `plot_contour` function would be different from those of the Plotly-based `plot_contour`.\u001b[0m\n",
      "\u001b[33m[W 2023-04-28 05:37:04,811]\u001b[0m Param K3 unique value length is less than 2.\u001b[0m\n",
      "\u001b[33m[W 2023-04-28 05:37:04,812]\u001b[0m Param K4 unique value length is less than 2.\u001b[0m\n",
      "\u001b[33m[W 2023-04-28 05:37:04,813]\u001b[0m Param K5 unique value length is less than 2.\u001b[0m\n",
      "\u001b[33m[W 2023-04-28 05:37:04,814]\u001b[0m Param K3 unique value length is less than 2.\u001b[0m\n",
      "\u001b[33m[W 2023-04-28 05:37:04,814]\u001b[0m Param K4 unique value length is less than 2.\u001b[0m\n",
      "\u001b[33m[W 2023-04-28 05:37:04,815]\u001b[0m Param K5 unique value length is less than 2.\u001b[0m\n",
      "\u001b[33m[W 2023-04-28 05:37:04,815]\u001b[0m Param K3 unique value length is less than 2.\u001b[0m\n",
      "\u001b[33m[W 2023-04-28 05:37:04,816]\u001b[0m Param K3 unique value length is less than 2.\u001b[0m\n",
      "\u001b[33m[W 2023-04-28 05:37:04,816]\u001b[0m Param K4 unique value length is less than 2.\u001b[0m\n",
      "\u001b[33m[W 2023-04-28 05:37:04,817]\u001b[0m Param K5 unique value length is less than 2.\u001b[0m\n",
      "\u001b[33m[W 2023-04-28 05:37:04,817]\u001b[0m Param K4 unique value length is less than 2.\u001b[0m\n",
      "\u001b[33m[W 2023-04-28 05:37:04,818]\u001b[0m Param K4 unique value length is less than 2.\u001b[0m\n",
      "\u001b[33m[W 2023-04-28 05:37:04,819]\u001b[0m Param K3 unique value length is less than 2.\u001b[0m\n",
      "\u001b[33m[W 2023-04-28 05:37:04,819]\u001b[0m Param K5 unique value length is less than 2.\u001b[0m\n",
      "\u001b[33m[W 2023-04-28 05:37:04,820]\u001b[0m Param K5 unique value length is less than 2.\u001b[0m\n",
      "\u001b[33m[W 2023-04-28 05:37:04,820]\u001b[0m Param K5 unique value length is less than 2.\u001b[0m\n",
      "\u001b[33m[W 2023-04-28 05:37:04,821]\u001b[0m Param K3 unique value length is less than 2.\u001b[0m\n",
      "\u001b[33m[W 2023-04-28 05:37:04,821]\u001b[0m Param K4 unique value length is less than 2.\u001b[0m\n"
     ]
    },
    {
     "name": "stdout",
     "output_type": "stream",
     "text": [
      "Wind speed:  30\n"
     ]
    },
    {
     "data": {
      "application/vnd.jupyter.widget-view+json": {
       "model_id": "f834c181a2844570a2feaf353a6b433d",
       "version_major": 2,
       "version_minor": 0
      },
      "text/plain": [
       "  0%|          | 0/10 [00:00<?, ?it/s]"
      ]
     },
     "metadata": {},
     "output_type": "display_data"
    },
    {
     "name": "stdout",
     "output_type": "stream",
     "text": [
      "Trial 1 finished with best value: 45.13313638558703 and parameters: {'K1': 0.09817890019217079, 'K2': 1.00017837155412, 'K3': 0.0, 'K4': 0.0, 'K5': 0.0}. \n",
      "Trial 3 finished with best value: 44.395945760846224 and parameters: {'K1': 0.5879387641949896, 'K2': 1.4533755442149354, 'K3': 0.0, 'K4': 0.0, 'K5': 0.0}. \n",
      "Trial 0 finished with best value: 43.41658669218482 and parameters: {'K1': 0.7356353466327886, 'K2': 1.3898312665588968, 'K3': 0.0, 'K4': 0.0, 'K5': 0.0}. \n"
     ]
    },
    {
     "name": "stderr",
     "output_type": "stream",
     "text": [
      "\u001b[33m[W 2023-04-28 06:21:26,708]\u001b[0m Output figures of this Matplotlib-based `plot_contour` function would be different from those of the Plotly-based `plot_contour`.\u001b[0m\n",
      "\u001b[33m[W 2023-04-28 06:21:26,709]\u001b[0m Param K3 unique value length is less than 2.\u001b[0m\n",
      "\u001b[33m[W 2023-04-28 06:21:26,710]\u001b[0m Param K4 unique value length is less than 2.\u001b[0m\n",
      "\u001b[33m[W 2023-04-28 06:21:26,710]\u001b[0m Param K5 unique value length is less than 2.\u001b[0m\n",
      "\u001b[33m[W 2023-04-28 06:21:26,711]\u001b[0m Param K3 unique value length is less than 2.\u001b[0m\n",
      "\u001b[33m[W 2023-04-28 06:21:26,711]\u001b[0m Param K4 unique value length is less than 2.\u001b[0m\n",
      "\u001b[33m[W 2023-04-28 06:21:26,712]\u001b[0m Param K5 unique value length is less than 2.\u001b[0m\n",
      "\u001b[33m[W 2023-04-28 06:21:26,712]\u001b[0m Param K3 unique value length is less than 2.\u001b[0m\n",
      "\u001b[33m[W 2023-04-28 06:21:26,713]\u001b[0m Param K3 unique value length is less than 2.\u001b[0m\n",
      "\u001b[33m[W 2023-04-28 06:21:26,713]\u001b[0m Param K4 unique value length is less than 2.\u001b[0m\n",
      "\u001b[33m[W 2023-04-28 06:21:26,713]\u001b[0m Param K5 unique value length is less than 2.\u001b[0m\n",
      "\u001b[33m[W 2023-04-28 06:21:26,714]\u001b[0m Param K4 unique value length is less than 2.\u001b[0m\n",
      "\u001b[33m[W 2023-04-28 06:21:26,714]\u001b[0m Param K4 unique value length is less than 2.\u001b[0m\n",
      "\u001b[33m[W 2023-04-28 06:21:26,715]\u001b[0m Param K3 unique value length is less than 2.\u001b[0m\n",
      "\u001b[33m[W 2023-04-28 06:21:26,715]\u001b[0m Param K5 unique value length is less than 2.\u001b[0m\n",
      "\u001b[33m[W 2023-04-28 06:21:26,716]\u001b[0m Param K5 unique value length is less than 2.\u001b[0m\n",
      "\u001b[33m[W 2023-04-28 06:21:26,716]\u001b[0m Param K5 unique value length is less than 2.\u001b[0m\n",
      "\u001b[33m[W 2023-04-28 06:21:26,716]\u001b[0m Param K3 unique value length is less than 2.\u001b[0m\n",
      "\u001b[33m[W 2023-04-28 06:21:26,717]\u001b[0m Param K4 unique value length is less than 2.\u001b[0m\n"
     ]
    },
    {
     "name": "stdout",
     "output_type": "stream",
     "text": [
      "Wind speed:  0\n"
     ]
    },
    {
     "data": {
      "application/vnd.jupyter.widget-view+json": {
       "model_id": "b7c1886837c74c0aa35b17d5fbd6d1fc",
       "version_major": 2,
       "version_minor": 0
      },
      "text/plain": [
       "  0%|          | 0/10 [00:00<?, ?it/s]"
      ]
     },
     "metadata": {},
     "output_type": "display_data"
    },
    {
     "name": "stdout",
     "output_type": "stream",
     "text": [
      "Trial 1 finished with best value: 0.0002 and parameters: {'K1': 0.09047211284734769, 'K2': 1.3277002270458549, 'K3': 0.0, 'K4': 0.0, 'K5': 0.0}. \n"
     ]
    },
    {
     "name": "stderr",
     "output_type": "stream",
     "text": [
      "\u001b[33m[W 2023-04-28 06:24:51,886]\u001b[0m Output figures of this Matplotlib-based `plot_contour` function would be different from those of the Plotly-based `plot_contour`.\u001b[0m\n",
      "\u001b[33m[W 2023-04-28 06:24:51,887]\u001b[0m Param K3 unique value length is less than 2.\u001b[0m\n",
      "\u001b[33m[W 2023-04-28 06:24:51,888]\u001b[0m Param K4 unique value length is less than 2.\u001b[0m\n",
      "\u001b[33m[W 2023-04-28 06:24:51,889]\u001b[0m Param K5 unique value length is less than 2.\u001b[0m\n",
      "\u001b[33m[W 2023-04-28 06:24:51,889]\u001b[0m Param K3 unique value length is less than 2.\u001b[0m\n",
      "\u001b[33m[W 2023-04-28 06:24:51,890]\u001b[0m Param K4 unique value length is less than 2.\u001b[0m\n",
      "\u001b[33m[W 2023-04-28 06:24:51,890]\u001b[0m Param K5 unique value length is less than 2.\u001b[0m\n",
      "\u001b[33m[W 2023-04-28 06:24:51,891]\u001b[0m Param K3 unique value length is less than 2.\u001b[0m\n",
      "\u001b[33m[W 2023-04-28 06:24:51,891]\u001b[0m Param K3 unique value length is less than 2.\u001b[0m\n",
      "\u001b[33m[W 2023-04-28 06:24:51,892]\u001b[0m Param K4 unique value length is less than 2.\u001b[0m\n",
      "\u001b[33m[W 2023-04-28 06:24:51,892]\u001b[0m Param K5 unique value length is less than 2.\u001b[0m\n",
      "\u001b[33m[W 2023-04-28 06:24:51,893]\u001b[0m Param K4 unique value length is less than 2.\u001b[0m\n",
      "\u001b[33m[W 2023-04-28 06:24:51,893]\u001b[0m Param K4 unique value length is less than 2.\u001b[0m\n",
      "\u001b[33m[W 2023-04-28 06:24:51,894]\u001b[0m Param K3 unique value length is less than 2.\u001b[0m\n",
      "\u001b[33m[W 2023-04-28 06:24:51,894]\u001b[0m Param K5 unique value length is less than 2.\u001b[0m\n",
      "\u001b[33m[W 2023-04-28 06:24:51,895]\u001b[0m Param K5 unique value length is less than 2.\u001b[0m\n",
      "\u001b[33m[W 2023-04-28 06:24:51,895]\u001b[0m Param K5 unique value length is less than 2.\u001b[0m\n",
      "\u001b[33m[W 2023-04-28 06:24:51,896]\u001b[0m Param K3 unique value length is less than 2.\u001b[0m\n",
      "\u001b[33m[W 2023-04-28 06:24:51,896]\u001b[0m Param K4 unique value length is less than 2.\u001b[0m\n"
     ]
    },
    {
     "name": "stdout",
     "output_type": "stream",
     "text": [
      "Wind speed:  1\n"
     ]
    },
    {
     "data": {
      "application/vnd.jupyter.widget-view+json": {
       "model_id": "d3efaa2a0e4e4037864369c5240e4ff6",
       "version_major": 2,
       "version_minor": 0
      },
      "text/plain": [
       "  0%|          | 0/10 [00:00<?, ?it/s]"
      ]
     },
     "metadata": {},
     "output_type": "display_data"
    },
    {
     "name": "stdout",
     "output_type": "stream",
     "text": [
      "Trial 1 finished with best value: 0.0004 and parameters: {'K1': 0.30954119001568814, 'K2': 1.8503788751988508, 'K3': 0.0, 'K4': 0.0, 'K5': 0.0}. \n"
     ]
    },
    {
     "name": "stderr",
     "output_type": "stream",
     "text": [
      "\u001b[33m[W 2023-04-28 06:28:16,620]\u001b[0m Output figures of this Matplotlib-based `plot_contour` function would be different from those of the Plotly-based `plot_contour`.\u001b[0m\n",
      "\u001b[33m[W 2023-04-28 06:28:16,621]\u001b[0m Param K3 unique value length is less than 2.\u001b[0m\n",
      "\u001b[33m[W 2023-04-28 06:28:16,622]\u001b[0m Param K4 unique value length is less than 2.\u001b[0m\n",
      "\u001b[33m[W 2023-04-28 06:28:16,622]\u001b[0m Param K5 unique value length is less than 2.\u001b[0m\n",
      "\u001b[33m[W 2023-04-28 06:28:16,623]\u001b[0m Param K3 unique value length is less than 2.\u001b[0m\n",
      "\u001b[33m[W 2023-04-28 06:28:16,624]\u001b[0m Param K4 unique value length is less than 2.\u001b[0m\n",
      "\u001b[33m[W 2023-04-28 06:28:16,625]\u001b[0m Param K5 unique value length is less than 2.\u001b[0m\n",
      "\u001b[33m[W 2023-04-28 06:28:16,625]\u001b[0m Param K3 unique value length is less than 2.\u001b[0m\n",
      "\u001b[33m[W 2023-04-28 06:28:16,626]\u001b[0m Param K3 unique value length is less than 2.\u001b[0m\n",
      "\u001b[33m[W 2023-04-28 06:28:16,627]\u001b[0m Param K4 unique value length is less than 2.\u001b[0m\n",
      "\u001b[33m[W 2023-04-28 06:28:16,627]\u001b[0m Param K5 unique value length is less than 2.\u001b[0m\n",
      "\u001b[33m[W 2023-04-28 06:28:16,628]\u001b[0m Param K4 unique value length is less than 2.\u001b[0m\n",
      "\u001b[33m[W 2023-04-28 06:28:16,628]\u001b[0m Param K4 unique value length is less than 2.\u001b[0m\n",
      "\u001b[33m[W 2023-04-28 06:28:16,629]\u001b[0m Param K3 unique value length is less than 2.\u001b[0m\n",
      "\u001b[33m[W 2023-04-28 06:28:16,629]\u001b[0m Param K5 unique value length is less than 2.\u001b[0m\n",
      "\u001b[33m[W 2023-04-28 06:28:16,630]\u001b[0m Param K5 unique value length is less than 2.\u001b[0m\n",
      "\u001b[33m[W 2023-04-28 06:28:16,630]\u001b[0m Param K5 unique value length is less than 2.\u001b[0m\n",
      "\u001b[33m[W 2023-04-28 06:28:16,631]\u001b[0m Param K3 unique value length is less than 2.\u001b[0m\n",
      "\u001b[33m[W 2023-04-28 06:28:16,632]\u001b[0m Param K4 unique value length is less than 2.\u001b[0m\n"
     ]
    },
    {
     "name": "stdout",
     "output_type": "stream",
     "text": [
      "Wind speed:  2\n"
     ]
    },
    {
     "data": {
      "application/vnd.jupyter.widget-view+json": {
       "model_id": "b588da1c845746b6bd48a87feadec294",
       "version_major": 2,
       "version_minor": 0
      },
      "text/plain": [
       "  0%|          | 0/10 [00:00<?, ?it/s]"
      ]
     },
     "metadata": {},
     "output_type": "display_data"
    },
    {
     "name": "stdout",
     "output_type": "stream",
     "text": [
      "Trial 3 finished with best value: 0.0008 and parameters: {'K1': 0.9489826507373613, 'K2': 1.5032666070982756, 'K3': 0.0, 'K4': 0.0, 'K5': 0.0}. \n"
     ]
    },
    {
     "name": "stderr",
     "output_type": "stream",
     "text": [
      "\u001b[33m[W 2023-04-28 06:31:41,410]\u001b[0m Output figures of this Matplotlib-based `plot_contour` function would be different from those of the Plotly-based `plot_contour`.\u001b[0m\n",
      "\u001b[33m[W 2023-04-28 06:31:41,412]\u001b[0m Param K3 unique value length is less than 2.\u001b[0m\n",
      "\u001b[33m[W 2023-04-28 06:31:41,413]\u001b[0m Param K4 unique value length is less than 2.\u001b[0m\n",
      "\u001b[33m[W 2023-04-28 06:31:41,413]\u001b[0m Param K5 unique value length is less than 2.\u001b[0m\n",
      "\u001b[33m[W 2023-04-28 06:31:41,414]\u001b[0m Param K3 unique value length is less than 2.\u001b[0m\n",
      "\u001b[33m[W 2023-04-28 06:31:41,414]\u001b[0m Param K4 unique value length is less than 2.\u001b[0m\n",
      "\u001b[33m[W 2023-04-28 06:31:41,415]\u001b[0m Param K5 unique value length is less than 2.\u001b[0m\n",
      "\u001b[33m[W 2023-04-28 06:31:41,416]\u001b[0m Param K3 unique value length is less than 2.\u001b[0m\n",
      "\u001b[33m[W 2023-04-28 06:31:41,416]\u001b[0m Param K3 unique value length is less than 2.\u001b[0m\n",
      "\u001b[33m[W 2023-04-28 06:31:41,417]\u001b[0m Param K4 unique value length is less than 2.\u001b[0m\n",
      "\u001b[33m[W 2023-04-28 06:31:41,417]\u001b[0m Param K5 unique value length is less than 2.\u001b[0m\n",
      "\u001b[33m[W 2023-04-28 06:31:41,418]\u001b[0m Param K4 unique value length is less than 2.\u001b[0m\n",
      "\u001b[33m[W 2023-04-28 06:31:41,419]\u001b[0m Param K4 unique value length is less than 2.\u001b[0m\n",
      "\u001b[33m[W 2023-04-28 06:31:41,419]\u001b[0m Param K3 unique value length is less than 2.\u001b[0m\n",
      "\u001b[33m[W 2023-04-28 06:31:41,420]\u001b[0m Param K5 unique value length is less than 2.\u001b[0m\n",
      "\u001b[33m[W 2023-04-28 06:31:41,420]\u001b[0m Param K5 unique value length is less than 2.\u001b[0m\n",
      "\u001b[33m[W 2023-04-28 06:31:41,421]\u001b[0m Param K5 unique value length is less than 2.\u001b[0m\n",
      "\u001b[33m[W 2023-04-28 06:31:41,421]\u001b[0m Param K3 unique value length is less than 2.\u001b[0m\n",
      "\u001b[33m[W 2023-04-28 06:31:41,422]\u001b[0m Param K4 unique value length is less than 2.\u001b[0m\n"
     ]
    },
    {
     "name": "stdout",
     "output_type": "stream",
     "text": [
      "Wind speed:  9\n"
     ]
    },
    {
     "data": {
      "application/vnd.jupyter.widget-view+json": {
       "model_id": "af78f7281d6c468cb74b45edd36e11d9",
       "version_major": 2,
       "version_minor": 0
      },
      "text/plain": [
       "  0%|          | 0/10 [00:00<?, ?it/s]"
      ]
     },
     "metadata": {},
     "output_type": "display_data"
    },
    {
     "name": "stdout",
     "output_type": "stream",
     "text": [
      "Trial 2 finished with best value: 0.008700000000000001 and parameters: {'K1': 0.2937531233392905, 'K2': 1.1664767098277133, 'K3': 0.0, 'K4': 0.0, 'K5': 0.0}. \n",
      "Trial 0 finished with best value: 0.0055000000000000005 and parameters: {'K1': 0.39728198447831853, 'K2': 1.13558090601307, 'K3': 0.0, 'K4': 0.0, 'K5': 0.0}. \n"
     ]
    },
    {
     "name": "stderr",
     "output_type": "stream",
     "text": [
      "\u001b[33m[W 2023-04-28 06:43:33,781]\u001b[0m Output figures of this Matplotlib-based `plot_contour` function would be different from those of the Plotly-based `plot_contour`.\u001b[0m\n",
      "\u001b[33m[W 2023-04-28 06:43:33,783]\u001b[0m Param K3 unique value length is less than 2.\u001b[0m\n",
      "\u001b[33m[W 2023-04-28 06:43:33,783]\u001b[0m Param K4 unique value length is less than 2.\u001b[0m\n",
      "\u001b[33m[W 2023-04-28 06:43:33,784]\u001b[0m Param K5 unique value length is less than 2.\u001b[0m\n",
      "\u001b[33m[W 2023-04-28 06:43:33,785]\u001b[0m Param K3 unique value length is less than 2.\u001b[0m\n",
      "\u001b[33m[W 2023-04-28 06:43:33,785]\u001b[0m Param K4 unique value length is less than 2.\u001b[0m\n",
      "\u001b[33m[W 2023-04-28 06:43:33,786]\u001b[0m Param K5 unique value length is less than 2.\u001b[0m\n",
      "\u001b[33m[W 2023-04-28 06:43:33,786]\u001b[0m Param K3 unique value length is less than 2.\u001b[0m\n",
      "\u001b[33m[W 2023-04-28 06:43:33,787]\u001b[0m Param K3 unique value length is less than 2.\u001b[0m\n",
      "\u001b[33m[W 2023-04-28 06:43:33,787]\u001b[0m Param K4 unique value length is less than 2.\u001b[0m\n",
      "\u001b[33m[W 2023-04-28 06:43:33,788]\u001b[0m Param K5 unique value length is less than 2.\u001b[0m\n",
      "\u001b[33m[W 2023-04-28 06:43:33,789]\u001b[0m Param K4 unique value length is less than 2.\u001b[0m\n",
      "\u001b[33m[W 2023-04-28 06:43:33,789]\u001b[0m Param K4 unique value length is less than 2.\u001b[0m\n",
      "\u001b[33m[W 2023-04-28 06:43:33,790]\u001b[0m Param K3 unique value length is less than 2.\u001b[0m\n",
      "\u001b[33m[W 2023-04-28 06:43:33,790]\u001b[0m Param K5 unique value length is less than 2.\u001b[0m\n",
      "\u001b[33m[W 2023-04-28 06:43:33,791]\u001b[0m Param K5 unique value length is less than 2.\u001b[0m\n",
      "\u001b[33m[W 2023-04-28 06:43:33,792]\u001b[0m Param K5 unique value length is less than 2.\u001b[0m\n",
      "\u001b[33m[W 2023-04-28 06:43:33,792]\u001b[0m Param K3 unique value length is less than 2.\u001b[0m\n",
      "\u001b[33m[W 2023-04-28 06:43:33,793]\u001b[0m Param K4 unique value length is less than 2.\u001b[0m\n"
     ]
    },
    {
     "name": "stdout",
     "output_type": "stream",
     "text": [
      "Wind speed:  10\n"
     ]
    },
    {
     "data": {
      "application/vnd.jupyter.widget-view+json": {
       "model_id": "20bb89da128d469aa24f52bd243b174d",
       "version_major": 2,
       "version_minor": 0
      },
      "text/plain": [
       "  0%|          | 0/10 [00:00<?, ?it/s]"
      ]
     },
     "metadata": {},
     "output_type": "display_data"
    },
    {
     "name": "stdout",
     "output_type": "stream",
     "text": [
      "Trial 0 finished with best value: 0.0195 and parameters: {'K1': 0.132265256375944, 'K2': 1.6778402878802763, 'K3': 0.0, 'K4': 0.0, 'K5': 0.0}. \n",
      "Trial 2 finished with best value: 0.017200000000000003 and parameters: {'K1': 0.22149430885778487, 'K2': 1.499305055979309, 'K3': 0.0, 'K4': 0.0, 'K5': 0.0}. \n",
      "Trial 8 finished with best value: 0.0132 and parameters: {'K1': 0.6295195740843695, 'K2': 1.5970937292345864, 'K3': 0.0, 'K4': 0.0, 'K5': 0.0}. \n"
     ]
    },
    {
     "name": "stderr",
     "output_type": "stream",
     "text": [
      "\u001b[33m[W 2023-04-28 06:54:15,593]\u001b[0m Output figures of this Matplotlib-based `plot_contour` function would be different from those of the Plotly-based `plot_contour`.\u001b[0m\n",
      "\u001b[33m[W 2023-04-28 06:54:15,594]\u001b[0m Param K3 unique value length is less than 2.\u001b[0m\n",
      "\u001b[33m[W 2023-04-28 06:54:15,595]\u001b[0m Param K4 unique value length is less than 2.\u001b[0m\n",
      "\u001b[33m[W 2023-04-28 06:54:15,595]\u001b[0m Param K5 unique value length is less than 2.\u001b[0m\n",
      "\u001b[33m[W 2023-04-28 06:54:15,596]\u001b[0m Param K3 unique value length is less than 2.\u001b[0m\n",
      "\u001b[33m[W 2023-04-28 06:54:15,596]\u001b[0m Param K4 unique value length is less than 2.\u001b[0m\n",
      "\u001b[33m[W 2023-04-28 06:54:15,597]\u001b[0m Param K5 unique value length is less than 2.\u001b[0m\n",
      "\u001b[33m[W 2023-04-28 06:54:15,597]\u001b[0m Param K3 unique value length is less than 2.\u001b[0m\n",
      "\u001b[33m[W 2023-04-28 06:54:15,597]\u001b[0m Param K3 unique value length is less than 2.\u001b[0m\n",
      "\u001b[33m[W 2023-04-28 06:54:15,598]\u001b[0m Param K4 unique value length is less than 2.\u001b[0m\n",
      "\u001b[33m[W 2023-04-28 06:54:15,598]\u001b[0m Param K5 unique value length is less than 2.\u001b[0m\n",
      "\u001b[33m[W 2023-04-28 06:54:15,599]\u001b[0m Param K4 unique value length is less than 2.\u001b[0m\n",
      "\u001b[33m[W 2023-04-28 06:54:15,599]\u001b[0m Param K4 unique value length is less than 2.\u001b[0m\n",
      "\u001b[33m[W 2023-04-28 06:54:15,600]\u001b[0m Param K3 unique value length is less than 2.\u001b[0m\n",
      "\u001b[33m[W 2023-04-28 06:54:15,600]\u001b[0m Param K5 unique value length is less than 2.\u001b[0m\n",
      "\u001b[33m[W 2023-04-28 06:54:15,600]\u001b[0m Param K5 unique value length is less than 2.\u001b[0m\n",
      "\u001b[33m[W 2023-04-28 06:54:15,601]\u001b[0m Param K5 unique value length is less than 2.\u001b[0m\n",
      "\u001b[33m[W 2023-04-28 06:54:15,601]\u001b[0m Param K3 unique value length is less than 2.\u001b[0m\n",
      "\u001b[33m[W 2023-04-28 06:54:15,602]\u001b[0m Param K4 unique value length is less than 2.\u001b[0m\n"
     ]
    },
    {
     "name": "stdout",
     "output_type": "stream",
     "text": [
      "Wind speed:  15\n"
     ]
    },
    {
     "data": {
      "application/vnd.jupyter.widget-view+json": {
       "model_id": "22255ccfa4b2404faf1ec0057cfaf862",
       "version_major": 2,
       "version_minor": 0
      },
      "text/plain": [
       "  0%|          | 0/10 [00:00<?, ?it/s]"
      ]
     },
     "metadata": {},
     "output_type": "display_data"
    },
    {
     "name": "stdout",
     "output_type": "stream",
     "text": [
      "Trial 1 finished with best value: 0.046900000000000004 and parameters: {'K1': 0.249523162097247, 'K2': 1.7717722778482534, 'K3': 0.0, 'K4': 0.0, 'K5': 0.0}. \n",
      "Trial 2 finished with best value: 0.04050000000000001 and parameters: {'K1': 0.25309931858388635, 'K2': 1.0946289855802658, 'K3': 0.0, 'K4': 0.0, 'K5': 0.0}. \n",
      "Trial 6 finished with best value: 0.038900000000000004 and parameters: {'K1': 0.37094372256938773, 'K2': 1.4810681850377485, 'K3': 0.0, 'K4': 0.0, 'K5': 0.0}. \n",
      "Trial 4 finished with best value: 0.0374 and parameters: {'K1': 0.5352509253021757, 'K2': 1.609969687012957, 'K3': 0.0, 'K4': 0.0, 'K5': 0.0}. \n"
     ]
    },
    {
     "name": "stderr",
     "output_type": "stream",
     "text": [
      "\u001b[33m[W 2023-04-28 07:14:38,771]\u001b[0m Output figures of this Matplotlib-based `plot_contour` function would be different from those of the Plotly-based `plot_contour`.\u001b[0m\n",
      "\u001b[33m[W 2023-04-28 07:14:38,772]\u001b[0m Param K3 unique value length is less than 2.\u001b[0m\n",
      "\u001b[33m[W 2023-04-28 07:14:38,773]\u001b[0m Param K4 unique value length is less than 2.\u001b[0m\n",
      "\u001b[33m[W 2023-04-28 07:14:38,774]\u001b[0m Param K5 unique value length is less than 2.\u001b[0m\n",
      "\u001b[33m[W 2023-04-28 07:14:38,775]\u001b[0m Param K3 unique value length is less than 2.\u001b[0m\n",
      "\u001b[33m[W 2023-04-28 07:14:38,776]\u001b[0m Param K4 unique value length is less than 2.\u001b[0m\n",
      "\u001b[33m[W 2023-04-28 07:14:38,777]\u001b[0m Param K5 unique value length is less than 2.\u001b[0m\n",
      "\u001b[33m[W 2023-04-28 07:14:38,777]\u001b[0m Param K3 unique value length is less than 2.\u001b[0m\n",
      "\u001b[33m[W 2023-04-28 07:14:38,778]\u001b[0m Param K3 unique value length is less than 2.\u001b[0m\n",
      "\u001b[33m[W 2023-04-28 07:14:38,779]\u001b[0m Param K4 unique value length is less than 2.\u001b[0m\n",
      "\u001b[33m[W 2023-04-28 07:14:38,779]\u001b[0m Param K5 unique value length is less than 2.\u001b[0m\n",
      "\u001b[33m[W 2023-04-28 07:14:38,780]\u001b[0m Param K4 unique value length is less than 2.\u001b[0m\n",
      "\u001b[33m[W 2023-04-28 07:14:38,781]\u001b[0m Param K4 unique value length is less than 2.\u001b[0m\n",
      "\u001b[33m[W 2023-04-28 07:14:38,781]\u001b[0m Param K3 unique value length is less than 2.\u001b[0m\n",
      "\u001b[33m[W 2023-04-28 07:14:38,782]\u001b[0m Param K5 unique value length is less than 2.\u001b[0m\n",
      "\u001b[33m[W 2023-04-28 07:14:38,783]\u001b[0m Param K5 unique value length is less than 2.\u001b[0m\n",
      "\u001b[33m[W 2023-04-28 07:14:38,783]\u001b[0m Param K5 unique value length is less than 2.\u001b[0m\n",
      "\u001b[33m[W 2023-04-28 07:14:38,784]\u001b[0m Param K3 unique value length is less than 2.\u001b[0m\n",
      "\u001b[33m[W 2023-04-28 07:14:38,785]\u001b[0m Param K4 unique value length is less than 2.\u001b[0m\n"
     ]
    },
    {
     "name": "stdout",
     "output_type": "stream",
     "text": [
      "Wind speed:  20\n"
     ]
    },
    {
     "data": {
      "application/vnd.jupyter.widget-view+json": {
       "model_id": "41f9ad61db97442eb19aeadabe4eeba5",
       "version_major": 2,
       "version_minor": 0
      },
      "text/plain": [
       "  0%|          | 0/10 [00:00<?, ?it/s]"
      ]
     },
     "metadata": {},
     "output_type": "display_data"
    },
    {
     "name": "stdout",
     "output_type": "stream",
     "text": [
      "Trial 3 finished with best value: 0.0828 and parameters: {'K1': 0.42068862300898335, 'K2': 1.4816003160241524, 'K3': 0.0, 'K4': 0.0, 'K5': 0.0}. \n",
      "Trial 2 finished with best value: 0.056799999999999996 and parameters: {'K1': 0.46414848046333035, 'K2': 1.010636389909573, 'K3': 0.0, 'K4': 0.0, 'K5': 0.0}. \n"
     ]
    },
    {
     "name": "stderr",
     "output_type": "stream",
     "text": [
      "\u001b[33m[W 2023-04-28 07:32:56,322]\u001b[0m Output figures of this Matplotlib-based `plot_contour` function would be different from those of the Plotly-based `plot_contour`.\u001b[0m\n",
      "\u001b[33m[W 2023-04-28 07:32:56,324]\u001b[0m Param K3 unique value length is less than 2.\u001b[0m\n",
      "\u001b[33m[W 2023-04-28 07:32:56,324]\u001b[0m Param K4 unique value length is less than 2.\u001b[0m\n",
      "\u001b[33m[W 2023-04-28 07:32:56,325]\u001b[0m Param K5 unique value length is less than 2.\u001b[0m\n",
      "\u001b[33m[W 2023-04-28 07:32:56,325]\u001b[0m Param K3 unique value length is less than 2.\u001b[0m\n",
      "\u001b[33m[W 2023-04-28 07:32:56,326]\u001b[0m Param K4 unique value length is less than 2.\u001b[0m\n",
      "\u001b[33m[W 2023-04-28 07:32:56,326]\u001b[0m Param K5 unique value length is less than 2.\u001b[0m\n",
      "\u001b[33m[W 2023-04-28 07:32:56,326]\u001b[0m Param K3 unique value length is less than 2.\u001b[0m\n",
      "\u001b[33m[W 2023-04-28 07:32:56,327]\u001b[0m Param K3 unique value length is less than 2.\u001b[0m\n",
      "\u001b[33m[W 2023-04-28 07:32:56,327]\u001b[0m Param K4 unique value length is less than 2.\u001b[0m\n",
      "\u001b[33m[W 2023-04-28 07:32:56,329]\u001b[0m Param K5 unique value length is less than 2.\u001b[0m\n",
      "\u001b[33m[W 2023-04-28 07:32:56,330]\u001b[0m Param K4 unique value length is less than 2.\u001b[0m\n",
      "\u001b[33m[W 2023-04-28 07:32:56,330]\u001b[0m Param K4 unique value length is less than 2.\u001b[0m\n",
      "\u001b[33m[W 2023-04-28 07:32:56,331]\u001b[0m Param K3 unique value length is less than 2.\u001b[0m\n",
      "\u001b[33m[W 2023-04-28 07:32:56,332]\u001b[0m Param K5 unique value length is less than 2.\u001b[0m\n",
      "\u001b[33m[W 2023-04-28 07:32:56,332]\u001b[0m Param K5 unique value length is less than 2.\u001b[0m\n",
      "\u001b[33m[W 2023-04-28 07:32:56,333]\u001b[0m Param K5 unique value length is less than 2.\u001b[0m\n",
      "\u001b[33m[W 2023-04-28 07:32:56,333]\u001b[0m Param K3 unique value length is less than 2.\u001b[0m\n",
      "\u001b[33m[W 2023-04-28 07:32:56,334]\u001b[0m Param K4 unique value length is less than 2.\u001b[0m\n"
     ]
    },
    {
     "name": "stdout",
     "output_type": "stream",
     "text": [
      "Wind speed:  30\n"
     ]
    },
    {
     "data": {
      "application/vnd.jupyter.widget-view+json": {
       "model_id": "7f8da7867f1646828fb279034166a54b",
       "version_major": 2,
       "version_minor": 0
      },
      "text/plain": [
       "  0%|          | 0/10 [00:00<?, ?it/s]"
      ]
     },
     "metadata": {},
     "output_type": "display_data"
    },
    {
     "name": "stdout",
     "output_type": "stream",
     "text": [
      "Trial 1 finished with best value: 0.008036 and parameters: {'K1': 0.5326989180894517, 'K2': 1.4760157036435078, 'K3': 0.0, 'K4': 0.0, 'K5': 0.0}. \n",
      "Trial 2 finished with best value: 0.006812 and parameters: {'K1': 0.7927375282376902, 'K2': 1.189632763917031, 'K3': 0.0, 'K4': 0.0, 'K5': 0.0}. \n"
     ]
    },
    {
     "name": "stderr",
     "output_type": "stream",
     "text": [
      "\u001b[33m[W 2023-04-28 08:16:10,612]\u001b[0m Output figures of this Matplotlib-based `plot_contour` function would be different from those of the Plotly-based `plot_contour`.\u001b[0m\n",
      "\u001b[33m[W 2023-04-28 08:16:10,614]\u001b[0m Param K3 unique value length is less than 2.\u001b[0m\n",
      "\u001b[33m[W 2023-04-28 08:16:10,615]\u001b[0m Param K4 unique value length is less than 2.\u001b[0m\n",
      "\u001b[33m[W 2023-04-28 08:16:10,615]\u001b[0m Param K5 unique value length is less than 2.\u001b[0m\n",
      "\u001b[33m[W 2023-04-28 08:16:10,616]\u001b[0m Param K3 unique value length is less than 2.\u001b[0m\n",
      "\u001b[33m[W 2023-04-28 08:16:10,616]\u001b[0m Param K4 unique value length is less than 2.\u001b[0m\n",
      "\u001b[33m[W 2023-04-28 08:16:10,617]\u001b[0m Param K5 unique value length is less than 2.\u001b[0m\n",
      "\u001b[33m[W 2023-04-28 08:16:10,618]\u001b[0m Param K3 unique value length is less than 2.\u001b[0m\n",
      "\u001b[33m[W 2023-04-28 08:16:10,618]\u001b[0m Param K3 unique value length is less than 2.\u001b[0m\n",
      "\u001b[33m[W 2023-04-28 08:16:10,619]\u001b[0m Param K4 unique value length is less than 2.\u001b[0m\n",
      "\u001b[33m[W 2023-04-28 08:16:10,619]\u001b[0m Param K5 unique value length is less than 2.\u001b[0m\n",
      "\u001b[33m[W 2023-04-28 08:16:10,620]\u001b[0m Param K4 unique value length is less than 2.\u001b[0m\n",
      "\u001b[33m[W 2023-04-28 08:16:10,621]\u001b[0m Param K4 unique value length is less than 2.\u001b[0m\n",
      "\u001b[33m[W 2023-04-28 08:16:10,621]\u001b[0m Param K3 unique value length is less than 2.\u001b[0m\n",
      "\u001b[33m[W 2023-04-28 08:16:10,622]\u001b[0m Param K5 unique value length is less than 2.\u001b[0m\n",
      "\u001b[33m[W 2023-04-28 08:16:10,622]\u001b[0m Param K5 unique value length is less than 2.\u001b[0m\n",
      "\u001b[33m[W 2023-04-28 08:16:10,623]\u001b[0m Param K5 unique value length is less than 2.\u001b[0m\n",
      "\u001b[33m[W 2023-04-28 08:16:10,623]\u001b[0m Param K3 unique value length is less than 2.\u001b[0m\n",
      "\u001b[33m[W 2023-04-28 08:16:10,624]\u001b[0m Param K4 unique value length is less than 2.\u001b[0m\n"
     ]
    },
    {
     "name": "stdout",
     "output_type": "stream",
     "text": [
      "Wind speed:  0\n"
     ]
    },
    {
     "data": {
      "application/vnd.jupyter.widget-view+json": {
       "model_id": "59d5389fe1064a3c8e3b9b8ac5d5e4d7",
       "version_major": 2,
       "version_minor": 0
      },
      "text/plain": [
       "  0%|          | 0/10 [00:00<?, ?it/s]"
      ]
     },
     "metadata": {},
     "output_type": "display_data"
    },
    {
     "name": "stdout",
     "output_type": "stream",
     "text": [
      "Trial 1 finished with best value: 0.0002 and parameters: {'K1': 0.4536169603096174, 'K2': 1.4049328181031626, 'K3': 0.0, 'K4': 0.0, 'K5': 0.0}. \n"
     ]
    },
    {
     "name": "stderr",
     "output_type": "stream",
     "text": [
      "\u001b[33m[W 2023-04-28 08:19:37,681]\u001b[0m Output figures of this Matplotlib-based `plot_contour` function would be different from those of the Plotly-based `plot_contour`.\u001b[0m\n",
      "\u001b[33m[W 2023-04-28 08:19:37,682]\u001b[0m Param K3 unique value length is less than 2.\u001b[0m\n",
      "\u001b[33m[W 2023-04-28 08:19:37,683]\u001b[0m Param K4 unique value length is less than 2.\u001b[0m\n",
      "\u001b[33m[W 2023-04-28 08:19:37,684]\u001b[0m Param K5 unique value length is less than 2.\u001b[0m\n",
      "\u001b[33m[W 2023-04-28 08:19:37,685]\u001b[0m Param K3 unique value length is less than 2.\u001b[0m\n",
      "\u001b[33m[W 2023-04-28 08:19:37,686]\u001b[0m Param K4 unique value length is less than 2.\u001b[0m\n",
      "\u001b[33m[W 2023-04-28 08:19:37,686]\u001b[0m Param K5 unique value length is less than 2.\u001b[0m\n",
      "\u001b[33m[W 2023-04-28 08:19:37,687]\u001b[0m Param K3 unique value length is less than 2.\u001b[0m\n",
      "\u001b[33m[W 2023-04-28 08:19:37,688]\u001b[0m Param K3 unique value length is less than 2.\u001b[0m\n",
      "\u001b[33m[W 2023-04-28 08:19:37,688]\u001b[0m Param K4 unique value length is less than 2.\u001b[0m\n",
      "\u001b[33m[W 2023-04-28 08:19:37,689]\u001b[0m Param K5 unique value length is less than 2.\u001b[0m\n",
      "\u001b[33m[W 2023-04-28 08:19:37,690]\u001b[0m Param K4 unique value length is less than 2.\u001b[0m\n",
      "\u001b[33m[W 2023-04-28 08:19:37,690]\u001b[0m Param K4 unique value length is less than 2.\u001b[0m\n",
      "\u001b[33m[W 2023-04-28 08:19:37,691]\u001b[0m Param K3 unique value length is less than 2.\u001b[0m\n",
      "\u001b[33m[W 2023-04-28 08:19:37,692]\u001b[0m Param K5 unique value length is less than 2.\u001b[0m\n",
      "\u001b[33m[W 2023-04-28 08:19:37,692]\u001b[0m Param K5 unique value length is less than 2.\u001b[0m\n",
      "\u001b[33m[W 2023-04-28 08:19:37,693]\u001b[0m Param K5 unique value length is less than 2.\u001b[0m\n",
      "\u001b[33m[W 2023-04-28 08:19:37,694]\u001b[0m Param K3 unique value length is less than 2.\u001b[0m\n",
      "\u001b[33m[W 2023-04-28 08:19:37,694]\u001b[0m Param K4 unique value length is less than 2.\u001b[0m\n"
     ]
    },
    {
     "name": "stdout",
     "output_type": "stream",
     "text": [
      "Wind speed:  1\n"
     ]
    },
    {
     "data": {
      "application/vnd.jupyter.widget-view+json": {
       "model_id": "a79fe97085c24954b4dea839c13b66b8",
       "version_major": 2,
       "version_minor": 0
      },
      "text/plain": [
       "  0%|          | 0/10 [00:00<?, ?it/s]"
      ]
     },
     "metadata": {},
     "output_type": "display_data"
    },
    {
     "name": "stdout",
     "output_type": "stream",
     "text": [
      "Trial 3 finished with best value: 0.0004 and parameters: {'K1': 0.3499454395533441, 'K2': 1.5714912333981954, 'K3': 0.0, 'K4': 0.0, 'K5': 0.0}. \n"
     ]
    },
    {
     "name": "stderr",
     "output_type": "stream",
     "text": [
      "\u001b[33m[W 2023-04-28 08:23:03,141]\u001b[0m Output figures of this Matplotlib-based `plot_contour` function would be different from those of the Plotly-based `plot_contour`.\u001b[0m\n",
      "\u001b[33m[W 2023-04-28 08:23:03,143]\u001b[0m Param K3 unique value length is less than 2.\u001b[0m\n",
      "\u001b[33m[W 2023-04-28 08:23:03,144]\u001b[0m Param K4 unique value length is less than 2.\u001b[0m\n",
      "\u001b[33m[W 2023-04-28 08:23:03,144]\u001b[0m Param K5 unique value length is less than 2.\u001b[0m\n",
      "\u001b[33m[W 2023-04-28 08:23:03,145]\u001b[0m Param K3 unique value length is less than 2.\u001b[0m\n",
      "\u001b[33m[W 2023-04-28 08:23:03,146]\u001b[0m Param K4 unique value length is less than 2.\u001b[0m\n",
      "\u001b[33m[W 2023-04-28 08:23:03,146]\u001b[0m Param K5 unique value length is less than 2.\u001b[0m\n",
      "\u001b[33m[W 2023-04-28 08:23:03,147]\u001b[0m Param K3 unique value length is less than 2.\u001b[0m\n",
      "\u001b[33m[W 2023-04-28 08:23:03,148]\u001b[0m Param K3 unique value length is less than 2.\u001b[0m\n",
      "\u001b[33m[W 2023-04-28 08:23:03,149]\u001b[0m Param K4 unique value length is less than 2.\u001b[0m\n",
      "\u001b[33m[W 2023-04-28 08:23:03,149]\u001b[0m Param K5 unique value length is less than 2.\u001b[0m\n",
      "\u001b[33m[W 2023-04-28 08:23:03,150]\u001b[0m Param K4 unique value length is less than 2.\u001b[0m\n",
      "\u001b[33m[W 2023-04-28 08:23:03,150]\u001b[0m Param K4 unique value length is less than 2.\u001b[0m\n",
      "\u001b[33m[W 2023-04-28 08:23:03,151]\u001b[0m Param K3 unique value length is less than 2.\u001b[0m\n",
      "\u001b[33m[W 2023-04-28 08:23:03,151]\u001b[0m Param K5 unique value length is less than 2.\u001b[0m\n",
      "\u001b[33m[W 2023-04-28 08:23:03,152]\u001b[0m Param K5 unique value length is less than 2.\u001b[0m\n",
      "\u001b[33m[W 2023-04-28 08:23:03,152]\u001b[0m Param K5 unique value length is less than 2.\u001b[0m\n",
      "\u001b[33m[W 2023-04-28 08:23:03,153]\u001b[0m Param K3 unique value length is less than 2.\u001b[0m\n",
      "\u001b[33m[W 2023-04-28 08:23:03,153]\u001b[0m Param K4 unique value length is less than 2.\u001b[0m\n"
     ]
    },
    {
     "name": "stdout",
     "output_type": "stream",
     "text": [
      "Wind speed:  2\n"
     ]
    },
    {
     "data": {
      "application/vnd.jupyter.widget-view+json": {
       "model_id": "0d8bc1e24e4d4bcfb5527d846a13eafc",
       "version_major": 2,
       "version_minor": 0
      },
      "text/plain": [
       "  0%|          | 0/10 [00:00<?, ?it/s]"
      ]
     },
     "metadata": {},
     "output_type": "display_data"
    },
    {
     "name": "stdout",
     "output_type": "stream",
     "text": [
      "Trial 1 finished with best value: 0.0008 and parameters: {'K1': 0.3392632620138132, 'K2': 1.103905022798636, 'K3': 0.0, 'K4': 0.0, 'K5': 0.0}. \n"
     ]
    },
    {
     "name": "stderr",
     "output_type": "stream",
     "text": [
      "\u001b[33m[W 2023-04-28 08:26:29,129]\u001b[0m Output figures of this Matplotlib-based `plot_contour` function would be different from those of the Plotly-based `plot_contour`.\u001b[0m\n",
      "\u001b[33m[W 2023-04-28 08:26:29,130]\u001b[0m Param K3 unique value length is less than 2.\u001b[0m\n",
      "\u001b[33m[W 2023-04-28 08:26:29,131]\u001b[0m Param K4 unique value length is less than 2.\u001b[0m\n",
      "\u001b[33m[W 2023-04-28 08:26:29,131]\u001b[0m Param K5 unique value length is less than 2.\u001b[0m\n",
      "\u001b[33m[W 2023-04-28 08:26:29,132]\u001b[0m Param K3 unique value length is less than 2.\u001b[0m\n",
      "\u001b[33m[W 2023-04-28 08:26:29,133]\u001b[0m Param K4 unique value length is less than 2.\u001b[0m\n",
      "\u001b[33m[W 2023-04-28 08:26:29,133]\u001b[0m Param K5 unique value length is less than 2.\u001b[0m\n",
      "\u001b[33m[W 2023-04-28 08:26:29,134]\u001b[0m Param K3 unique value length is less than 2.\u001b[0m\n",
      "\u001b[33m[W 2023-04-28 08:26:29,134]\u001b[0m Param K3 unique value length is less than 2.\u001b[0m\n",
      "\u001b[33m[W 2023-04-28 08:26:29,135]\u001b[0m Param K4 unique value length is less than 2.\u001b[0m\n",
      "\u001b[33m[W 2023-04-28 08:26:29,135]\u001b[0m Param K5 unique value length is less than 2.\u001b[0m\n",
      "\u001b[33m[W 2023-04-28 08:26:29,136]\u001b[0m Param K4 unique value length is less than 2.\u001b[0m\n",
      "\u001b[33m[W 2023-04-28 08:26:29,136]\u001b[0m Param K4 unique value length is less than 2.\u001b[0m\n",
      "\u001b[33m[W 2023-04-28 08:26:29,136]\u001b[0m Param K3 unique value length is less than 2.\u001b[0m\n",
      "\u001b[33m[W 2023-04-28 08:26:29,137]\u001b[0m Param K5 unique value length is less than 2.\u001b[0m\n",
      "\u001b[33m[W 2023-04-28 08:26:29,137]\u001b[0m Param K5 unique value length is less than 2.\u001b[0m\n",
      "\u001b[33m[W 2023-04-28 08:26:29,138]\u001b[0m Param K5 unique value length is less than 2.\u001b[0m\n",
      "\u001b[33m[W 2023-04-28 08:26:29,138]\u001b[0m Param K3 unique value length is less than 2.\u001b[0m\n",
      "\u001b[33m[W 2023-04-28 08:26:29,139]\u001b[0m Param K4 unique value length is less than 2.\u001b[0m\n"
     ]
    },
    {
     "name": "stdout",
     "output_type": "stream",
     "text": [
      "Wind speed:  9\n"
     ]
    },
    {
     "data": {
      "application/vnd.jupyter.widget-view+json": {
       "model_id": "22665e803e404ac68c94736badc51d9c",
       "version_major": 2,
       "version_minor": 0
      },
      "text/plain": [
       "  0%|          | 0/10 [00:00<?, ?it/s]"
      ]
     },
     "metadata": {},
     "output_type": "display_data"
    },
    {
     "name": "stdout",
     "output_type": "stream",
     "text": [
      "Trial 2 finished with best value: 0.0139 and parameters: {'K1': 0.19958673989176223, 'K2': 1.9876522226994002, 'K3': 0.0, 'K4': 0.0, 'K5': 0.0}. \n",
      "Trial 3 finished with best value: 0.010700000000000001 and parameters: {'K1': 0.25001797118945157, 'K2': 1.1838920339817847, 'K3': 0.0, 'K4': 0.0, 'K5': 0.0}. \n",
      "Trial 1 finished with best value: 0.008 and parameters: {'K1': 0.4641585504130191, 'K2': 1.110451236571171, 'K3': 0.0, 'K4': 0.0, 'K5': 0.0}. \n"
     ]
    },
    {
     "name": "stderr",
     "output_type": "stream",
     "text": [
      "\u001b[33m[W 2023-04-28 08:31:42,949]\u001b[0m Output figures of this Matplotlib-based `plot_contour` function would be different from those of the Plotly-based `plot_contour`.\u001b[0m\n",
      "\u001b[33m[W 2023-04-28 08:31:42,950]\u001b[0m Param K3 unique value length is less than 2.\u001b[0m\n",
      "\u001b[33m[W 2023-04-28 08:31:42,951]\u001b[0m Param K4 unique value length is less than 2.\u001b[0m\n",
      "\u001b[33m[W 2023-04-28 08:31:42,952]\u001b[0m Param K5 unique value length is less than 2.\u001b[0m\n",
      "\u001b[33m[W 2023-04-28 08:31:42,952]\u001b[0m Param K3 unique value length is less than 2.\u001b[0m\n",
      "\u001b[33m[W 2023-04-28 08:31:42,953]\u001b[0m Param K4 unique value length is less than 2.\u001b[0m\n",
      "\u001b[33m[W 2023-04-28 08:31:42,953]\u001b[0m Param K5 unique value length is less than 2.\u001b[0m\n",
      "\u001b[33m[W 2023-04-28 08:31:42,954]\u001b[0m Param K3 unique value length is less than 2.\u001b[0m\n",
      "\u001b[33m[W 2023-04-28 08:31:42,954]\u001b[0m Param K3 unique value length is less than 2.\u001b[0m\n",
      "\u001b[33m[W 2023-04-28 08:31:42,955]\u001b[0m Param K4 unique value length is less than 2.\u001b[0m\n",
      "\u001b[33m[W 2023-04-28 08:31:42,956]\u001b[0m Param K5 unique value length is less than 2.\u001b[0m\n",
      "\u001b[33m[W 2023-04-28 08:31:42,956]\u001b[0m Param K4 unique value length is less than 2.\u001b[0m\n",
      "\u001b[33m[W 2023-04-28 08:31:42,957]\u001b[0m Param K4 unique value length is less than 2.\u001b[0m\n",
      "\u001b[33m[W 2023-04-28 08:31:42,957]\u001b[0m Param K3 unique value length is less than 2.\u001b[0m\n",
      "\u001b[33m[W 2023-04-28 08:31:42,958]\u001b[0m Param K5 unique value length is less than 2.\u001b[0m\n",
      "\u001b[33m[W 2023-04-28 08:31:42,958]\u001b[0m Param K5 unique value length is less than 2.\u001b[0m\n",
      "\u001b[33m[W 2023-04-28 08:31:42,959]\u001b[0m Param K5 unique value length is less than 2.\u001b[0m\n",
      "\u001b[33m[W 2023-04-28 08:31:42,959]\u001b[0m Param K3 unique value length is less than 2.\u001b[0m\n",
      "\u001b[33m[W 2023-04-28 08:31:42,960]\u001b[0m Param K4 unique value length is less than 2.\u001b[0m\n"
     ]
    },
    {
     "name": "stdout",
     "output_type": "stream",
     "text": [
      "Wind speed:  10\n"
     ]
    },
    {
     "data": {
      "application/vnd.jupyter.widget-view+json": {
       "model_id": "85b889824d5941d2829562f485ce015f",
       "version_major": 2,
       "version_minor": 0
      },
      "text/plain": [
       "  0%|          | 0/10 [00:00<?, ?it/s]"
      ]
     },
     "metadata": {},
     "output_type": "display_data"
    },
    {
     "name": "stdout",
     "output_type": "stream",
     "text": [
      "Trial 1 finished with best value: 0.010700000000000001 and parameters: {'K1': 0.34095196515315673, 'K2': 1.0249973507605572, 'K3': 0.0, 'K4': 0.0, 'K5': 0.0}. \n"
     ]
    },
    {
     "name": "stderr",
     "output_type": "stream",
     "text": [
      "\u001b[33m[W 2023-04-28 08:43:31,919]\u001b[0m Output figures of this Matplotlib-based `plot_contour` function would be different from those of the Plotly-based `plot_contour`.\u001b[0m\n",
      "\u001b[33m[W 2023-04-28 08:43:31,920]\u001b[0m Param K3 unique value length is less than 2.\u001b[0m\n",
      "\u001b[33m[W 2023-04-28 08:43:31,921]\u001b[0m Param K4 unique value length is less than 2.\u001b[0m\n",
      "\u001b[33m[W 2023-04-28 08:43:31,922]\u001b[0m Param K5 unique value length is less than 2.\u001b[0m\n",
      "\u001b[33m[W 2023-04-28 08:43:31,922]\u001b[0m Param K3 unique value length is less than 2.\u001b[0m\n",
      "\u001b[33m[W 2023-04-28 08:43:31,923]\u001b[0m Param K4 unique value length is less than 2.\u001b[0m\n",
      "\u001b[33m[W 2023-04-28 08:43:31,923]\u001b[0m Param K5 unique value length is less than 2.\u001b[0m\n",
      "\u001b[33m[W 2023-04-28 08:43:31,924]\u001b[0m Param K3 unique value length is less than 2.\u001b[0m\n",
      "\u001b[33m[W 2023-04-28 08:43:31,924]\u001b[0m Param K3 unique value length is less than 2.\u001b[0m\n",
      "\u001b[33m[W 2023-04-28 08:43:31,924]\u001b[0m Param K4 unique value length is less than 2.\u001b[0m\n",
      "\u001b[33m[W 2023-04-28 08:43:31,925]\u001b[0m Param K5 unique value length is less than 2.\u001b[0m\n",
      "\u001b[33m[W 2023-04-28 08:43:31,925]\u001b[0m Param K4 unique value length is less than 2.\u001b[0m\n",
      "\u001b[33m[W 2023-04-28 08:43:31,926]\u001b[0m Param K4 unique value length is less than 2.\u001b[0m\n",
      "\u001b[33m[W 2023-04-28 08:43:31,926]\u001b[0m Param K3 unique value length is less than 2.\u001b[0m\n",
      "\u001b[33m[W 2023-04-28 08:43:31,927]\u001b[0m Param K5 unique value length is less than 2.\u001b[0m\n",
      "\u001b[33m[W 2023-04-28 08:43:31,927]\u001b[0m Param K5 unique value length is less than 2.\u001b[0m\n",
      "\u001b[33m[W 2023-04-28 08:43:31,928]\u001b[0m Param K5 unique value length is less than 2.\u001b[0m\n",
      "\u001b[33m[W 2023-04-28 08:43:31,928]\u001b[0m Param K3 unique value length is less than 2.\u001b[0m\n",
      "\u001b[33m[W 2023-04-28 08:43:31,929]\u001b[0m Param K4 unique value length is less than 2.\u001b[0m\n"
     ]
    },
    {
     "name": "stdout",
     "output_type": "stream",
     "text": [
      "Wind speed:  15\n"
     ]
    },
    {
     "data": {
      "application/vnd.jupyter.widget-view+json": {
       "model_id": "80c5620397324975862eba5d1f168d56",
       "version_major": 2,
       "version_minor": 0
      },
      "text/plain": [
       "  0%|          | 0/10 [00:00<?, ?it/s]"
      ]
     },
     "metadata": {},
     "output_type": "display_data"
    },
    {
     "name": "stdout",
     "output_type": "stream",
     "text": [
      "Trial 2 finished with best value: 0.04220000000000001 and parameters: {'K1': 0.47976094218531373, 'K2': 1.7936082136950535, 'K3': 0.0, 'K4': 0.0, 'K5': 0.0}. \n",
      "Trial 0 finished with best value: 0.0366 and parameters: {'K1': 0.6743013982014748, 'K2': 1.5546728639169853, 'K3': 0.0, 'K4': 0.0, 'K5': 0.0}. \n",
      "Trial 6 finished with best value: 0.033 and parameters: {'K1': 0.6630891311524093, 'K2': 1.3460389599469684, 'K3': 0.0, 'K4': 0.0, 'K5': 0.0}. \n",
      "Trial 9 finished with best value: 0.031900000000000005 and parameters: {'K1': 0.39017920482247537, 'K2': 1.1714821517101166, 'K3': 0.0, 'K4': 0.0, 'K5': 0.0}. \n"
     ]
    },
    {
     "name": "stderr",
     "output_type": "stream",
     "text": [
      "\u001b[33m[W 2023-04-28 09:03:09,672]\u001b[0m Output figures of this Matplotlib-based `plot_contour` function would be different from those of the Plotly-based `plot_contour`.\u001b[0m\n",
      "\u001b[33m[W 2023-04-28 09:03:09,673]\u001b[0m Param K3 unique value length is less than 2.\u001b[0m\n",
      "\u001b[33m[W 2023-04-28 09:03:09,674]\u001b[0m Param K4 unique value length is less than 2.\u001b[0m\n",
      "\u001b[33m[W 2023-04-28 09:03:09,674]\u001b[0m Param K5 unique value length is less than 2.\u001b[0m\n",
      "\u001b[33m[W 2023-04-28 09:03:09,675]\u001b[0m Param K3 unique value length is less than 2.\u001b[0m\n",
      "\u001b[33m[W 2023-04-28 09:03:09,676]\u001b[0m Param K4 unique value length is less than 2.\u001b[0m\n",
      "\u001b[33m[W 2023-04-28 09:03:09,677]\u001b[0m Param K5 unique value length is less than 2.\u001b[0m\n",
      "\u001b[33m[W 2023-04-28 09:03:09,677]\u001b[0m Param K3 unique value length is less than 2.\u001b[0m\n",
      "\u001b[33m[W 2023-04-28 09:03:09,678]\u001b[0m Param K3 unique value length is less than 2.\u001b[0m\n",
      "\u001b[33m[W 2023-04-28 09:03:09,679]\u001b[0m Param K4 unique value length is less than 2.\u001b[0m\n",
      "\u001b[33m[W 2023-04-28 09:03:09,680]\u001b[0m Param K5 unique value length is less than 2.\u001b[0m\n",
      "\u001b[33m[W 2023-04-28 09:03:09,680]\u001b[0m Param K4 unique value length is less than 2.\u001b[0m\n",
      "\u001b[33m[W 2023-04-28 09:03:09,681]\u001b[0m Param K4 unique value length is less than 2.\u001b[0m\n",
      "\u001b[33m[W 2023-04-28 09:03:09,681]\u001b[0m Param K3 unique value length is less than 2.\u001b[0m\n",
      "\u001b[33m[W 2023-04-28 09:03:09,682]\u001b[0m Param K5 unique value length is less than 2.\u001b[0m\n",
      "\u001b[33m[W 2023-04-28 09:03:09,682]\u001b[0m Param K5 unique value length is less than 2.\u001b[0m\n",
      "\u001b[33m[W 2023-04-28 09:03:09,683]\u001b[0m Param K5 unique value length is less than 2.\u001b[0m\n",
      "\u001b[33m[W 2023-04-28 09:03:09,684]\u001b[0m Param K3 unique value length is less than 2.\u001b[0m\n",
      "\u001b[33m[W 2023-04-28 09:03:09,684]\u001b[0m Param K4 unique value length is less than 2.\u001b[0m\n"
     ]
    },
    {
     "name": "stdout",
     "output_type": "stream",
     "text": [
      "Wind speed:  20\n"
     ]
    },
    {
     "data": {
      "application/vnd.jupyter.widget-view+json": {
       "model_id": "170b31e6719d4002891e7b84aa26e262",
       "version_major": 2,
       "version_minor": 0
      },
      "text/plain": [
       "  0%|          | 0/10 [00:00<?, ?it/s]"
      ]
     },
     "metadata": {},
     "output_type": "display_data"
    },
    {
     "name": "stdout",
     "output_type": "stream",
     "text": [
      "Trial 1 finished with best value: 0.09600000000000002 and parameters: {'K1': 0.04261180974240675, 'K2': 1.9982283548426667, 'K3': 0.0, 'K4': 0.0, 'K5': 0.0}. \n",
      "Trial 2 finished with best value: 0.08850000000000001 and parameters: {'K1': 0.46787572835671076, 'K2': 1.742816262438423, 'K3': 0.0, 'K4': 0.0, 'K5': 0.0}. \n",
      "Trial 0 finished with best value: 0.08839999999999999 and parameters: {'K1': 0.7677174044639796, 'K2': 1.9939615493405283, 'K3': 0.0, 'K4': 0.0, 'K5': 0.0}. \n",
      "Trial 5 finished with best value: 0.07950000000000002 and parameters: {'K1': 0.4990874177435815, 'K2': 1.4291726585079272, 'K3': 0.0, 'K4': 0.0, 'K5': 0.0}. \n",
      "Trial 3 finished with best value: 0.0762 and parameters: {'K1': 0.9594325229513654, 'K2': 1.1540000701099091, 'K3': 0.0, 'K4': 0.0, 'K5': 0.0}. \n"
     ]
    },
    {
     "name": "stderr",
     "output_type": "stream",
     "text": [
      "\u001b[33m[W 2023-04-28 09:25:20,426]\u001b[0m Output figures of this Matplotlib-based `plot_contour` function would be different from those of the Plotly-based `plot_contour`.\u001b[0m\n",
      "\u001b[33m[W 2023-04-28 09:25:20,429]\u001b[0m Param K3 unique value length is less than 2.\u001b[0m\n",
      "\u001b[33m[W 2023-04-28 09:25:20,430]\u001b[0m Param K4 unique value length is less than 2.\u001b[0m\n",
      "\u001b[33m[W 2023-04-28 09:25:20,431]\u001b[0m Param K5 unique value length is less than 2.\u001b[0m\n",
      "\u001b[33m[W 2023-04-28 09:25:20,432]\u001b[0m Param K3 unique value length is less than 2.\u001b[0m\n",
      "\u001b[33m[W 2023-04-28 09:25:20,433]\u001b[0m Param K4 unique value length is less than 2.\u001b[0m\n",
      "\u001b[33m[W 2023-04-28 09:25:20,434]\u001b[0m Param K5 unique value length is less than 2.\u001b[0m\n",
      "\u001b[33m[W 2023-04-28 09:25:20,435]\u001b[0m Param K3 unique value length is less than 2.\u001b[0m\n",
      "\u001b[33m[W 2023-04-28 09:25:20,436]\u001b[0m Param K3 unique value length is less than 2.\u001b[0m\n",
      "\u001b[33m[W 2023-04-28 09:25:20,437]\u001b[0m Param K4 unique value length is less than 2.\u001b[0m\n",
      "\u001b[33m[W 2023-04-28 09:25:20,438]\u001b[0m Param K5 unique value length is less than 2.\u001b[0m\n",
      "\u001b[33m[W 2023-04-28 09:25:20,439]\u001b[0m Param K4 unique value length is less than 2.\u001b[0m\n",
      "\u001b[33m[W 2023-04-28 09:25:20,440]\u001b[0m Param K4 unique value length is less than 2.\u001b[0m\n",
      "\u001b[33m[W 2023-04-28 09:25:20,441]\u001b[0m Param K3 unique value length is less than 2.\u001b[0m\n",
      "\u001b[33m[W 2023-04-28 09:25:20,442]\u001b[0m Param K5 unique value length is less than 2.\u001b[0m\n",
      "\u001b[33m[W 2023-04-28 09:25:20,443]\u001b[0m Param K5 unique value length is less than 2.\u001b[0m\n",
      "\u001b[33m[W 2023-04-28 09:25:20,444]\u001b[0m Param K5 unique value length is less than 2.\u001b[0m\n",
      "\u001b[33m[W 2023-04-28 09:25:20,445]\u001b[0m Param K3 unique value length is less than 2.\u001b[0m\n",
      "\u001b[33m[W 2023-04-28 09:25:20,446]\u001b[0m Param K4 unique value length is less than 2.\u001b[0m\n"
     ]
    },
    {
     "name": "stdout",
     "output_type": "stream",
     "text": [
      "Wind speed:  30\n"
     ]
    },
    {
     "data": {
      "application/vnd.jupyter.widget-view+json": {
       "model_id": "f68b0ffa08fd4ca69561e83915868ada",
       "version_major": 2,
       "version_minor": 0
      },
      "text/plain": [
       "  0%|          | 0/10 [00:00<?, ?it/s]"
      ]
     },
     "metadata": {},
     "output_type": "display_data"
    },
    {
     "name": "stdout",
     "output_type": "stream",
     "text": [
      "Trial 0 finished with best value: 0.008244 and parameters: {'K1': 0.7196050705324494, 'K2': 1.7380107024065699, 'K3': 0.0, 'K4': 0.0, 'K5': 0.0}. \n",
      "Trial 1 finished with best value: 0.007940000000000001 and parameters: {'K1': 0.8793303545084153, 'K2': 1.599849941155571, 'K3': 0.0, 'K4': 0.0, 'K5': 0.0}. \n",
      "Trial 5 finished with best value: 0.007876000000000001 and parameters: {'K1': 0.7376801385264676, 'K2': 1.5196453969925545, 'K3': 0.0, 'K4': 0.0, 'K5': 0.0}. \n",
      "Trial 6 finished with best value: 0.007756 and parameters: {'K1': 0.663834931979697, 'K2': 1.4401086374258325, 'K3': 0.0, 'K4': 0.0, 'K5': 0.0}. \n"
     ]
    },
    {
     "name": "stderr",
     "output_type": "stream",
     "text": [
      "\u001b[33m[W 2023-04-28 10:24:24,826]\u001b[0m Output figures of this Matplotlib-based `plot_contour` function would be different from those of the Plotly-based `plot_contour`.\u001b[0m\n",
      "\u001b[33m[W 2023-04-28 10:24:24,827]\u001b[0m Param K3 unique value length is less than 2.\u001b[0m\n",
      "\u001b[33m[W 2023-04-28 10:24:24,828]\u001b[0m Param K4 unique value length is less than 2.\u001b[0m\n",
      "\u001b[33m[W 2023-04-28 10:24:24,829]\u001b[0m Param K5 unique value length is less than 2.\u001b[0m\n",
      "\u001b[33m[W 2023-04-28 10:24:24,830]\u001b[0m Param K3 unique value length is less than 2.\u001b[0m\n",
      "\u001b[33m[W 2023-04-28 10:24:24,830]\u001b[0m Param K4 unique value length is less than 2.\u001b[0m\n",
      "\u001b[33m[W 2023-04-28 10:24:24,831]\u001b[0m Param K5 unique value length is less than 2.\u001b[0m\n",
      "\u001b[33m[W 2023-04-28 10:24:24,831]\u001b[0m Param K3 unique value length is less than 2.\u001b[0m\n",
      "\u001b[33m[W 2023-04-28 10:24:24,832]\u001b[0m Param K3 unique value length is less than 2.\u001b[0m\n",
      "\u001b[33m[W 2023-04-28 10:24:24,833]\u001b[0m Param K4 unique value length is less than 2.\u001b[0m\n",
      "\u001b[33m[W 2023-04-28 10:24:24,834]\u001b[0m Param K5 unique value length is less than 2.\u001b[0m\n",
      "\u001b[33m[W 2023-04-28 10:24:24,834]\u001b[0m Param K4 unique value length is less than 2.\u001b[0m\n",
      "\u001b[33m[W 2023-04-28 10:24:24,835]\u001b[0m Param K4 unique value length is less than 2.\u001b[0m\n",
      "\u001b[33m[W 2023-04-28 10:24:24,835]\u001b[0m Param K3 unique value length is less than 2.\u001b[0m\n",
      "\u001b[33m[W 2023-04-28 10:24:24,836]\u001b[0m Param K5 unique value length is less than 2.\u001b[0m\n",
      "\u001b[33m[W 2023-04-28 10:24:24,836]\u001b[0m Param K5 unique value length is less than 2.\u001b[0m\n",
      "\u001b[33m[W 2023-04-28 10:24:24,837]\u001b[0m Param K5 unique value length is less than 2.\u001b[0m\n",
      "\u001b[33m[W 2023-04-28 10:24:24,837]\u001b[0m Param K3 unique value length is less than 2.\u001b[0m\n",
      "\u001b[33m[W 2023-04-28 10:24:24,838]\u001b[0m Param K4 unique value length is less than 2.\u001b[0m\n"
     ]
    },
    {
     "name": "stdout",
     "output_type": "stream",
     "text": [
      "Wind speed:  0\n"
     ]
    },
    {
     "data": {
      "application/vnd.jupyter.widget-view+json": {
       "model_id": "2159530743774f34bc31642594bca7c5",
       "version_major": 2,
       "version_minor": 0
      },
      "text/plain": [
       "  0%|          | 0/10 [00:00<?, ?it/s]"
      ]
     },
     "metadata": {},
     "output_type": "display_data"
    },
    {
     "name": "stdout",
     "output_type": "stream",
     "text": [
      "Trial 3 finished with best value: 0.0002 and parameters: {'K1': 0.5960444606997809, 'K2': 1.9701663240039657, 'K3': 0.0, 'K4': 0.0, 'K5': 0.0}. \n"
     ]
    },
    {
     "name": "stderr",
     "output_type": "stream",
     "text": [
      "\u001b[33m[W 2023-04-28 10:27:55,004]\u001b[0m Output figures of this Matplotlib-based `plot_contour` function would be different from those of the Plotly-based `plot_contour`.\u001b[0m\n",
      "\u001b[33m[W 2023-04-28 10:27:55,006]\u001b[0m Param K3 unique value length is less than 2.\u001b[0m\n",
      "\u001b[33m[W 2023-04-28 10:27:55,007]\u001b[0m Param K4 unique value length is less than 2.\u001b[0m\n",
      "\u001b[33m[W 2023-04-28 10:27:55,007]\u001b[0m Param K5 unique value length is less than 2.\u001b[0m\n",
      "\u001b[33m[W 2023-04-28 10:27:55,008]\u001b[0m Param K3 unique value length is less than 2.\u001b[0m\n",
      "\u001b[33m[W 2023-04-28 10:27:55,009]\u001b[0m Param K4 unique value length is less than 2.\u001b[0m\n",
      "\u001b[33m[W 2023-04-28 10:27:55,009]\u001b[0m Param K5 unique value length is less than 2.\u001b[0m\n",
      "\u001b[33m[W 2023-04-28 10:27:55,010]\u001b[0m Param K3 unique value length is less than 2.\u001b[0m\n",
      "\u001b[33m[W 2023-04-28 10:27:55,011]\u001b[0m Param K3 unique value length is less than 2.\u001b[0m\n",
      "\u001b[33m[W 2023-04-28 10:27:55,011]\u001b[0m Param K4 unique value length is less than 2.\u001b[0m\n",
      "\u001b[33m[W 2023-04-28 10:27:55,012]\u001b[0m Param K5 unique value length is less than 2.\u001b[0m\n",
      "\u001b[33m[W 2023-04-28 10:27:55,012]\u001b[0m Param K4 unique value length is less than 2.\u001b[0m\n",
      "\u001b[33m[W 2023-04-28 10:27:55,013]\u001b[0m Param K4 unique value length is less than 2.\u001b[0m\n",
      "\u001b[33m[W 2023-04-28 10:27:55,013]\u001b[0m Param K3 unique value length is less than 2.\u001b[0m\n",
      "\u001b[33m[W 2023-04-28 10:27:55,014]\u001b[0m Param K5 unique value length is less than 2.\u001b[0m\n",
      "\u001b[33m[W 2023-04-28 10:27:55,015]\u001b[0m Param K5 unique value length is less than 2.\u001b[0m\n",
      "\u001b[33m[W 2023-04-28 10:27:55,015]\u001b[0m Param K5 unique value length is less than 2.\u001b[0m\n",
      "\u001b[33m[W 2023-04-28 10:27:55,016]\u001b[0m Param K3 unique value length is less than 2.\u001b[0m\n",
      "\u001b[33m[W 2023-04-28 10:27:55,016]\u001b[0m Param K4 unique value length is less than 2.\u001b[0m\n"
     ]
    },
    {
     "name": "stdout",
     "output_type": "stream",
     "text": [
      "Wind speed:  1\n"
     ]
    },
    {
     "data": {
      "application/vnd.jupyter.widget-view+json": {
       "model_id": "3f85a11555c9436f869126acb3afc341",
       "version_major": 2,
       "version_minor": 0
      },
      "text/plain": [
       "  0%|          | 0/10 [00:00<?, ?it/s]"
      ]
     },
     "metadata": {},
     "output_type": "display_data"
    },
    {
     "name": "stdout",
     "output_type": "stream",
     "text": [
      "Trial 2 finished with best value: 0.0004 and parameters: {'K1': 0.06081569228209083, 'K2': 1.6593952278893087, 'K3': 0.0, 'K4': 0.0, 'K5': 0.0}. \n"
     ]
    },
    {
     "name": "stderr",
     "output_type": "stream",
     "text": [
      "\u001b[33m[W 2023-04-28 10:31:25,110]\u001b[0m Output figures of this Matplotlib-based `plot_contour` function would be different from those of the Plotly-based `plot_contour`.\u001b[0m\n",
      "\u001b[33m[W 2023-04-28 10:31:25,111]\u001b[0m Param K3 unique value length is less than 2.\u001b[0m\n",
      "\u001b[33m[W 2023-04-28 10:31:25,112]\u001b[0m Param K4 unique value length is less than 2.\u001b[0m\n",
      "\u001b[33m[W 2023-04-28 10:31:25,113]\u001b[0m Param K5 unique value length is less than 2.\u001b[0m\n",
      "\u001b[33m[W 2023-04-28 10:31:25,114]\u001b[0m Param K3 unique value length is less than 2.\u001b[0m\n",
      "\u001b[33m[W 2023-04-28 10:31:25,114]\u001b[0m Param K4 unique value length is less than 2.\u001b[0m\n",
      "\u001b[33m[W 2023-04-28 10:31:25,115]\u001b[0m Param K5 unique value length is less than 2.\u001b[0m\n",
      "\u001b[33m[W 2023-04-28 10:31:25,115]\u001b[0m Param K3 unique value length is less than 2.\u001b[0m\n",
      "\u001b[33m[W 2023-04-28 10:31:25,116]\u001b[0m Param K3 unique value length is less than 2.\u001b[0m\n",
      "\u001b[33m[W 2023-04-28 10:31:25,117]\u001b[0m Param K4 unique value length is less than 2.\u001b[0m\n",
      "\u001b[33m[W 2023-04-28 10:31:25,117]\u001b[0m Param K5 unique value length is less than 2.\u001b[0m\n",
      "\u001b[33m[W 2023-04-28 10:31:25,118]\u001b[0m Param K4 unique value length is less than 2.\u001b[0m\n",
      "\u001b[33m[W 2023-04-28 10:31:25,119]\u001b[0m Param K4 unique value length is less than 2.\u001b[0m\n",
      "\u001b[33m[W 2023-04-28 10:31:25,119]\u001b[0m Param K3 unique value length is less than 2.\u001b[0m\n",
      "\u001b[33m[W 2023-04-28 10:31:25,120]\u001b[0m Param K5 unique value length is less than 2.\u001b[0m\n",
      "\u001b[33m[W 2023-04-28 10:31:25,120]\u001b[0m Param K5 unique value length is less than 2.\u001b[0m\n",
      "\u001b[33m[W 2023-04-28 10:31:25,121]\u001b[0m Param K5 unique value length is less than 2.\u001b[0m\n",
      "\u001b[33m[W 2023-04-28 10:31:25,121]\u001b[0m Param K3 unique value length is less than 2.\u001b[0m\n",
      "\u001b[33m[W 2023-04-28 10:31:25,122]\u001b[0m Param K4 unique value length is less than 2.\u001b[0m\n"
     ]
    },
    {
     "name": "stdout",
     "output_type": "stream",
     "text": [
      "Wind speed:  2\n"
     ]
    },
    {
     "data": {
      "application/vnd.jupyter.widget-view+json": {
       "model_id": "6aff7b949ef14338a4f412785f090353",
       "version_major": 2,
       "version_minor": 0
      },
      "text/plain": [
       "  0%|          | 0/10 [00:00<?, ?it/s]"
      ]
     },
     "metadata": {},
     "output_type": "display_data"
    },
    {
     "name": "stdout",
     "output_type": "stream",
     "text": [
      "Trial 0 finished with best value: 0.0008 and parameters: {'K1': 0.9913123985388234, 'K2': 1.307302226176804, 'K3': 0.0, 'K4': 0.0, 'K5': 0.0}. \n"
     ]
    },
    {
     "name": "stderr",
     "output_type": "stream",
     "text": [
      "\u001b[33m[W 2023-04-28 10:34:55,450]\u001b[0m Output figures of this Matplotlib-based `plot_contour` function would be different from those of the Plotly-based `plot_contour`.\u001b[0m\n",
      "\u001b[33m[W 2023-04-28 10:34:55,452]\u001b[0m Param K3 unique value length is less than 2.\u001b[0m\n",
      "\u001b[33m[W 2023-04-28 10:34:55,452]\u001b[0m Param K4 unique value length is less than 2.\u001b[0m\n",
      "\u001b[33m[W 2023-04-28 10:34:55,453]\u001b[0m Param K5 unique value length is less than 2.\u001b[0m\n",
      "\u001b[33m[W 2023-04-28 10:34:55,453]\u001b[0m Param K3 unique value length is less than 2.\u001b[0m\n",
      "\u001b[33m[W 2023-04-28 10:34:55,454]\u001b[0m Param K4 unique value length is less than 2.\u001b[0m\n",
      "\u001b[33m[W 2023-04-28 10:34:55,454]\u001b[0m Param K5 unique value length is less than 2.\u001b[0m\n",
      "\u001b[33m[W 2023-04-28 10:34:55,455]\u001b[0m Param K3 unique value length is less than 2.\u001b[0m\n",
      "\u001b[33m[W 2023-04-28 10:34:55,455]\u001b[0m Param K3 unique value length is less than 2.\u001b[0m\n",
      "\u001b[33m[W 2023-04-28 10:34:55,456]\u001b[0m Param K4 unique value length is less than 2.\u001b[0m\n",
      "\u001b[33m[W 2023-04-28 10:34:55,456]\u001b[0m Param K5 unique value length is less than 2.\u001b[0m\n",
      "\u001b[33m[W 2023-04-28 10:34:55,456]\u001b[0m Param K4 unique value length is less than 2.\u001b[0m\n",
      "\u001b[33m[W 2023-04-28 10:34:55,457]\u001b[0m Param K4 unique value length is less than 2.\u001b[0m\n",
      "\u001b[33m[W 2023-04-28 10:34:55,457]\u001b[0m Param K3 unique value length is less than 2.\u001b[0m\n",
      "\u001b[33m[W 2023-04-28 10:34:55,458]\u001b[0m Param K5 unique value length is less than 2.\u001b[0m\n",
      "\u001b[33m[W 2023-04-28 10:34:55,458]\u001b[0m Param K5 unique value length is less than 2.\u001b[0m\n",
      "\u001b[33m[W 2023-04-28 10:34:55,459]\u001b[0m Param K5 unique value length is less than 2.\u001b[0m\n",
      "\u001b[33m[W 2023-04-28 10:34:55,459]\u001b[0m Param K3 unique value length is less than 2.\u001b[0m\n",
      "\u001b[33m[W 2023-04-28 10:34:55,460]\u001b[0m Param K4 unique value length is less than 2.\u001b[0m\n"
     ]
    },
    {
     "name": "stdout",
     "output_type": "stream",
     "text": [
      "Wind speed:  9\n"
     ]
    },
    {
     "data": {
      "application/vnd.jupyter.widget-view+json": {
       "model_id": "ee5a3ac2bb57447bae52bce62524bb2a",
       "version_major": 2,
       "version_minor": 0
      },
      "text/plain": [
       "  0%|          | 0/10 [00:00<?, ?it/s]"
      ]
     },
     "metadata": {},
     "output_type": "display_data"
    },
    {
     "name": "stdout",
     "output_type": "stream",
     "text": [
      "Trial 1 finished with best value: 0.0094 and parameters: {'K1': 0.5114939834550636, 'K2': 1.5466937915873147, 'K3': 0.0, 'K4': 0.0, 'K5': 0.0}. \n",
      "Trial 4 finished with best value: 0.008400000000000001 and parameters: {'K1': 0.4618152108552971, 'K2': 1.612432258394887, 'K3': 0.0, 'K4': 0.0, 'K5': 0.0}. \n",
      "Trial 9 finished with best value: 0.0066 and parameters: {'K1': 0.389296916773202, 'K2': 1.217958624490216, 'K3': 0.0, 'K4': 0.0, 'K5': 0.0}. \n"
     ]
    },
    {
     "name": "stderr",
     "output_type": "stream",
     "text": [
      "\u001b[33m[W 2023-04-28 10:47:01,179]\u001b[0m Output figures of this Matplotlib-based `plot_contour` function would be different from those of the Plotly-based `plot_contour`.\u001b[0m\n",
      "\u001b[33m[W 2023-04-28 10:47:01,180]\u001b[0m Param K3 unique value length is less than 2.\u001b[0m\n",
      "\u001b[33m[W 2023-04-28 10:47:01,181]\u001b[0m Param K4 unique value length is less than 2.\u001b[0m\n",
      "\u001b[33m[W 2023-04-28 10:47:01,182]\u001b[0m Param K5 unique value length is less than 2.\u001b[0m\n",
      "\u001b[33m[W 2023-04-28 10:47:01,182]\u001b[0m Param K3 unique value length is less than 2.\u001b[0m\n",
      "\u001b[33m[W 2023-04-28 10:47:01,183]\u001b[0m Param K4 unique value length is less than 2.\u001b[0m\n",
      "\u001b[33m[W 2023-04-28 10:47:01,184]\u001b[0m Param K5 unique value length is less than 2.\u001b[0m\n",
      "\u001b[33m[W 2023-04-28 10:47:01,184]\u001b[0m Param K3 unique value length is less than 2.\u001b[0m\n",
      "\u001b[33m[W 2023-04-28 10:47:01,185]\u001b[0m Param K3 unique value length is less than 2.\u001b[0m\n",
      "\u001b[33m[W 2023-04-28 10:47:01,185]\u001b[0m Param K4 unique value length is less than 2.\u001b[0m\n",
      "\u001b[33m[W 2023-04-28 10:47:01,186]\u001b[0m Param K5 unique value length is less than 2.\u001b[0m\n",
      "\u001b[33m[W 2023-04-28 10:47:01,186]\u001b[0m Param K4 unique value length is less than 2.\u001b[0m\n",
      "\u001b[33m[W 2023-04-28 10:47:01,187]\u001b[0m Param K4 unique value length is less than 2.\u001b[0m\n",
      "\u001b[33m[W 2023-04-28 10:47:01,187]\u001b[0m Param K3 unique value length is less than 2.\u001b[0m\n",
      "\u001b[33m[W 2023-04-28 10:47:01,188]\u001b[0m Param K5 unique value length is less than 2.\u001b[0m\n",
      "\u001b[33m[W 2023-04-28 10:47:01,188]\u001b[0m Param K5 unique value length is less than 2.\u001b[0m\n",
      "\u001b[33m[W 2023-04-28 10:47:01,189]\u001b[0m Param K5 unique value length is less than 2.\u001b[0m\n",
      "\u001b[33m[W 2023-04-28 10:47:01,190]\u001b[0m Param K3 unique value length is less than 2.\u001b[0m\n",
      "\u001b[33m[W 2023-04-28 10:47:01,190]\u001b[0m Param K4 unique value length is less than 2.\u001b[0m\n"
     ]
    },
    {
     "name": "stdout",
     "output_type": "stream",
     "text": [
      "Wind speed:  10\n"
     ]
    },
    {
     "data": {
      "application/vnd.jupyter.widget-view+json": {
       "model_id": "96572af2a8ec4bd1a8d1c47c43cbfb30",
       "version_major": 2,
       "version_minor": 0
      },
      "text/plain": [
       "  0%|          | 0/10 [00:00<?, ?it/s]"
      ]
     },
     "metadata": {},
     "output_type": "display_data"
    },
    {
     "name": "stdout",
     "output_type": "stream",
     "text": [
      "Trial 1 finished with best value: 0.0177 and parameters: {'K1': 0.21123908370725697, 'K2': 1.486816522019637, 'K3': 0.0, 'K4': 0.0, 'K5': 0.0}. \n",
      "Trial 0 finished with best value: 0.0096 and parameters: {'K1': 0.5174515259518713, 'K2': 1.1205352437952156, 'K3': 0.0, 'K4': 0.0, 'K5': 0.0}. \n"
     ]
    },
    {
     "name": "stderr",
     "output_type": "stream",
     "text": [
      "\u001b[33m[W 2023-04-28 10:55:38,190]\u001b[0m Output figures of this Matplotlib-based `plot_contour` function would be different from those of the Plotly-based `plot_contour`.\u001b[0m\n",
      "\u001b[33m[W 2023-04-28 10:55:38,192]\u001b[0m Param K3 unique value length is less than 2.\u001b[0m\n",
      "\u001b[33m[W 2023-04-28 10:55:38,192]\u001b[0m Param K4 unique value length is less than 2.\u001b[0m\n",
      "\u001b[33m[W 2023-04-28 10:55:38,193]\u001b[0m Param K5 unique value length is less than 2.\u001b[0m\n",
      "\u001b[33m[W 2023-04-28 10:55:38,194]\u001b[0m Param K3 unique value length is less than 2.\u001b[0m\n",
      "\u001b[33m[W 2023-04-28 10:55:38,194]\u001b[0m Param K4 unique value length is less than 2.\u001b[0m\n",
      "\u001b[33m[W 2023-04-28 10:55:38,195]\u001b[0m Param K5 unique value length is less than 2.\u001b[0m\n",
      "\u001b[33m[W 2023-04-28 10:55:38,196]\u001b[0m Param K3 unique value length is less than 2.\u001b[0m\n",
      "\u001b[33m[W 2023-04-28 10:55:38,196]\u001b[0m Param K3 unique value length is less than 2.\u001b[0m\n",
      "\u001b[33m[W 2023-04-28 10:55:38,197]\u001b[0m Param K4 unique value length is less than 2.\u001b[0m\n",
      "\u001b[33m[W 2023-04-28 10:55:38,197]\u001b[0m Param K5 unique value length is less than 2.\u001b[0m\n",
      "\u001b[33m[W 2023-04-28 10:55:38,198]\u001b[0m Param K4 unique value length is less than 2.\u001b[0m\n",
      "\u001b[33m[W 2023-04-28 10:55:38,199]\u001b[0m Param K4 unique value length is less than 2.\u001b[0m\n",
      "\u001b[33m[W 2023-04-28 10:55:38,199]\u001b[0m Param K3 unique value length is less than 2.\u001b[0m\n",
      "\u001b[33m[W 2023-04-28 10:55:38,200]\u001b[0m Param K5 unique value length is less than 2.\u001b[0m\n",
      "\u001b[33m[W 2023-04-28 10:55:38,200]\u001b[0m Param K5 unique value length is less than 2.\u001b[0m\n",
      "\u001b[33m[W 2023-04-28 10:55:38,201]\u001b[0m Param K5 unique value length is less than 2.\u001b[0m\n",
      "\u001b[33m[W 2023-04-28 10:55:38,201]\u001b[0m Param K3 unique value length is less than 2.\u001b[0m\n",
      "\u001b[33m[W 2023-04-28 10:55:38,202]\u001b[0m Param K4 unique value length is less than 2.\u001b[0m\n"
     ]
    },
    {
     "name": "stdout",
     "output_type": "stream",
     "text": [
      "Wind speed:  15\n"
     ]
    },
    {
     "data": {
      "application/vnd.jupyter.widget-view+json": {
       "model_id": "f79e8d1a440d4d308a7b432d553a1d41",
       "version_major": 2,
       "version_minor": 0
      },
      "text/plain": [
       "  0%|          | 0/10 [00:00<?, ?it/s]"
      ]
     },
     "metadata": {},
     "output_type": "display_data"
    }
   ],
   "source": [
    "seed_results = []\n",
    "\n",
    "for loss in [1,2,3,4,5]:\n",
    "\n",
    "    for SEED in range(1,4):\n",
    "        np.random.seed(SEED)\n",
    "\n",
    "        # Input parameters to define INSTANCE\n",
    "        ftype = 101\n",
    "        weather_hours = 5\n",
    "        fperiod_length = 1\n",
    "        prune_steps = 100\n",
    "\n",
    "        # Optuna parameters\n",
    "        n_trials = 10\n",
    "        # loss = 1\n",
    "\n",
    "        # K factors\n",
    "        k1_min = 0; k1_max = 1; k2_min = 1; k2_max = 2; k3_min = 0;k3_max = 0; k4_min = 0; k4_max = 0;k5_min = 0; k5_max = 0\n",
    "\n",
    "        # Define paths (BASEPATH and OUTPATH for results)\n",
    "        BASEPATH = \"/home/minho/fires/cell2fireML_v2\"\n",
    "        OUTPATH = os.path.join(BASEPATH, 'results_paper', 'check_trials'+str(n_trials)+'_prune'+str(prune_steps)+'_loss'+str(loss))\n",
    "        if OUTPATH is not None:\n",
    "            if os.path.isdir(OUTPATH) is False:\n",
    "                os.makedirs(OUTPATH)\n",
    "\n",
    "        # Define dict with loss functions, name, and optimization direction\n",
    "        lossdict = {1:['FrobeniusNorm', 'minimize'],\n",
    "                    2:['MSE', 'minimize'],\n",
    "                    3:['F1', 'maximize'],\n",
    "                    4:['Log-loss', 'minimize'],\n",
    "                    5:['SSIM','maximize']}\n",
    "\n",
    "        results = []\n",
    "\n",
    "        # Create list of wind speeds to simulate (Wind speeds in mph)\n",
    "        # wind_list = list(range(min_wind, max_wind+1, step_wind))\n",
    "        wind_list = [0,1,2,9,10,15,20,30]\n",
    "        df_list = []\n",
    "\n",
    "        ###################\n",
    "        # Optimization loop\n",
    "        for ws in wind_list:\n",
    "            print(\"Wind speed: \", ws)\n",
    "            # From the benchmark results which are available at optuna/optuna - wiki “Benchmarks with Kurobako”, at least for not deep learning tasks, we would say that\n",
    "            # For RandomSampler, MedianPruner is the best.\n",
    "            # For TPESampler, HyperbandPruner is the best.\n",
    "            # study = optuna.create_study(directions=[lossdict[loss][1]],\n",
    "            #                             sampler=optuna.samplers.TPESampler(seed=SEED),\n",
    "            #                             pruner=optuna.pruners.HyperbandPruner(n_warmup_steps=10))\n",
    "            study = optuna.create_study(directions=[lossdict[loss][1]],\n",
    "                                        sampler=optuna.samplers.CmaEsSampler(with_margin=True),\n",
    "                                        # pruner=optuna.pruners.MedianPruner())\n",
    "                                        pruner=optuna.pruners.HyperbandPruner())\n",
    "\n",
    "\n",
    "            study.optimize(Objective(k1_min=k1_min, k1_max=k1_max, k2_min=k2_min, k2_max=k2_max, k3_min=k3_min, k3_max=k3_max, \\\n",
    "                                    k4_min=k4_min, k4_max=k4_max, k5_min=k5_min, k5_max=k5_max, \\\n",
    "                                    loss=loss, prune_steps=prune_steps,basepath=BASEPATH), \\\n",
    "                                    n_trials=n_trials, callbacks=[logging_callback], show_progress_bar=True, n_jobs=4)\n",
    "            # study.optimize(Objective(k1_min=k1_min, k1_max=k1_max, k2_min=k2_min, k2_max=k2_max, k3_min=k3_min, k3_max=k3_max, k4_min=k4_min, k4_max=k4_max, k5_min=k5_min, k5_max=k5_max,loss=loss, prune_steps=prune_steps, basepath=BASEPATH),n_trials=n_trials, callbacks=[logging_callback])\n",
    "\n",
    "            fdict = {\"WS\":ws, \"Score\":study.best_value}\n",
    "            fdict.update(study.best_params)\n",
    "            results.append(fdict)\n",
    "                \n",
    "            # Plot & Visualize\n",
    "            plt.rcParams['figure.figsize'] = [12, 12]\n",
    "            plot_parallel_coordinate(study)\n",
    "            plt.savefig(os.path.join(OUTPATH, \"parallel_coordinate_\"+\"ws\"+str(ws)+\"_trials\"+str(n_trials)+'_seed'+str(SEED)+\".png\"),  bbox_inches='tight')\n",
    "\n",
    "            plot_optimization_history(study, target_name=lossdict[loss][0], error_bar=True)\n",
    "            plt.savefig(os.path.join(OUTPATH, \"plot_optimization_history\"+\"ws\"+str(ws)+\"_trials\"+str(n_trials)+'_seed'+str(SEED)+\".png\"),  bbox_inches='tight')\n",
    "\n",
    "            plot_contour(study, target_name=lossdict[loss][0])\n",
    "            plt.savefig(os.path.join(OUTPATH, \"plot_contour\"+\"ws\"+str(ws)+\"_trials\"+str(n_trials)+'_seed'+str(SEED)+\".png\"),  bbox_inches='tight')\n",
    "\n",
    "            # plot_intermediate_values(study)\n",
    "            # plt.savefig(os.path.join(OUTPATH, \"plot_intermediate_values\"+\"ws\"+str(ws)+\"_trials\"+str(n_trials)+\".png\"),  bbox_inches='tight')\n",
    "\n",
    "            plot_param_importances(\n",
    "                study, target=lambda t: t.duration.total_seconds(), target_name=\"duration\"\n",
    "            )\n",
    "            plt.savefig(os.path.join(OUTPATH, \"plot_param_importances\"+\"ws\"+str(ws)+\"_trials\"+str(n_trials)+'_seed'+str(SEED)+\".png\"),  bbox_inches='tight')\n",
    "\n",
    "            # Parameter Results DF\n",
    "            df1 = study.trials_dataframe().reset_index(drop=True)\n",
    "            df_list.append(df1)\n",
    "            \n",
    "            \n",
    "        results = pd.DataFrame(results)\n",
    "        results_df = pd.concat(df_list, axis=0, keys=[str(i) for i in wind_list])\n",
    "\n",
    "        # Convert wind speed to eccentricity values\n",
    "        alpha = 0.2566; beta = -0.1548; ebar_list = []\n",
    "        for ws_mph in results['WS']:\n",
    "            ws_ms = ws_mph / 2.237\n",
    "            LW = 0.936 * np.exp(alpha * ws_ms) + 0.461 * np.exp(beta * ws_ms) - 0.397\n",
    "            Ebar = np.sqrt(1 - 1/(LW**2))\n",
    "            ebar_list.append(Ebar)\n",
    "        results['Ecc'] = ebar_list\n",
    "        results = results[['Ecc','Score','K1','K2','K3','K4','K5']]\n",
    "\n",
    "        # Save results\n",
    "        results.to_csv(os.path.join(OUTPATH, 'k_opt_'+lossdict[loss][0]+'_seed'+str(SEED)+'.csv'), index=False)\n",
    "\n",
    "        seed_results.append(results_df)\n",
    "\n",
    "    # Concatenate all seed results in single DF\n",
    "    seeds_df = pd.concat(seed_results, keys=['s1','s2','s3','s4','s5'])\n",
    "    seeds_df = seeds_df.reset_index()\n",
    "\n",
    "    # Select best params for all wind speeds in each seed\n",
    "    ws0 = seeds_df[seeds_df['level_1']=='0']\n",
    "    ws1 = seeds_df[seeds_df['level_1']=='1']\n",
    "    ws2 = seeds_df[seeds_df['level_1']=='2']\n",
    "    ws9 = seeds_df[seeds_df['level_1']=='9']\n",
    "    ws10 = seeds_df[seeds_df['level_1']=='10']\n",
    "    ws15 = seeds_df[seeds_df['level_1']=='15']\n",
    "    ws20 = seeds_df[seeds_df['level_1']=='20']\n",
    "    ws30 = seeds_df[seeds_df['level_1']=='30']\n",
    "\n",
    "    # Plot CI for loss function\n",
    "    import seaborn as sns\n",
    "    plt.figure()\n",
    "    sns.lineplot(data=ws0, x=\"number\", y=\"value\", label='ws0')\n",
    "    sns.lineplot(data=ws1, x=\"number\", y=\"value\", label='ws1')\n",
    "    sns.lineplot(data=ws2, x=\"number\", y=\"value\", label='ws2')\n",
    "    sns.lineplot(data=ws9, x=\"number\", y=\"value\",label='ws9')\n",
    "    sns.lineplot(data=ws10, x=\"number\", y=\"value\",label='ws10')\n",
    "    sns.lineplot(data=ws15, x=\"number\", y=\"value\",label='ws15')\n",
    "    sns.lineplot(data=ws20, x=\"number\", y=\"value\",label='ws20')\n",
    "    sns.lineplot(data=ws30, x=\"number\", y=\"value\",label='ws30')\n",
    "\n",
    "    plt.xlabel(\"Trials\", fontsize=14)\n",
    "    plt.ylabel(lossdict[loss][0], fontsize=14)\n",
    "    plt.xticks(fontsize=14)\n",
    "    plt.yticks(fontsize=14)\n",
    "    plt.legend(bbox_to_anchor=(1.05, 1), loc='upper left', borderaxespad=0, fontsize=14)\n",
    "\n",
    "    plt.savefig(os.path.join(OUTPATH, lossdict[loss][0] + \"_perWS.png\"),  bbox_inches='tight')\n",
    "\n",
    "    plt.figure()\n",
    "    sns.lineplot(data=ws0, x=\"number\", y=\"value\", label='ws0')\n",
    "    plt.xlabel(\"Trials\", fontsize=14)\n",
    "    plt.ylabel(lossdict[loss][0], fontsize=14)\n",
    "    plt.xticks(fontsize=14)\n",
    "    plt.yticks(fontsize=14)\n",
    "    plt.legend(bbox_to_anchor=(1.05, 1), loc='upper left', borderaxespad=0, fontsize=14)\n",
    "    plt.savefig(os.path.join(OUTPATH, lossdict[loss][0] + \"_WS0.png\"),  bbox_inches='tight')\n",
    "\n",
    "    plt.figure()\n",
    "    sns.lineplot(data=ws1, x=\"number\", y=\"value\", label='ws1')\n",
    "    plt.xlabel(\"Trials\", fontsize=14)\n",
    "    plt.ylabel(lossdict[loss][0], fontsize=14)\n",
    "    plt.xticks(fontsize=14)\n",
    "    plt.yticks(fontsize=14)\n",
    "    plt.legend(bbox_to_anchor=(1.05, 1), loc='upper left', borderaxespad=0, fontsize=14)\n",
    "    plt.savefig(os.path.join(OUTPATH, lossdict[loss][0] + \"_WS1.png\"),  bbox_inches='tight')\n",
    "\n",
    "    plt.figure()\n",
    "    sns.lineplot(data=ws2, x=\"number\", y=\"value\", label='ws2')\n",
    "    plt.xlabel(\"Trials\", fontsize=14)\n",
    "    plt.ylabel(lossdict[loss][0], fontsize=14)\n",
    "    plt.xticks(fontsize=14)\n",
    "    plt.yticks(fontsize=14)\n",
    "    plt.legend(bbox_to_anchor=(1.05, 1), loc='upper left', borderaxespad=0, fontsize=14)\n",
    "    plt.savefig(os.path.join(OUTPATH, lossdict[loss][0] + \"_WS2.png\"),  bbox_inches='tight')\n",
    "\n",
    "    plt.figure()\n",
    "    sns.lineplot(data=ws9, x=\"number\", y=\"value\",label='ws9')\n",
    "    plt.xlabel(\"Trials\", fontsize=14)\n",
    "    plt.ylabel(lossdict[loss][0], fontsize=14)\n",
    "    plt.xticks(fontsize=14)\n",
    "    plt.yticks(fontsize=14)\n",
    "    plt.legend(bbox_to_anchor=(1.05, 1), loc='upper left', borderaxespad=0, fontsize=14)\n",
    "    plt.savefig(os.path.join(OUTPATH, lossdict[loss][0] + \"_WS9.png\"),  bbox_inches='tight')\n",
    "\n",
    "    plt.figure()\n",
    "    sns.lineplot(data=ws10, x=\"number\", y=\"value\",label='ws10')\n",
    "    plt.xlabel(\"Trials\", fontsize=14)\n",
    "    plt.ylabel(lossdict[loss][0], fontsize=14)\n",
    "    plt.xticks(fontsize=14)\n",
    "    plt.yticks(fontsize=14)\n",
    "    plt.legend(bbox_to_anchor=(1.05, 1), loc='upper left', borderaxespad=0, fontsize=14)\n",
    "    plt.savefig(os.path.join(OUTPATH, lossdict[loss][0] + \"_WS10.png\"),  bbox_inches='tight')\n",
    "\n",
    "    plt.figure()\n",
    "    sns.lineplot(data=ws15, x=\"number\", y=\"value\",label='ws15')\n",
    "    plt.xlabel(\"Trials\", fontsize=14)\n",
    "    plt.ylabel(lossdict[loss][0], fontsize=14)\n",
    "    plt.xticks(fontsize=14)\n",
    "    plt.yticks(fontsize=14)\n",
    "    plt.legend(bbox_to_anchor=(1.05, 1), loc='upper left', borderaxespad=0, fontsize=14)\n",
    "    plt.savefig(os.path.join(OUTPATH, lossdict[loss][0] + \"_WS15.png\"),  bbox_inches='tight')\n",
    "\n",
    "    plt.figure()\n",
    "    sns.lineplot(data=ws20, x=\"number\", y=\"value\",label='ws20')\n",
    "    plt.xlabel(\"Trials\", fontsize=14)\n",
    "    plt.ylabel(lossdict[loss][0], fontsize=14)\n",
    "    plt.xticks(fontsize=14)\n",
    "    plt.yticks(fontsize=14)\n",
    "    plt.legend(bbox_to_anchor=(1.05, 1), loc='upper left', borderaxespad=0, fontsize=14)\n",
    "    plt.savefig(os.path.join(OUTPATH, lossdict[loss][0] + \"_WS20.png\"),  bbox_inches='tight')\n",
    "\n",
    "    plt.figure()\n",
    "    sns.lineplot(data=ws30, x=\"number\", y=\"value\",label='ws30')\n",
    "    plt.xlabel(\"Trials\", fontsize=14)\n",
    "    plt.ylabel(lossdict[loss][0], fontsize=14)\n",
    "    plt.xticks(fontsize=14)\n",
    "    plt.yticks(fontsize=14)\n",
    "    plt.legend(bbox_to_anchor=(1.05, 1), loc='upper left', borderaxespad=0, fontsize=14)\n",
    "    plt.savefig(os.path.join(OUTPATH, lossdict[loss][0] + \"_WS30.png\"),  bbox_inches='tight')"
   ]
  },
  {
   "cell_type": "code",
   "execution_count": null,
   "metadata": {},
   "outputs": [],
   "source": []
  },
  {
   "cell_type": "code",
   "execution_count": 128,
   "metadata": {},
   "outputs": [],
   "source": [
    "# results_df = pd.concat(df_list, axis=0, keys=[str(i) for i in wind_list])\n",
    "# results_df=results_df.reset_index()\n",
    "# results_df=results_df.drop(['level_1'],axis=1)\n",
    "# # results_df=results_df.set_index(['level_0'])\n",
    "\n",
    "# ws9 = results_df[results_df['level_0']=='9']\n"
   ]
  },
  {
   "cell_type": "code",
   "execution_count": null,
   "metadata": {},
   "outputs": [],
   "source": []
  }
 ],
 "metadata": {
  "kernelspec": {
   "display_name": "Python 3.12.3 ('c2fml')",
   "language": "python",
   "name": "python3"
  },
  "language_info": {
   "codemirror_mode": {
    "name": "ipython",
    "version": 3
   },
   "file_extension": ".py",
   "mimetype": "text/x-python",
   "name": "python",
   "nbconvert_exporter": "python",
   "pygments_lexer": "ipython3",
   "version": "3.12.3"
  },
  "vscode": {
   "interpreter": {
    "hash": "bdb563c2ed4d1f3163c8cacd5f9884855bf0e832da69121a0a63848d960ab80d"
   }
  }
 },
 "nbformat": 4,
 "nbformat_minor": 5
}
