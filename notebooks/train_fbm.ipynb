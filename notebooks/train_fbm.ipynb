{
 "cells": [
  {
   "cell_type": "markdown",
   "metadata": {},
   "source": [
    "## FSM training"
   ]
  },
  {
   "cell_type": "code",
   "execution_count": 1,
   "metadata": {},
   "outputs": [
    {
     "name": "stderr",
     "output_type": "stream",
     "text": [
      "/home/minho/anaconda3/envs/cell2fireML/lib/python3.10/site-packages/tqdm/auto.py:22: TqdmWarning: IProgress not found. Please update jupyter and ipywidgets. See https://ipywidgets.readthedocs.io/en/stable/user_install.html\n",
      "  from .autonotebook import tqdm as notebook_tqdm\n"
     ]
    }
   ],
   "source": [
    "# Libraries\n",
    "import pandas as pd\n",
    "import numpy as np\n",
    "import os, warnings, tqdm\n",
    "import time as timet\n",
    "from sklearn.model_selection import train_test_split\n",
    "from sklearn.preprocessing import LabelEncoder\n",
    "from sklearn.metrics import mean_squared_error as mse\n",
    "from sklearn.metrics import mean_absolute_percentage_error as mape\n",
    "\n",
    "import matplotlib.pyplot as plt\n",
    "from mpl_toolkits.axes_grid1.inset_locator import InsetPosition\n",
    "\n",
    "# ML Models\n",
    "from sklearn.svm import SVR\n",
    "from sklearn.tree import DecisionTreeRegressor as DT\n",
    "from sklearn.ensemble import RandomForestRegressor as RF\n",
    "from sklearn.neighbors import KNeighborsRegressor as KNN\n",
    "from sklearn.neural_network import MLPRegressor as MLP\n",
    "from xgboost.sklearn import XGBRegressor\n",
    "from sklearn.ensemble import GradientBoostingRegressor as GBR\n",
    "from sklearn.multioutput import MultiOutputRegressor\n",
    "from sklearn.model_selection import train_test_split\n",
    "\n",
    "import shap\n",
    "\n",
    "# Scikit-Learn ML models to C++ (Uncomment to export)\n",
    "# import m2cgen \n",
    "\n",
    "warnings.filterwarnings(\"ignore\")"
   ]
  },
  {
   "cell_type": "code",
   "execution_count": 23,
   "metadata": {},
   "outputs": [],
   "source": [
    "# Main functions\n",
    "'''\n",
    "# ML Models\n",
    "- svr: Support vector regressor\n",
    "- knn: K-nearest neighbor regressor\n",
    "- dt: Decision tree regressor\n",
    "- rf: Random forest regressor\n",
    "- nn: Neural network\n",
    "- xgboost; XGBoost regressor\n",
    "'''\n",
    "def model_fit(path=None, model_name=None, train_features=None, train_labels=None, rand_idx=0, fsm=None, export=False, inference=False, drop_var=None, n_cores=None, ros_mode=None):\n",
    "    \n",
    "    # Select ML model \n",
    "    if model_name == \"svr\":\n",
    "        if ros_mode==None:\n",
    "            model = MultiOutputRegressor(SVR(C=1.0))\n",
    "        else: \n",
    "            model = SVR(C=1.0)\n",
    "    elif model_name == \"gbr\":\n",
    "        if ros_mode==None:\n",
    "            model = MultiOutputRegressor(GBR())\n",
    "        else: \n",
    "            model = GBR()    \n",
    "    elif model_name ==\"knn\":\n",
    "        model = KNN()    \n",
    "    elif model_name ==\"dt\":\n",
    "        model = DT(max_depth=1000)\n",
    "    elif model_name == \"rf\":\n",
    "        model = RF(n_estimators=1000)\n",
    "    elif model_name == \"nn\":\n",
    "        model = MLP()\n",
    "    elif model_name ==\"xgboost\":\n",
    "        model = XGBRegressor(max_depth=1000, n_jobs=n_cores)\n",
    "\n",
    "    # Fit model to predict and compute loss\n",
    "    model.fit(train_features,train_labels)\n",
    "    pred = model.predict(train_features)\n",
    "    mse_loss = mse(pred, train_labels)\n",
    "    # print(\"MSE Loss : \", mse_loss)\n",
    "    mape_loss = mape(pred, train_labels)\n",
    "    # print(\"MAPE Loss : \", mape_loss)\n",
    "\n",
    "    # Model inference\n",
    "    if inference:\n",
    "        x_df = pd.read_csv(path) # Change path to input training dataset CSV\n",
    "        if 'num' in x_df.columns:\n",
    "            x_df = x_df.drop(columns = ['num'] + drop_var) \n",
    "\n",
    "        if fsm == 1: \n",
    "            label_encoder = LabelEncoder()\n",
    "            encoded_feature = label_encoder.fit_transform(x_df['nftype'])\n",
    "            x_df['nftype'] = encoded_feature                        \n",
    "        elif fsm == 2: \n",
    "            label_encoder = LabelEncoder()\n",
    "            encoded_feature = label_encoder.fit_transform(x_df['nftype'])\n",
    "            x_df['nftype'] = encoded_feature    \n",
    "        elif fsm == 3:\n",
    "            x_df = x_df[['fueltype', 'ffmc', 'ws', 'bui', 'ps', 'saz', 'HROS', 'BROS', 'FROS']]\n",
    "            label_encoder = LabelEncoder()\n",
    "            encoded_feature = label_encoder.fit_transform(x_df['fueltype'])\n",
    "            x_df['fueltype'] = encoded_feature\n",
    "\n",
    "        ros_df = x_df.drop(['HROS','BROS','FROS'], axis=1)\n",
    "\n",
    "        # Predict sample with trained FSM\n",
    "        rand_idx = rand_idx # Fuel type 101, no wind, no slope, very dry\n",
    "        ros_df_scaled = pd.DataFrame(ros_df, None, ros_df.keys())\n",
    "        sample = ros_df_scaled.loc[[rand_idx]].values[0].tolist()\n",
    "        actual = x_df.loc[[rand_idx]]\n",
    "        # print(\"INDEX :\", rand_idx); print(\"SAMPLE : \", sample); print(\"ACTUAL : \", actual[['HROS','BROS','FROS']])\n",
    "\n",
    "        start_time = timet.time()\n",
    "        yhat = model.predict(np.array([sample])); \n",
    "        final_time = timet.time() - start_time\n",
    "        # print(\"--- %s seconds ---\" % (final_time))\n",
    "        # print(\"Prediction of Fuel Model \" + str(rand_idx) + \" :\", yhat)\n",
    "    else:\n",
    "        final_time = None # No inference time recorded\n",
    "\n",
    "    # Export model to C++ (To port to Cell2Fire)\n",
    "    if export:\n",
    "        # Export model to C++\n",
    "        code = m2cgen.export_to_c(model, function_name=ros_mode)\n",
    "        text_file = open(model_name + '_kitral_' + ros_mode + '.h', \"wt\", ) \n",
    "        n = text_file.write(code)\n",
    "        text_file.close()\n",
    "\n",
    "    return mape_loss, mse_loss, model, final_time    \n",
    "    \n",
    "def train_data(path, ros_mode, fsm, drop_var=[]):\n",
    "\n",
    "    # Load input features and ROS outputs\n",
    "    df = pd.read_csv(path)\n",
    "\n",
    "    # BehavePlus\n",
    "    if fsm == 1: \n",
    "        label_encoder = LabelEncoder()\n",
    "        encoded_feature = label_encoder.fit_transform(df['nftype'])\n",
    "        df['nftype'] = encoded_feature        \n",
    "\n",
    "    # KITRAL                \n",
    "    elif fsm == 2: \n",
    "        label_encoder = LabelEncoder()\n",
    "        encoded_feature = label_encoder.fit_transform(df['nftype'])\n",
    "        df['nftype'] = encoded_feature            \n",
    "    \n",
    "    # FBP\n",
    "    elif fsm == 3:\n",
    "        df = df[['fueltype', 'ffmc', 'ws', 'bui', 'ps', 'saz', 'HROS', 'BROS', 'FROS']]\n",
    "        label_encoder = LabelEncoder()\n",
    "        encoded_feature = label_encoder.fit_transform(df['fueltype'])\n",
    "        df['fueltype'] = encoded_feature\n",
    "\n",
    "    # Select ROS mode (3-ROS vs 1-ROS output)\n",
    "    ros_num = -3 if not ros_mode else -1\n",
    "    # print(\"3-ROS output\" if not ros_mode else \"Single ROS output with mode: \", ros_mode)\n",
    "\n",
    "    if 'num' in df.columns:\n",
    "        df = df.drop(columns = ['num'] + drop_var) \n",
    "    if ros_mode == \"HROS\" or ros_mode == \"hros\":\n",
    "        df = df.drop(columns = ['BROS', 'FROS'])\n",
    "    elif ros_mode == \"BROS\" or ros_mode == \"bros\":\n",
    "        df = df.drop(columns = ['HROS', 'FROS'])\n",
    "    elif ros_mode == \"FROS\" or ros_mode == \"fros\":\n",
    "        df = df.drop(columns = ['BROS', 'HROS'])\n",
    "\n",
    "    df = df.dropna().reset_index(drop=True)\n",
    "    \n",
    "    n_inputs = len(df.keys()[:ros_num]) # 1 ROS outputs\n",
    "    X_train = df.iloc[:, :ros_num].values\n",
    "    y_train = df.iloc[:,ros_num:]\n",
    "    \n",
    "    # Prepare data for ML\n",
    "    train_features = np.array(X_train)\n",
    "    train_labels = np.array(y_train).reshape((-1, ros_num*-1)) # 3ROS\n",
    "    \n",
    "    return train_features, train_labels\n",
    "\n",
    "def main_run(path, model_list, ros_modes=None, fsm=None, inference=False, export=False, n_cores=n_cores, drop_var=[]):\n",
    "\n",
    "    # Predict loop\n",
    "    all_results = {'model':[], 'ros_mode':[], 'mape':[], 'mse':[], 'time':[]}\n",
    "\n",
    "    for _model in tqdm.tqdm(model_list, total=len(model_list), desc='Training ML models...'):\n",
    "        # print('MODEL: ', _model)\n",
    "\n",
    "        for ros_mode in ros_modes:\n",
    "            # print('ROS MODE: ', ros_mode)\n",
    "\n",
    "            ### Prepare training data\n",
    "            training_features, training_targets = train_data(path, ros_mode, fsm, drop_var)\n",
    "\n",
    "            # Set feature names based on FSM (For SHAP analysis)\n",
    "            if fsm == 1:\n",
    "                fnames = [\"Fuel Type\",\"Wind Speed\",\"Wind Direction\",\"Slope\",\"1H Moisture Content\",\"10H Moisture Content\",\n",
    "                        \"100H Moisture Content\",\"Herbaceous Moisture Content\",\"Woody Moisture Content\",\n",
    "                        \"1H Load\",\"10H Load\",\"100H Load\",\"Herbaceous Load\",\"Woody Load\",\n",
    "                        \"1H SAV\",\"Herbaceous SAV\",\"Woody SAV\",\"Fuel Bed Depth\",\"Dead Moisture of Extinction\"]\n",
    "\n",
    "            elif fsm == 2:\n",
    "                fnames = [\"Fuel Type\", \"Speed\", \"Fuel Load\", \"Heat\", \"Moisture Content\", \"Wind Speed\", \n",
    "                        \"Slope\", \"Moisture Content\\nFactor\", \"Slope Factor\", \"Wind Factor\"]\n",
    "\n",
    "            elif fsm == 3:\n",
    "                fnames = [\"Fuel Type\", \"FFMC\", \"Wind Speed\", \"BUI\", \"Slope\",\"Aspect\"]\n",
    "\n",
    "            elif fsm == 4: # Truncated BP6\n",
    "                fnames = [\"Fuel Type\",\"Wind Speed\",\"Wind Direction\",\"Slope\",\"1H Moisture Content\",\n",
    "                        \"1H Load\",\"10H Load\",\"100H Load\",\"Herbaceous Load\",\"Woody Load\",\n",
    "                        \"1H SAV\",\"Herbaceous SAV\",\"Woody SAV\",\"Fuel Bed Depth\",\"Dead Moisture of Extinction\"]    \n",
    "\n",
    "            X_train, X_test, y_train, y_test = train_test_split(training_features, training_targets, test_size=0.25, random_state=42) \n",
    "\n",
    "            ### Train model\n",
    "            model_name = _model\n",
    "            rand_idx=0\n",
    "            mape_loss, mse_loss, model, time = model_fit(path=path, model_name=model_name, train_features=X_train, train_labels=y_train, n_cores=n_cores,\n",
    "                                        rand_idx=rand_idx, fsm=fsm, inference=inference, export=export, drop_var=drop_var)\n",
    "\n",
    "            all_results['model'].append(_model)\n",
    "            all_results['ros_mode'].append(ros_mode)\n",
    "            all_results['mape'].append(mape_loss)\n",
    "            all_results['mse'].append(mse_loss)\n",
    "            all_results['time'].append(time)    \n",
    "\n",
    "    return all_results"
   ]
  },
  {
   "cell_type": "code",
   "execution_count": 3,
   "metadata": {},
   "outputs": [],
   "source": [
    "# Set paths\n",
    "base_path = '/Users/minho/Desktop/Cell2FireML/Github/data'"
   ]
  },
  {
   "cell_type": "markdown",
   "metadata": {},
   "source": [
    "## Single-output ROS predictions"
   ]
  },
  {
   "cell_type": "code",
   "execution_count": 5,
   "metadata": {},
   "outputs": [],
   "source": [
    "# ML model's parameters\n",
    "# ros_modes = ['HROS']                                  # Single ROS modes include: \"HROS\", \"BROS\", \"FROS\" (Must be in list format)            \n",
    "drop_var=[]                                             # Drop variables in training data csv file (optional)\n",
    "inference=True                                          # Inference option\n",
    "export=False                                            # Export option to port trained ML model for C++\n",
    "n_cores = 4                                             # Number of cores for xgboost\n",
    "model_list = ['gbr', 'nn', 'knn', 'rf', 'xgboost']      # List of ML models to train"
   ]
  },
  {
   "cell_type": "markdown",
   "metadata": {},
   "source": [
    "#### BehavePlus V6 (US)"
   ]
  },
  {
   "cell_type": "code",
   "execution_count": 6,
   "metadata": {},
   "outputs": [
    {
     "name": "stderr",
     "output_type": "stream",
     "text": [
      "Training ML models...: 100%|██████████| 5/5 [12:12<00:00, 146.60s/it]\n",
      "Training ML models...: 100%|██████████| 5/5 [08:22<00:00, 100.54s/it]\n",
      "Training ML models...: 100%|██████████| 5/5 [07:58<00:00, 95.74s/it] \n"
     ]
    }
   ],
   "source": [
    "### BehavePlus (US): FSM=1\n",
    "fsm = 1 # 1: BehavePlus | 2: KITRAL | 3: FBP\n",
    "path = os.path.join(base_path, 'bp6_training_data.csv')\n",
    "\n",
    "# Train ML models for single ROS outputs\n",
    "hros_results1 = main_run(path, model_list, fsm=fsm, inference=inference, export=export, drop_var=drop_var, n_cores=n_cores, ros_modes=['HROS'])\n",
    "bros_results1 = main_run(path, model_list, fsm=fsm, inference=inference, export=export, drop_var=drop_var, n_cores=n_cores, ros_modes=['BROS'])\n",
    "fros_results1 = main_run(path, model_list, fsm=fsm, inference=inference, export=export, drop_var=drop_var, n_cores=n_cores, ros_modes=['FROS'])"
   ]
  },
  {
   "cell_type": "code",
   "execution_count": 7,
   "metadata": {},
   "outputs": [
    {
     "data": {
      "text/html": [
       "<div>\n",
       "<style scoped>\n",
       "    .dataframe tbody tr th:only-of-type {\n",
       "        vertical-align: middle;\n",
       "    }\n",
       "\n",
       "    .dataframe tbody tr th {\n",
       "        vertical-align: top;\n",
       "    }\n",
       "\n",
       "    .dataframe thead th {\n",
       "        text-align: right;\n",
       "    }\n",
       "</style>\n",
       "<table border=\"1\" class=\"dataframe\">\n",
       "  <thead>\n",
       "    <tr style=\"text-align: right;\">\n",
       "      <th></th>\n",
       "      <th>model</th>\n",
       "      <th>ros_mode</th>\n",
       "      <th>mape</th>\n",
       "      <th>mse</th>\n",
       "      <th>time</th>\n",
       "    </tr>\n",
       "  </thead>\n",
       "  <tbody>\n",
       "    <tr>\n",
       "      <th>0</th>\n",
       "      <td>gbr</td>\n",
       "      <td>HROS</td>\n",
       "      <td>1.14142</td>\n",
       "      <td>3834.934234</td>\n",
       "      <td>0.00053</td>\n",
       "    </tr>\n",
       "  </tbody>\n",
       "</table>\n",
       "</div>"
      ],
      "text/plain": [
       "  model ros_mode     mape          mse     time\n",
       "0   gbr     HROS  1.14142  3834.934234  0.00053"
      ]
     },
     "execution_count": 7,
     "metadata": {},
     "output_type": "execute_result"
    }
   ],
   "source": [
    "# Print outputs\n",
    "hros_results1 = pd.DataFrame(hros_results1)\n",
    "bros_results1 = pd.DataFrame(bros_results1)\n",
    "fros_results1 = pd.DataFrame(fros_results1)\n",
    "\n",
    "hros_results1.head(1)"
   ]
  },
  {
   "cell_type": "markdown",
   "metadata": {},
   "source": [
    "#### KITRAL (Chile)"
   ]
  },
  {
   "cell_type": "code",
   "execution_count": 9,
   "metadata": {},
   "outputs": [
    {
     "name": "stderr",
     "output_type": "stream",
     "text": [
      "Training ML models...: 100%|██████████| 5/5 [01:16<00:00, 15.39s/it]\n",
      "Training ML models...: 100%|██████████| 5/5 [00:23<00:00,  4.72s/it]\n",
      "Training ML models...: 100%|██████████| 5/5 [00:28<00:00,  5.65s/it]\n"
     ]
    }
   ],
   "source": [
    "### KITRAL (Chile): FSM=2\n",
    "fsm = 2 # 1: BehavePlus | 2: KITRAL | 3: FBP\n",
    "path = os.path.join(base_path, 'kitral_training_data.csv')\n",
    "\n",
    "# Train ML models for single ROS outputs\n",
    "hros_results2 = main_run(path, model_list, fsm=fsm, inference=inference, export=export, drop_var=drop_var, n_cores=n_cores, ros_modes=['HROS'])\n",
    "bros_results2 = main_run(path, model_list, fsm=fsm, inference=inference, export=export, drop_var=drop_var, n_cores=n_cores, ros_modes=['BROS'])\n",
    "fros_results2 = main_run(path, model_list, fsm=fsm, inference=inference, export=export, drop_var=drop_var, n_cores=n_cores, ros_modes=['FROS'])"
   ]
  },
  {
   "cell_type": "code",
   "execution_count": 10,
   "metadata": {},
   "outputs": [
    {
     "data": {
      "text/html": [
       "<div>\n",
       "<style scoped>\n",
       "    .dataframe tbody tr th:only-of-type {\n",
       "        vertical-align: middle;\n",
       "    }\n",
       "\n",
       "    .dataframe tbody tr th {\n",
       "        vertical-align: top;\n",
       "    }\n",
       "\n",
       "    .dataframe thead th {\n",
       "        text-align: right;\n",
       "    }\n",
       "</style>\n",
       "<table border=\"1\" class=\"dataframe\">\n",
       "  <thead>\n",
       "    <tr style=\"text-align: right;\">\n",
       "      <th></th>\n",
       "      <th>model</th>\n",
       "      <th>ros_mode</th>\n",
       "      <th>mape</th>\n",
       "      <th>mse</th>\n",
       "      <th>time</th>\n",
       "    </tr>\n",
       "  </thead>\n",
       "  <tbody>\n",
       "    <tr>\n",
       "      <th>0</th>\n",
       "      <td>gbr</td>\n",
       "      <td>HROS</td>\n",
       "      <td>1.888335</td>\n",
       "      <td>66.455775</td>\n",
       "      <td>0.000674</td>\n",
       "    </tr>\n",
       "  </tbody>\n",
       "</table>\n",
       "</div>"
      ],
      "text/plain": [
       "  model ros_mode      mape        mse      time\n",
       "0   gbr     HROS  1.888335  66.455775  0.000674"
      ]
     },
     "execution_count": 10,
     "metadata": {},
     "output_type": "execute_result"
    }
   ],
   "source": [
    "# Print outputs\n",
    "hros_results2 = pd.DataFrame(hros_results2)\n",
    "bros_results2 = pd.DataFrame(bros_results2)\n",
    "fros_results2 = pd.DataFrame(fros_results2)\n",
    "\n",
    "hros_results2.head(1)"
   ]
  },
  {
   "cell_type": "markdown",
   "metadata": {},
   "source": [
    "#### FBP (Canada)"
   ]
  },
  {
   "cell_type": "code",
   "execution_count": 11,
   "metadata": {},
   "outputs": [
    {
     "name": "stderr",
     "output_type": "stream",
     "text": [
      "Training ML models...: 100%|██████████| 5/5 [05:48<00:00, 69.61s/it]\n",
      "Training ML models...: 100%|██████████| 5/5 [06:09<00:00, 73.91s/it] \n",
      "Training ML models...: 100%|██████████| 5/5 [05:55<00:00, 71.05s/it] \n"
     ]
    }
   ],
   "source": [
    "### FBP (Canada): FSM=3\n",
    "fsm = 3 # 1: BehavePlus | 2: KITRAL | 3: FBP\n",
    "path = os.path.join(base_path, 'fbp_training_data.csv')\n",
    "\n",
    "# Train ML models for single ROS outputs\n",
    "hros_results3 = main_run(path, model_list, fsm=fsm, inference=inference, export=export, drop_var=drop_var, n_cores=n_cores, ros_modes=['HROS'])\n",
    "bros_results3 = main_run(path, model_list, fsm=fsm, inference=inference, export=export, drop_var=drop_var, n_cores=n_cores, ros_modes=['BROS'])\n",
    "fros_results3 = main_run(path, model_list, fsm=fsm, inference=inference, export=export, drop_var=drop_var, n_cores=n_cores, ros_modes=['FROS'])"
   ]
  },
  {
   "cell_type": "code",
   "execution_count": 12,
   "metadata": {},
   "outputs": [
    {
     "data": {
      "text/html": [
       "<div>\n",
       "<style scoped>\n",
       "    .dataframe tbody tr th:only-of-type {\n",
       "        vertical-align: middle;\n",
       "    }\n",
       "\n",
       "    .dataframe tbody tr th {\n",
       "        vertical-align: top;\n",
       "    }\n",
       "\n",
       "    .dataframe thead th {\n",
       "        text-align: right;\n",
       "    }\n",
       "</style>\n",
       "<table border=\"1\" class=\"dataframe\">\n",
       "  <thead>\n",
       "    <tr style=\"text-align: right;\">\n",
       "      <th></th>\n",
       "      <th>model</th>\n",
       "      <th>ros_mode</th>\n",
       "      <th>mape</th>\n",
       "      <th>mse</th>\n",
       "      <th>time</th>\n",
       "    </tr>\n",
       "  </thead>\n",
       "  <tbody>\n",
       "    <tr>\n",
       "      <th>0</th>\n",
       "      <td>gbr</td>\n",
       "      <td>HROS</td>\n",
       "      <td>0.863488</td>\n",
       "      <td>62.842904</td>\n",
       "      <td>0.000499</td>\n",
       "    </tr>\n",
       "  </tbody>\n",
       "</table>\n",
       "</div>"
      ],
      "text/plain": [
       "  model ros_mode      mape        mse      time\n",
       "0   gbr     HROS  0.863488  62.842904  0.000499"
      ]
     },
     "execution_count": 12,
     "metadata": {},
     "output_type": "execute_result"
    }
   ],
   "source": [
    "# Print outputs\n",
    "hros_results3 = pd.DataFrame(hros_results3)\n",
    "bros_results3 = pd.DataFrame(bros_results3)\n",
    "fros_results3 = pd.DataFrame(fros_results3)\n",
    "\n",
    "hros_results3.head(1)"
   ]
  },
  {
   "cell_type": "markdown",
   "metadata": {},
   "source": [
    "#### Multi-output ROS predictions (3-ROS simultaneously)"
   ]
  },
  {
   "cell_type": "code",
   "execution_count": 24,
   "metadata": {},
   "outputs": [
    {
     "name": "stderr",
     "output_type": "stream",
     "text": [
      "Training ML models...: 100%|██████████| 5/5 [14:01<00:00, 168.35s/it]\n"
     ]
    }
   ],
   "source": [
    "# BehavePlus (US)\n",
    "path = os.path.join(base_path, 'bp6_training_data.csv')\n",
    "ros_results1 = main_run(path, model_list, fsm=1, inference=inference, export=export, drop_var=drop_var, n_cores=n_cores, ros_modes=[None])\n",
    "\n",
    "# # KITRAL (Chile) \n",
    "# path = os.path.join(base_path, 'kitral_training_data.csv')\n",
    "# ros_results2 = main_run(path, model_list, fsm=2, inference=inference, export=export, drop_var=drop_var, n_cores=n_cores, ros_modes=None)\n",
    "\n",
    "# # FBP (Canada)\n",
    "# path = os.path.join(base_path, 'fbp_training_data.csv')\n",
    "# ros_results3 = main_run(path, model_list, fsm=3, inference=inference, export=export, drop_var=drop_var, n_cores=n_cores, ros_modes=None)"
   ]
  }
 ],
 "metadata": {
  "kernelspec": {
   "display_name": "Python 3.10.6 ('cell2fireML': conda)",
   "language": "python",
   "name": "python3"
  },
  "language_info": {
   "codemirror_mode": {
    "name": "ipython",
    "version": 3
   },
   "file_extension": ".py",
   "mimetype": "text/x-python",
   "name": "python",
   "nbconvert_exporter": "python",
   "pygments_lexer": "ipython3",
   "version": "3.10.6"
  },
  "orig_nbformat": 4,
  "vscode": {
   "interpreter": {
    "hash": "4ea9873dc30b7bd936f786c0049cdf31f249b205086506320ed30cf92791dd23"
   }
  }
 },
 "nbformat": 4,
 "nbformat_minor": 2
}
