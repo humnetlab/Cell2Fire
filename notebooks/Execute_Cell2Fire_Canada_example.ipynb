{
 "cells": [
  {
   "cell_type": "markdown",
   "id": "586031be",
   "metadata": {},
   "source": [
    "## Cell2FireML examples (Real landscape -- Canada)"
   ]
  },
  {
   "cell_type": "code",
   "execution_count": 1,
   "id": "37eba764",
   "metadata": {
    "ExecuteTime": {
     "end_time": "2023-07-02T23:19:51.794050Z",
     "start_time": "2023-07-02T23:19:51.422833Z"
    },
    "code_folding": [
     0
    ]
   },
   "outputs": [],
   "source": [
    "# Import\n",
    "import os\n",
    "import time\n",
    "import glob \n",
    "import shutil\n",
    "import signal\n",
    "import subprocess\n",
    "import sys\n",
    "import numpy as np\n",
    "import pandas as pd\n",
    "import matplotlib.pyplot as plt\n",
    "import rasterio \n",
    "\n",
    "# Basic metrics\n",
    "from numpy import linalg as LA\n",
    "from sklearn.metrics import f1_score\n",
    "from skimage.metrics import structural_similarity as ssim\n",
    "\n",
    "# Needed to generate Data.csv for Cell2Fire\n",
    "import utils.DataGeneratorC as DataGenerator"
   ]
  },
  {
   "cell_type": "markdown",
   "id": "e7592702",
   "metadata": {},
   "source": [
    "### Utils"
   ]
  },
  {
   "cell_type": "code",
   "execution_count": 10,
   "id": "0fd77558",
   "metadata": {
    "ExecuteTime": {
     "end_time": "2023-06-30T00:25:34.444740Z",
     "start_time": "2023-06-30T00:25:34.435238Z"
    },
    "code_folding": [
     0,
     2,
     25,
     48,
     54,
     65
    ]
   },
   "outputs": [],
   "source": [
    "# Utilities\n",
    "# Print solutions from results folders\n",
    "def print_grids_results_folders(folders):\n",
    "    # Sort\n",
    "    folders.sort()\n",
    "    \n",
    "    # Load and print\n",
    "    for f in folders:\n",
    "        grids = glob.glob(os.path.join(f, 'Grids', 'Grids1', '*.csv'))\n",
    "        file = grids[0]\n",
    "\n",
    "        # grid = np.loadtxt(file, delimiter=' ')\n",
    "        grid = np.loadtxt(file, delimiter=',')\n",
    "\n",
    "        # Plot\n",
    "        plt.figure(1, figsize=(6,6)) \n",
    "        plt.imshow(grid)\n",
    "        plt.title(f.split(os.path.sep)[-1])\n",
    "        plt.show()\n",
    "        time.sleep(0.1)\n",
    "    \n",
    "    # Return grid\n",
    "    return grid\n",
    "        \n",
    "# Print solutions from prometheus\n",
    "def print_grids_prometheus_folders(folders, filename='PromGrid7.txt', delimiter=' '):\n",
    "    # Sort\n",
    "    folders.sort()\n",
    "    \n",
    "    # Load and print\n",
    "    for f in folders:\n",
    "        grids = glob.glob(os.path.join(f, filename))\n",
    "        file = grids[0]\n",
    "\n",
    "        # Space delimiters\n",
    "        grid = np.loadtxt(file, delimiter=delimiter)\n",
    "\n",
    "        # Plot\n",
    "        plt.figure(1, figsize=(6,6)) \n",
    "        plt.imshow(grid, cmap='Reds')\n",
    "        plt.title(f.split(os.path.sep)[-1])\n",
    "        plt.show()\n",
    "        time.sleep(0.1)\n",
    "    \n",
    "    # Return grid\n",
    "    return grid"
   ]
  },
  {
   "cell_type": "markdown",
   "id": "412a62e1",
   "metadata": {},
   "source": [
    "### Execute Cell2Fire"
   ]
  },
  {
   "cell_type": "code",
   "execution_count": 11,
   "id": "818a896e",
   "metadata": {
    "ExecuteTime": {
     "end_time": "2023-06-30T00:25:34.473926Z",
     "start_time": "2023-06-30T00:25:34.451383Z"
    },
    "code_folding": [
     0,
     4,
     10,
     21
    ]
   },
   "outputs": [],
   "source": [
    "# Turns a dictionary into a class\n",
    "class Dict2Class(object):\n",
    "    def __init__(self, my_dict):\n",
    "        for key in my_dict:\n",
    "            setattr(self, key, my_dict[key])\n",
    "\n",
    "# Pre-processing: Generate the Data.csv file for the C++ core\n",
    "def generateDataC(args):\n",
    "    dataName = os.path.join(args.InFolder, \"Data.csv\")\n",
    "    if os.path.isfile(dataName) is False:\n",
    "        print(\"Generating Data.csv File...\")\n",
    "        if args.BBO:\n",
    "            print('Data with BBO factors support')\n",
    "            DataGenerator.GenDataFile_BBO(args.InFolder)            \n",
    "        else:\n",
    "            DataGenerator.GenDataFile(args.InFolder)            \n",
    "            \n",
    "# Run C++ Sim \n",
    "def run(cell2fire_path, args, verbose=False):\n",
    "    # Parse args for calling C++ via subprocess        \n",
    "    # old: execArray=[os.path.join(os.getcwd(),'Cell2FireC/Cell2Fire'), \n",
    "    execArray=[os.path.join(cell2fire_path,'Cell2Fire'), \n",
    "               '--input-instance-folder', args.InFolder,\n",
    "               '--output-folder', args.OutFolder if (args.OutFolder is not None) else '',\n",
    "               '--ignitions' if (args.ignitions) else '',\n",
    "               '--sim-years', str(args.sim_years),\n",
    "               '--nsims', str(args.nsims),\n",
    "               '--grids' if (args.grids) else '', \n",
    "               '--final-grid' if (args.finalGrid) else '',\n",
    "               '--Fire-Period-Length', str(args.input_PeriodLen),\n",
    "               '--output-messages' if (args.OutMessages) else '',\n",
    "               '--weather', args.WeatherOpt,\n",
    "               '--nweathers', str(args.nweathers),\n",
    "               '--ROS-CV', str(args.ROS_CV),\n",
    "               '--IgnitionRad', str(args.IgRadius), \n",
    "               '--seed', str(int(args.seed)),\n",
    "               '--nthreads', str(int(args.nthreads)),\n",
    "               '--ROS-Threshold', str(args.ROS_Threshold),\n",
    "               '--HFI-Threshold', str(args.HFI_Threshold),\n",
    "               '--HFactor', str(args.HFactor),\n",
    "               '--BFactor', str(args.BFactor),\n",
    "               '--FFactor', str(args.FFactor),\n",
    "               '--EFactor', str(args.EFactor),\n",
    "               '--bbo' if (args.BBO) else '',\n",
    "               '--HarvestPlan', args.HCells if(args.HCells is not None) else '',\n",
    "               '--verbose' if (args.verbose) else '',]\n",
    "\n",
    "    # Print exec array\n",
    "    if verbose:\n",
    "        print('ExecArray:', ' '.join(execArray))\n",
    "    \n",
    "    # Output log\n",
    "    if args.OutFolder is not None:\n",
    "        if os.path.isdir(args.OutFolder) is False:\n",
    "            os.makedirs(args.OutFolder)\n",
    "        LogName = os.path.join(args.OutFolder, \"LogFile.txt\")\n",
    "    else:\n",
    "        LogName = os.path.join(args.InFolder, \"LogFile.txt\")   \n",
    "\n",
    "    # Perform the call\n",
    "    with open(LogName, 'w') as output:\n",
    "        proc = subprocess.Popen(execArray, stdout=output)\n",
    "        proc.communicate()\n",
    "    return_code = proc.wait()\n",
    "    if (return_code != 0):\n",
    "        raise RuntimeError(f'C++ returned {return_code}.\\nTry looking at {LogName}.') \n",
    "\n",
    "    # End of the replications\n",
    "    print(\"End of Cell2FireC execution...\")"
   ]
  },
  {
   "cell_type": "code",
   "execution_count": 12,
   "id": "b5af9289",
   "metadata": {
    "ExecuteTime": {
     "end_time": "2023-06-30T00:25:34.482551Z",
     "start_time": "2023-06-30T00:25:34.478300Z"
    }
   },
   "outputs": [],
   "source": [
    "# Globals\n",
    "cell2fire_ml_canada = {}\n",
    "prometheus_canada = {}"
   ]
  },
  {
   "cell_type": "code",
   "execution_count": 15,
   "id": "f8ecf201",
   "metadata": {
    "ExecuteTime": {
     "end_time": "2023-06-30T00:25:34.494884Z",
     "start_time": "2023-06-30T00:25:34.487264Z"
    },
    "code_folding": [
     0,
     12
    ]
   },
   "outputs": [],
   "source": [
    "# Cell2Fire binary\n",
    "BASE_PATH = '/home/minho/research/fire/c2f_codes/'\n",
    "CELL2FIRE_PATH = os.path.join(BASE_PATH, 'Cell2FireC_Canada/')\n",
    "\n",
    "# Input instance\n",
    "INSTANCE_PATH = os.path.join(BASE_PATH, 'notebooks/data_canada/')\n",
    "instance_name = 'dogrib'\n",
    "\n",
    "# Results folder\n",
    "OUT_PATH = os.path.join(BASE_PATH, '/notebooks/results_paper_canada/')\n",
    "\n",
    "# Cell2Fire options\n",
    "args = {\n",
    "    'InFolder': INSTANCE_PATH + instance_name + '/',\n",
    "    'OutFolder': OUT_PATH + instance_name + '/',\n",
    "    'ignitions': True,\n",
    "    'sim_years': 1,\n",
    "    'nsims': 1,\n",
    "    'grids': False, \n",
    "    'finalGrid': True,\n",
    "    'input_PeriodLen': 1.0,\n",
    "    'OutMessages': False,\n",
    "    'WeatherOpt': 'rows',\n",
    "    'nweathers': 1,\n",
    "    'ROS_CV': 0.0,\n",
    "    'IgRadius': 0, \n",
    "    'seed': 123,\n",
    "    'ROS_Threshold':0.0,\n",
    "    'HFI_Threshold':0.0,\n",
    "    'HFactor':1.0,\n",
    "    'BFactor':1.0,\n",
    "    'FFactor':1.0,\n",
    "    'EFactor':1.0,\n",
    "    'nthreads':1,\n",
    "    'BBO': False,\n",
    "    'HCells': None,\n",
    "    'verbose': False,\n",
    "}"
   ]
  },
  {
   "cell_type": "markdown",
   "id": "039acb90",
   "metadata": {},
   "source": [
    "### (1) Without BBO fine-tuning"
   ]
  },
  {
   "cell_type": "code",
   "execution_count": 16,
   "id": "07108c16",
   "metadata": {
    "ExecuteTime": {
     "end_time": "2023-06-30T00:25:51.327118Z",
     "start_time": "2023-06-30T00:25:47.927484Z"
    },
    "code_folding": [
     0
    ]
   },
   "outputs": [
    {
     "name": "stdout",
     "output_type": "stream",
     "text": [
      "ExecArray: /home/minho/research/fire/c2f_codes/Cell2FireC_Canada/Cell2Fire --input-instance-folder /home/minho/research/fire/c2f_codes/notebooks/data_canada/dogrib/ --output-folder /home/minho/research/fire/c2f_codes/notebooks/results_paper_canada/dogrib_no_tune/ --ignitions --sim-years 1 --nsims 1  --final-grid --Fire-Period-Length 0.1  --weather rows --nweathers 1 --ROS-CV 0.0 --IgnitionRad 0 --seed 123 --nthreads 1 --ROS-Threshold 0.0 --HFI-Threshold 0.0 --HFactor 1.0 --BFactor 1.0 --FFactor 1.0 --EFactor 0.9  --HarvestPlan  \n",
      "End of Cell2FireC execution...\n",
      "Cell2FireML\n"
     ]
    },
    {
     "data": {
      "image/png": "[encoded data removed]",
      "text/plain": [
       "<Figure size 600x600 with 1 Axes>"
      ]
     },
     "metadata": {},
     "output_type": "display_data"
    },
    {
     "name": "stdout",
     "output_type": "stream",
     "text": [
      "Prometheus\n"
     ]
    },
    {
     "data": {
      "image/png": "[encoded data removed]",
      "text/plain": [
       "<Figure size 600x600 with 1 Axes>"
      ]
     },
     "metadata": {},
     "output_type": "display_data"
    }
   ],
   "source": [
    "# Set new instance\n",
    "out_name = 'dogrib_no_tune'\n",
    "\n",
    "# Update parameters\n",
    "args['InFolder'] = INSTANCE_PATH + instance_name + '/'\n",
    "args['OutFolder'] = OUT_PATH + out_name + '/'\n",
    "args['input_PeriodLen'] = 0.1\n",
    "args['HFactor'] = 1.\n",
    "args['FFactor'] = 1.0\n",
    "args['BFactor'] = 1.0\n",
    "args['EFactor'] = 0.9\n",
    "args['BBO'] = False\n",
    "\n",
    "# Convert to object\n",
    "args_obj = Dict2Class(args)\n",
    "\n",
    "# Generate data if needed\n",
    "generateDataC(args_obj)\n",
    "              \n",
    "# Execution\n",
    "run(cell2fire_path=CELL2FIRE_PATH, args=args_obj, verbose=True)\n",
    "\n",
    "# Outputs\n",
    "print('Cell2FireML')\n",
    "cell2fire_ml_canada[instance_name] = print_grids_results_folders([args_obj.OutFolder])\n",
    "\n",
    "try:\n",
    "    print('Prometheus')\n",
    "    prometheus_canada[instance_name] = print_grids_prometheus_folders([args_obj.InFolder], filename='prometheus_dogrib.csv', delimiter=',')\n",
    "except:\n",
    "    print('No ground truth')"
   ]
  },
  {
   "cell_type": "code",
   "execution_count": 17,
   "id": "b818fae8",
   "metadata": {
    "ExecuteTime": {
     "end_time": "2023-06-30T00:25:51.575646Z",
     "start_time": "2023-06-30T00:25:51.333455Z"
    }
   },
   "outputs": [
    {
     "data": {
      "text/plain": [
       "<matplotlib.image.AxesImage at 0x7f1ea12b9ee0>"
      ]
     },
     "execution_count": 17,
     "metadata": {},
     "output_type": "execute_result"
    },
    {
     "data": {
      "image/png": "[encoded data removed]",
      "text/plain": [
       "<Figure size 1000x1000 with 1 Axes>"
      ]
     },
     "metadata": {},
     "output_type": "display_data"
    }
   ],
   "source": [
    "# Comparison\n",
    "plt.figure(1,figsize=(10,10)) \n",
    "plt.imshow(cell2fire_ml_canada[instance_name], cmap='gray')\n",
    "plt.imshow(prometheus_canada[instance_name], cmap='Reds', alpha=0.3)"
   ]
  },
  {
   "cell_type": "markdown",
   "id": "85ab01db",
   "metadata": {},
   "source": [
    "#### (2) With BBO fine-tuning"
   ]
  },
  {
   "cell_type": "code",
   "execution_count": 21,
   "id": "a3748835",
   "metadata": {
    "ExecuteTime": {
     "end_time": "2023-06-30T00:26:33.971975Z",
     "start_time": "2023-06-30T00:26:17.400878Z"
    },
    "code_folding": [
     0
    ]
   },
   "outputs": [
    {
     "name": "stdout",
     "output_type": "stream",
     "text": [
      "ExecArray: /home/minho/research/fire/c2f_codes/Cell2FireC_Canada/Cell2Fire --input-instance-folder /home/minho/research/fire/c2f_codes/notebooks/data_canada/dogrib/ --output-folder /home/minho/research/fire/c2f_codes/notebooks/results_paper_canada/dogrib_bbo/ --ignitions --sim-years 1 --nsims 1  --final-grid --Fire-Period-Length 0.1  --weather rows --nweathers 1 --ROS-CV 0.0 --IgnitionRad 0 --seed 123 --nthreads 1 --ROS-Threshold 0.0 --HFI-Threshold 0.0 --HFactor 1.0 --BFactor 1.0 --FFactor 1.0 --EFactor 1.0 --bbo --HarvestPlan  \n",
      "End of Cell2FireC execution...\n",
      "Cell2FireML\n"
     ]
    },
    {
     "data": {
      "image/png": "[encoded data removed]",
      "text/plain": [
       "<Figure size 600x600 with 1 Axes>"
      ]
     },
     "metadata": {},
     "output_type": "display_data"
    },
    {
     "name": "stdout",
     "output_type": "stream",
     "text": [
      "Prometheus\n"
     ]
    },
    {
     "data": {
      "image/png": "[encoded data removed]",
      "text/plain": [
       "<Figure size 600x600 with 1 Axes>"
      ]
     },
     "metadata": {},
     "output_type": "display_data"
    }
   ],
   "source": [
    "# Set new instance\n",
    "out_name = 'dogrib_bbo'\n",
    "\n",
    "# Update parameters\n",
    "args['InFolder'] = INSTANCE_PATH + instance_name + '/'\n",
    "args['OutFolder'] = OUT_PATH + out_name + '/'\n",
    "args['input_PeriodLen'] = 0.1\n",
    "args['HFactor'] = 1.0\n",
    "args['FFactor'] = 1.0\n",
    "args['BFactor'] = 1.0\n",
    "args['EFactor'] = 1.0\n",
    "args['BBO'] = True\n",
    "\n",
    "# Convert to object\n",
    "args_obj = Dict2Class(args)\n",
    "\n",
    "# Generate data if needed\n",
    "generateDataC(args_obj)\n",
    "              \n",
    "# Execution\n",
    "run(cell2fire_path=CELL2FIRE_PATH, args=args_obj, verbose=True)\n",
    "\n",
    "# Outputs\n",
    "print('Cell2FireML')\n",
    "cell2fire_ml_canada[instance_name + '_BBO'] = print_grids_results_folders([args_obj.OutFolder])\n",
    "\n",
    "try:\n",
    "    print('Prometheus')\n",
    "    prometheus_canada[instance_name + '_REAL'] = print_grids_prometheus_folders([args_obj.InFolder], filename='real_scar_dogrib.csv', delimiter=' ')\n",
    "except:\n",
    "    print('No ground truth')"
   ]
  },
  {
   "cell_type": "code",
   "execution_count": 22,
   "id": "d6430408",
   "metadata": {
    "ExecuteTime": {
     "end_time": "2023-06-30T00:26:34.494168Z",
     "start_time": "2023-06-30T00:26:33.973982Z"
    }
   },
   "outputs": [
    {
     "data": {
      "text/plain": [
       "<matplotlib.image.AxesImage at 0x7f1ea1131a30>"
      ]
     },
     "execution_count": 22,
     "metadata": {},
     "output_type": "execute_result"
    },
    {
     "data": {
      "image/png": "[encoded data removed]",
      "text/plain": [
       "<Figure size 1000x1000 with 1 Axes>"
      ]
     },
     "metadata": {},
     "output_type": "display_data"
    }
   ],
   "source": [
    "# Comparison\n",
    "plt.figure(1,figsize=(10,10)) \n",
    "plt.imshow(cell2fire_ml_canada[instance_name + \"_BBO\"], cmap='gray')\n",
    "plt.imshow(prometheus_canada[instance_name + \"_REAL\"], cmap='Reds', alpha=0.3)"
   ]
  },
  {
   "cell_type": "markdown",
   "id": "7e5363be",
   "metadata": {},
   "source": [
    "#### Accuracy/error assessment"
   ]
  },
  {
   "cell_type": "code",
   "execution_count": 24,
   "id": "71db5fd8",
   "metadata": {
    "ExecuteTime": {
     "end_time": "2023-06-30T00:26:34.965253Z",
     "start_time": "2023-06-30T00:26:34.961414Z"
    }
   },
   "outputs": [],
   "source": [
    "# Container Dogrib\n",
    "df_results_dogrib = {}"
   ]
  },
  {
   "cell_type": "code",
   "execution_count": 25,
   "id": "85a2a630",
   "metadata": {
    "ExecuteTime": {
     "end_time": "2023-06-30T00:26:35.103179Z",
     "start_time": "2023-06-30T00:26:34.968692Z"
    },
    "code_folding": [
     0
    ]
   },
   "outputs": [
    {
     "name": "stderr",
     "output_type": "stream",
     "text": [
      "<>:17: SyntaxWarning: invalid escape sequence '\\d'\n",
      "<>:17: SyntaxWarning: invalid escape sequence '\\d'\n",
      "/tmp/ipykernel_1245008/1339613284.py:17: SyntaxWarning: invalid escape sequence '\\d'\n",
      "  '$\\delta$ norm':[norm],\n"
     ]
    },
    {
     "data": {
      "text/html": [
       "<div>\n",
       "<style scoped>\n",
       "    .dataframe tbody tr th:only-of-type {\n",
       "        vertical-align: middle;\n",
       "    }\n",
       "\n",
       "    .dataframe tbody tr th {\n",
       "        vertical-align: top;\n",
       "    }\n",
       "\n",
       "    .dataframe thead th {\n",
       "        text-align: right;\n",
       "    }\n",
       "</style>\n",
       "<table border=\"1\" class=\"dataframe\">\n",
       "  <thead>\n",
       "    <tr style=\"text-align: right;\">\n",
       "      <th></th>\n",
       "      <th>Instance</th>\n",
       "      <th>$\\delta$ norm</th>\n",
       "      <th>MSE</th>\n",
       "      <th>F1</th>\n",
       "      <th>SSIM</th>\n",
       "      <th>AreaCell2FireML</th>\n",
       "      <th>AreaPrometheus</th>\n",
       "    </tr>\n",
       "  </thead>\n",
       "  <tbody>\n",
       "    <tr>\n",
       "      <th>0</th>\n",
       "      <td>dogrib_short</td>\n",
       "      <td>10.724</td>\n",
       "      <td>0.001</td>\n",
       "      <td>0.974</td>\n",
       "      <td>0.993</td>\n",
       "      <td>1082</td>\n",
       "      <td>1197</td>\n",
       "    </tr>\n",
       "  </tbody>\n",
       "</table>\n",
       "</div>"
      ],
      "text/plain": [
       "       Instance  $\\delta$ norm    MSE     F1   SSIM  AreaCell2FireML  \\\n",
       "0  dogrib_short         10.724  0.001  0.974  0.993             1082   \n",
       "\n",
       "   AreaPrometheus  \n",
       "0            1197  "
      ]
     },
     "execution_count": 25,
     "metadata": {},
     "output_type": "execute_result"
    }
   ],
   "source": [
    "# Metrics\n",
    "instance = 'dogrib'\n",
    "cell2fire = cell2fire_ml_canada[instance]\n",
    "farsite = prometheus_canada[instance]\n",
    "# cell2fire[cell2fire == 0] = np.nan\n",
    "# farsite[farsite == 0] = np.nan\n",
    "\n",
    "norm = LA.norm(cell2fire - farsite)\n",
    "mse = ((cell2fire - farsite)**2).mean()\n",
    "f1 = f1_score(farsite.flatten() , cell2fire.flatten(), average='macro')\n",
    "ssim_sc = ssim(cell2fire, farsite, data_range=1)\n",
    "area_cell2fire = len(cell2fire[cell2fire == 1])\n",
    "area_farsite = len(farsite[farsite == 1])\n",
    "\n",
    "# Results\n",
    "df_results = pd.DataFrame({'Instance':[instance + '_short'],\n",
    "                          '$\\delta$ norm':[norm],\n",
    "                          'MSE': [mse],\n",
    "                          'F1': [f1],\n",
    "                          'SSIM': [ssim_sc],\n",
    "                          'AreaCell2FireML': [area_cell2fire],\n",
    "                          'AreaPrometheus': [area_farsite],\n",
    "                          }).round(3)\n",
    "df_results_dogrib[instance] = df_results\n",
    "df_results"
   ]
  },
  {
   "cell_type": "code",
   "execution_count": 27,
   "id": "9bd979d9",
   "metadata": {
    "ExecuteTime": {
     "end_time": "2023-06-30T00:26:35.360519Z",
     "start_time": "2023-06-30T00:26:35.209419Z"
    },
    "code_folding": [
     0,
     13
    ]
   },
   "outputs": [
    {
     "name": "stderr",
     "output_type": "stream",
     "text": [
      "<>:15: SyntaxWarning: invalid escape sequence '\\d'\n",
      "<>:15: SyntaxWarning: invalid escape sequence '\\d'\n",
      "/tmp/ipykernel_1245008/3587878813.py:15: SyntaxWarning: invalid escape sequence '\\d'\n",
      "  '$\\delta$ norm':[norm],\n"
     ]
    },
    {
     "data": {
      "text/html": [
       "<div>\n",
       "<style scoped>\n",
       "    .dataframe tbody tr th:only-of-type {\n",
       "        vertical-align: middle;\n",
       "    }\n",
       "\n",
       "    .dataframe tbody tr th {\n",
       "        vertical-align: top;\n",
       "    }\n",
       "\n",
       "    .dataframe thead th {\n",
       "        text-align: right;\n",
       "    }\n",
       "</style>\n",
       "<table border=\"1\" class=\"dataframe\">\n",
       "  <thead>\n",
       "    <tr style=\"text-align: right;\">\n",
       "      <th></th>\n",
       "      <th>Instance</th>\n",
       "      <th>$\\delta$ norm</th>\n",
       "      <th>MSE</th>\n",
       "      <th>F1</th>\n",
       "      <th>SSIM</th>\n",
       "      <th>AreaCell2FireML</th>\n",
       "      <th>AreaPrometheus</th>\n",
       "    </tr>\n",
       "  </thead>\n",
       "  <tbody>\n",
       "    <tr>\n",
       "      <th>0</th>\n",
       "      <td>dogrib_full_BBOvsReal</td>\n",
       "      <td>79.278</td>\n",
       "      <td>0.079</td>\n",
       "      <td>0.826</td>\n",
       "      <td>0.818</td>\n",
       "      <td>10503</td>\n",
       "      <td>10210</td>\n",
       "    </tr>\n",
       "  </tbody>\n",
       "</table>\n",
       "</div>"
      ],
      "text/plain": [
       "                Instance  $\\delta$ norm    MSE     F1   SSIM  AreaCell2FireML  \\\n",
       "0  dogrib_full_BBOvsReal         79.278  0.079  0.826  0.818            10503   \n",
       "\n",
       "   AreaPrometheus  \n",
       "0           10210  "
      ]
     },
     "execution_count": 27,
     "metadata": {},
     "output_type": "execute_result"
    }
   ],
   "source": [
    "# Metrics\n",
    "instance = 'dogrib'\n",
    "cell2fire = cell2fire_ml_canada[instance + '_BBO']\n",
    "farsite = prometheus_canada[instance + '_REAL']\n",
    "\n",
    "norm = LA.norm(cell2fire - farsite)\n",
    "mse = ((cell2fire - farsite)**2).mean()\n",
    "f1 = f1_score(farsite.flatten() , cell2fire.flatten(), average='macro')\n",
    "ssim_sc = ssim(cell2fire, farsite, data_range=1)\n",
    "area_cell2fire = len(cell2fire[cell2fire == 1])\n",
    "area_farsite = len(farsite[farsite == 1])\n",
    "\n",
    "# Results\n",
    "df_results = pd.DataFrame({'Instance':[instance + '_full_BBOvsReal'],\n",
    "                          '$\\delta$ norm':[norm],\n",
    "                          'MSE': [mse],\n",
    "                          'F1': [f1],\n",
    "                          'SSIM': [ssim_sc],\n",
    "                          'AreaCell2FireML': [area_cell2fire],\n",
    "                          'AreaPrometheus': [area_farsite],\n",
    "                          }).round(3)\n",
    "df_results_dogrib[instance + '_BBOvsReal_Full'] = df_results\n",
    "df_results"
   ]
  },
  {
   "cell_type": "code",
   "execution_count": 28,
   "id": "a68d7f7b",
   "metadata": {
    "ExecuteTime": {
     "end_time": "2023-06-30T00:26:35.511695Z",
     "start_time": "2023-06-30T00:26:35.363257Z"
    },
    "code_folding": [
     0
    ]
   },
   "outputs": [
    {
     "name": "stderr",
     "output_type": "stream",
     "text": [
      "<>:15: SyntaxWarning: invalid escape sequence '\\d'\n",
      "<>:15: SyntaxWarning: invalid escape sequence '\\d'\n",
      "/tmp/ipykernel_1245008/235881398.py:15: SyntaxWarning: invalid escape sequence '\\d'\n",
      "  '$\\delta$ norm':[norm],\n"
     ]
    },
    {
     "data": {
      "text/html": [
       "<div>\n",
       "<style scoped>\n",
       "    .dataframe tbody tr th:only-of-type {\n",
       "        vertical-align: middle;\n",
       "    }\n",
       "\n",
       "    .dataframe tbody tr th {\n",
       "        vertical-align: top;\n",
       "    }\n",
       "\n",
       "    .dataframe thead th {\n",
       "        text-align: right;\n",
       "    }\n",
       "</style>\n",
       "<table border=\"1\" class=\"dataframe\">\n",
       "  <thead>\n",
       "    <tr style=\"text-align: right;\">\n",
       "      <th></th>\n",
       "      <th>Instance</th>\n",
       "      <th>$\\delta$ norm</th>\n",
       "      <th>MSE</th>\n",
       "      <th>F1</th>\n",
       "      <th>SSIM</th>\n",
       "      <th>AreaCell2FireML</th>\n",
       "      <th>AreaPrometheus</th>\n",
       "    </tr>\n",
       "  </thead>\n",
       "  <tbody>\n",
       "    <tr>\n",
       "      <th>0</th>\n",
       "      <td>dogrib_shortvsReal</td>\n",
       "      <td>97.16</td>\n",
       "      <td>0.119</td>\n",
       "      <td>0.55</td>\n",
       "      <td>0.82</td>\n",
       "      <td>1082</td>\n",
       "      <td>10210</td>\n",
       "    </tr>\n",
       "  </tbody>\n",
       "</table>\n",
       "</div>"
      ],
      "text/plain": [
       "             Instance  $\\delta$ norm    MSE    F1  SSIM  AreaCell2FireML  \\\n",
       "0  dogrib_shortvsReal          97.16  0.119  0.55  0.82             1082   \n",
       "\n",
       "   AreaPrometheus  \n",
       "0           10210  "
      ]
     },
     "execution_count": 28,
     "metadata": {},
     "output_type": "execute_result"
    }
   ],
   "source": [
    "# Metrics\n",
    "instance = 'dogrib'\n",
    "cell2fire = cell2fire_ml_canada[instance]\n",
    "farsite = prometheus_canada[instance + '_REAL']\n",
    "\n",
    "norm = LA.norm(cell2fire - farsite)\n",
    "mse = ((cell2fire - farsite)**2).mean()\n",
    "f1 = f1_score(farsite.flatten() , cell2fire.flatten(), average='macro')\n",
    "ssim_sc = ssim(cell2fire, farsite, data_range=1)\n",
    "area_cell2fire = len(cell2fire[cell2fire == 1])\n",
    "area_farsite = len(farsite[farsite == 1])\n",
    "\n",
    "# Results\n",
    "df_results = pd.DataFrame({'Instance':[instance + '_shortvsReal'],\n",
    "                          '$\\delta$ norm':[norm],\n",
    "                          'MSE': [mse],\n",
    "                          'F1': [f1],\n",
    "                          'SSIM': [ssim_sc],\n",
    "                          'AreaCell2FireML': [area_cell2fire],\n",
    "                          'AreaPrometheus': [area_farsite],\n",
    "                          }).round(3)\n",
    "df_results_dogrib[instance + '_FBPvsReal'] = df_results\n",
    "df_results"
   ]
  },
  {
   "cell_type": "code",
   "execution_count": 30,
   "id": "ed228468",
   "metadata": {
    "ExecuteTime": {
     "end_time": "2023-06-30T00:26:35.640304Z",
     "start_time": "2023-06-30T00:26:35.607927Z"
    }
   },
   "outputs": [
    {
     "data": {
      "text/html": [
       "<div>\n",
       "<style scoped>\n",
       "    .dataframe tbody tr th:only-of-type {\n",
       "        vertical-align: middle;\n",
       "    }\n",
       "\n",
       "    .dataframe tbody tr th {\n",
       "        vertical-align: top;\n",
       "    }\n",
       "\n",
       "    .dataframe thead th {\n",
       "        text-align: right;\n",
       "    }\n",
       "</style>\n",
       "<table border=\"1\" class=\"dataframe\">\n",
       "  <thead>\n",
       "    <tr style=\"text-align: right;\">\n",
       "      <th></th>\n",
       "      <th>Instance</th>\n",
       "      <th>$\\delta$ norm</th>\n",
       "      <th>MSE</th>\n",
       "      <th>F1</th>\n",
       "      <th>SSIM</th>\n",
       "      <th>AreaCell2FireML</th>\n",
       "      <th>AreaPrometheus</th>\n",
       "    </tr>\n",
       "  </thead>\n",
       "  <tbody>\n",
       "    <tr>\n",
       "      <th>0</th>\n",
       "      <td>dogrib_short</td>\n",
       "      <td>10.724</td>\n",
       "      <td>0.001</td>\n",
       "      <td>0.974</td>\n",
       "      <td>0.993</td>\n",
       "      <td>1082</td>\n",
       "      <td>1197</td>\n",
       "    </tr>\n",
       "    <tr>\n",
       "      <th>1</th>\n",
       "      <td>dogrib_full_BBOvsReal</td>\n",
       "      <td>79.278</td>\n",
       "      <td>0.079</td>\n",
       "      <td>0.826</td>\n",
       "      <td>0.818</td>\n",
       "      <td>10503</td>\n",
       "      <td>10210</td>\n",
       "    </tr>\n",
       "    <tr>\n",
       "      <th>2</th>\n",
       "      <td>dogrib_shortvsReal</td>\n",
       "      <td>97.160</td>\n",
       "      <td>0.119</td>\n",
       "      <td>0.550</td>\n",
       "      <td>0.820</td>\n",
       "      <td>1082</td>\n",
       "      <td>10210</td>\n",
       "    </tr>\n",
       "  </tbody>\n",
       "</table>\n",
       "</div>"
      ],
      "text/plain": [
       "                Instance  $\\delta$ norm    MSE     F1   SSIM  AreaCell2FireML  \\\n",
       "0           dogrib_short         10.724  0.001  0.974  0.993             1082   \n",
       "1  dogrib_full_BBOvsReal         79.278  0.079  0.826  0.818            10503   \n",
       "2     dogrib_shortvsReal         97.160  0.119  0.550  0.820             1082   \n",
       "\n",
       "   AreaPrometheus  \n",
       "0            1197  \n",
       "1           10210  \n",
       "2           10210  "
      ]
     },
     "execution_count": 30,
     "metadata": {},
     "output_type": "execute_result"
    }
   ],
   "source": [
    "df_summary_dogrib = pd.concat([_ for _ in df_results_dogrib.values()], axis=0).reset_index(drop=True)\n",
    "df_summary_dogrib"
   ]
  },
  {
   "cell_type": "code",
   "execution_count": 31,
   "id": "83e9cbe9",
   "metadata": {
    "ExecuteTime": {
     "end_time": "2023-06-30T00:26:35.676542Z",
     "start_time": "2023-06-30T00:26:35.654890Z"
    }
   },
   "outputs": [
    {
     "data": {
      "text/html": [
       "<div>\n",
       "<style scoped>\n",
       "    .dataframe tbody tr th:only-of-type {\n",
       "        vertical-align: middle;\n",
       "    }\n",
       "\n",
       "    .dataframe tbody tr th {\n",
       "        vertical-align: top;\n",
       "    }\n",
       "\n",
       "    .dataframe thead th {\n",
       "        text-align: right;\n",
       "    }\n",
       "</style>\n",
       "<table border=\"1\" class=\"dataframe\">\n",
       "  <thead>\n",
       "    <tr style=\"text-align: right;\">\n",
       "      <th></th>\n",
       "      <th>Instance</th>\n",
       "      <th>$\\delta$ norm</th>\n",
       "      <th>MSE</th>\n",
       "      <th>F1</th>\n",
       "      <th>SSIM</th>\n",
       "      <th>AreaCell2FireML</th>\n",
       "      <th>AreaPrometheus</th>\n",
       "    </tr>\n",
       "  </thead>\n",
       "  <tbody>\n",
       "    <tr>\n",
       "      <th>0</th>\n",
       "      <td>dogrib_short</td>\n",
       "      <td>10.724</td>\n",
       "      <td>0.001</td>\n",
       "      <td>0.974</td>\n",
       "      <td>0.993</td>\n",
       "      <td>1082</td>\n",
       "      <td>1197</td>\n",
       "    </tr>\n",
       "    <tr>\n",
       "      <th>1</th>\n",
       "      <td>dogrib_full_BBOvsReal</td>\n",
       "      <td>79.278</td>\n",
       "      <td>0.079</td>\n",
       "      <td>0.826</td>\n",
       "      <td>0.818</td>\n",
       "      <td>10503</td>\n",
       "      <td>10210</td>\n",
       "    </tr>\n",
       "    <tr>\n",
       "      <th>2</th>\n",
       "      <td>dogrib_shortvsReal</td>\n",
       "      <td>97.160</td>\n",
       "      <td>0.119</td>\n",
       "      <td>0.550</td>\n",
       "      <td>0.820</td>\n",
       "      <td>1082</td>\n",
       "      <td>10210</td>\n",
       "    </tr>\n",
       "  </tbody>\n",
       "</table>\n",
       "</div>"
      ],
      "text/plain": [
       "                Instance  $\\delta$ norm    MSE     F1   SSIM  AreaCell2FireML  \\\n",
       "0           dogrib_short         10.724  0.001  0.974  0.993             1082   \n",
       "1  dogrib_full_BBOvsReal         79.278  0.079  0.826  0.818            10503   \n",
       "2     dogrib_shortvsReal         97.160  0.119  0.550  0.820             1082   \n",
       "\n",
       "   AreaPrometheus  \n",
       "0            1197  \n",
       "1           10210  \n",
       "2           10210  "
      ]
     },
     "execution_count": 31,
     "metadata": {},
     "output_type": "execute_result"
    }
   ],
   "source": [
    "df_summary_dogrib"
   ]
  },
  {
   "cell_type": "code",
   "execution_count": 48,
   "id": "7190e2b5",
   "metadata": {
    "ExecuteTime": {
     "end_time": "2023-06-30T00:27:19.969048Z",
     "start_time": "2023-06-30T00:27:19.953768Z"
    }
   },
   "outputs": [],
   "source": [
    "# df_summary_dogrib.to_csv(os.path.join(OUT_PATH, 'summary_results_canada_dogrib.csv'), index=False)"
   ]
  }
 ],
 "metadata": {
  "kernelspec": {
   "display_name": "Python 3.12.3 ('c2fml')",
   "language": "python",
   "name": "python3"
  },
  "language_info": {
   "codemirror_mode": {
    "name": "ipython",
    "version": 3
   },
   "file_extension": ".py",
   "mimetype": "text/x-python",
   "name": "python",
   "nbconvert_exporter": "python",
   "pygments_lexer": "ipython3",
   "version": "3.12.3"
  },
  "vscode": {
   "interpreter": {
    "hash": "bdb563c2ed4d1f3163c8cacd5f9884855bf0e832da69121a0a63848d960ab80d"
   }
  }
 },
 "nbformat": 4,
 "nbformat_minor": 5
}
