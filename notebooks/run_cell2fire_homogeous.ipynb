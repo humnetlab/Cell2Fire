{
 "cells": [
  {
   "cell_type": "markdown",
   "metadata": {},
   "source": [
    "## Cell2FireML examples (Homogeneous fuels)\n",
    "Fire spread simulations using Cell2Fire with trained FBMs with ML models"
   ]
  },
  {
   "cell_type": "code",
   "execution_count": 2,
   "metadata": {},
   "outputs": [],
   "source": [
    "# Import\n",
    "import os, glob, time\n",
    "import yaml\n",
    "from utils.utils_execute import *\n",
    "import warnings\n",
    "warnings.filterwarnings(\"ignore\")"
   ]
  },
  {
   "cell_type": "code",
   "execution_count": null,
   "metadata": {},
   "outputs": [],
   "source": [
    "# Globals\n",
    "cell2fire_ml = {}\n",
    "fbp = {}\n",
    "metrics_dfs = {}"
   ]
  },
  {
   "cell_type": "markdown",
   "metadata": {},
   "source": [
    "#### Canada"
   ]
  },
  {
   "cell_type": "code",
   "execution_count": 22,
   "metadata": {},
   "outputs": [],
   "source": [
    "# Basepath\n",
    "BASE_PATH = '/Users/minho/Documents/GitHub/Cell2FireML'\n",
    "\n",
    "# Cell2Fire binary\n",
    "CELL2FIRE_PATH = os.path.join(BASE_PATH, 'Cell2FireC_Canada')\n",
    "\n",
    "# Plot generated scars\n",
    "PLOT_PATH = os.path.join(BASE_PATH, 'notebooks/canada')\n",
    "\n",
    "# Input instance\n",
    "INSTANCE_PATH = os.path.join(BASE_PATH, 'notebooks/data_canada/')\n",
    "INSTANCE_NAME = '400cellsC1/'\n",
    "\n",
    "# Results folder\n",
    "OUT_PATH = os.path.join(BASE_PATH, 'notebooks/results_paper_canada/')\n",
    "# out_name = instance_name.split(os.path.sep)[-1]"
   ]
  },
  {
   "cell_type": "code",
   "execution_count": 23,
   "metadata": {},
   "outputs": [],
   "source": [
    "# YAML\n",
    "yaml_path = '/Users/minho/Documents/GitHub/Cell2FireML/notebooks/utils/c2fml_canada.yml'\n",
    "\n",
    "# Load YAML data\n",
    "with open(yaml_path, 'r') as file:\n",
    "    yml = yaml.safe_load(file)\n",
    "args = yml['args'] # Set args\n",
    "\n",
    "# Update file paths\n",
    "args.update({\n",
    "    'CELL2FIRE_PATH':CELL2FIRE_PATH,\n",
    "    'PLOT_PATH':PLOT_PATH,\n",
    "    'INSTANCE_PATH':INSTANCE_PATH,\n",
    "    'INSTANCE_NAME':INSTANCE_NAME,\n",
    "    'OUT_PATH':OUT_PATH\n",
    "})\n",
    "args['InFolder'] = os.path.join(INSTANCE_PATH, INSTANCE_NAME)\n",
    "args['OutFolder'] = OUT_PATH"
   ]
  },
  {
   "cell_type": "code",
   "execution_count": 24,
   "metadata": {},
   "outputs": [
    {
     "name": "stderr",
     "output_type": "stream",
     "text": [
      "/home/minho/research/fire/c2f_codes/DataGeneratorC.py:93: RuntimeWarning: invalid value encountered in cast\n",
      "  CoordCells = np.empty([len(grid)*(tcols), 2]).astype(int)\n"
     ]
    },
    {
     "name": "stdout",
     "output_type": "stream",
     "text": [
      "   No elevation.asc file, filling with NaN\n",
      "   No saz.asc file, filling with NaN\n",
      "   No slope.asc file, filling with NaN\n",
      "   No cur.asc file, filling with NaN\n",
      "/home/minho/research/fire/c2f_codes/notebooks/data_canada/400cellsC1/Data.csv\n",
      "ExecArray: /home/minho/research/fire/c2f_codes/Cell2FireC_Canada/Cell2Fire --input-instance-folder /home/minho/research/fire/c2f_codes/notebooks/data_canada/400cellsC1/ --output-folder /home/minho/research/fire/c2f_codes/notebooks/results_paper_canada/ --ignitions --sim-years 1 --nsims 1  --final-grid --Fire-Period-Length 0.1  --weather rows --nweathers 1 --ROS-CV 0.0 --IgnitionRad 0 --seed 123 --nthreads 1 --ROS-Threshold 0.0 --HFI-Threshold 0.0 --HFactor 1.0 --BFactor 1.0 --FFactor 1.0 --EFactor 1.0  --HarvestPlan  --verbose\n",
      "End of Cell2FireC execution...\n"
     ]
    }
   ],
   "source": [
    "# Update parameters\n",
    "args['input_PeriodLen'] = 0.1\n",
    "args['HFactor'] = 1.\n",
    "args['FFactor'] = 1.0\n",
    "args['BFactor'] = 1.0\n",
    "args['EFactor'] = 1.0\n",
    "args['BBO'] = False\n",
    "\n",
    "# Convert dictionary of parameters to Class entity\n",
    "args_obj = Dict2Class(args)\n",
    "\n",
    "# Generate data if needed\n",
    "generateDataC(args_obj)\n",
    "              \n",
    "# Execution\n",
    "exec_array = run(cell2fire_path=CELL2FIRE_PATH, opt_args=None, args=args_obj, verbose=True)"
   ]
  },
  {
   "cell_type": "code",
   "execution_count": 25,
   "metadata": {},
   "outputs": [
    {
     "name": "stdout",
     "output_type": "stream",
     "text": [
      "Cell2FireML\n"
     ]
    },
    {
     "data": {
      "image/png": "[encoded data removed]",
      "text/plain": [
       "<Figure size 600x600 with 1 Axes>"
      ]
     },
     "metadata": {},
     "output_type": "display_data"
    }
   ],
   "source": [
    "# Outputs\n",
    "print('Cell2FireML')\n",
    "cell2fire_ml={}\n",
    "cell2fire_ml[INSTANCE_NAME] = print_grids_results_folders([args_obj.OutFolder])"
   ]
  },
  {
   "cell_type": "code",
   "execution_count": null,
   "metadata": {},
   "outputs": [],
   "source": []
  },
  {
   "cell_type": "markdown",
   "metadata": {},
   "source": [
    "#### Chile"
   ]
  },
  {
   "cell_type": "code",
   "execution_count": 35,
   "metadata": {},
   "outputs": [],
   "source": [
    "# Basepath\n",
    "BASE_PATH = '/home/minho/research/fire/c2f_codes'\n",
    "\n",
    "# Cell2Fire binary\n",
    "CELL2FIRE_PATH = os.path.join(BASE_PATH, 'Cell2FireC_Chile')\n",
    "\n",
    "# Plot generated scars\n",
    "PLOT_PATH = os.path.join(BASE_PATH, 'notebooks/kitral')\n",
    "\n",
    "# Input instance\n",
    "INSTANCE_PATH = os.path.join(BASE_PATH, 'notebooks/data_chile/')\n",
    "INSTANCE_NAME = 'Homogeneous/Hom_Fuel_1/'\n",
    "\n",
    "# Results folder\n",
    "OUT_PATH = os.path.join(BASE_PATH, 'notebooks/results_paper_chile/')\n",
    "# out_name = instance_name.split(os.path.sep)[-1]"
   ]
  },
  {
   "cell_type": "code",
   "execution_count": 36,
   "metadata": {},
   "outputs": [],
   "source": [
    "# YAML\n",
    "yaml_path = '/Users/minho/Documents/GitHub/Cell2FireML/notebooks/utils/c2fml_chile.yml'\n",
    "\n",
    "# Load YAML data\n",
    "with open(yaml_path, 'r') as file:\n",
    "    yml = yaml.safe_load(file)\n",
    "args = yml['args'] # Set args\n",
    "\n",
    "# Update file paths\n",
    "args.update({\n",
    "    'CELL2FIRE_PATH':CELL2FIRE_PATH,\n",
    "    'PLOT_PATH':PLOT_PATH,\n",
    "    'INSTANCE_PATH':INSTANCE_PATH,\n",
    "    'INSTANCE_NAME':INSTANCE_NAME,\n",
    "    'OUT_PATH':OUT_PATH\n",
    "})\n",
    "args['InFolder'] = os.path.join(INSTANCE_PATH, INSTANCE_NAME)\n",
    "args['OutFolder'] = OUT_PATH"
   ]
  },
  {
   "cell_type": "code",
   "execution_count": 37,
   "metadata": {},
   "outputs": [
    {
     "name": "stderr",
     "output_type": "stream",
     "text": [
      "/home/minho/research/fire/c2f_codes/DataGeneratorC_Chile.py:96: RuntimeWarning: invalid value encountered in cast\n",
      "  CoordCells = np.empty([len(grid)*(tcols), 2]).astype(int)\n"
     ]
    },
    {
     "name": "stdout",
     "output_type": "stream",
     "text": [
      "   No saz.asc file, filling with NaN\n",
      "   No cur.asc file, filling with NaN\n",
      "   No cbd.asc file, filling with NaN\n",
      "   No cbh.asc file, filling with NaN\n",
      "   No ccf.asc file, filling with NaN\n",
      "   No py.asc file, filling with NaN\n",
      "/home/minho/research/fire/c2f_codes/notebooks/data_chile/Homogeneous/Hom_Fuel_1/Data.csv\n",
      "ExecArray: /home/minho/research/fire/c2f_codes/Cell2FireC_Chile/Cell2Fire --input-instance-folder /home/minho/research/fire/c2f_codes/notebooks/data_chile/Homogeneous/Hom_Fuel_1/ --output-folder /home/minho/research/fire/c2f_codes/notebooks/results_paper_chile/ --ignitions --sim-years 1 --nsims 1  --final-grid --Fire-Period-Length 0.1  --weather rows --nweathers 1 --ROS-CV 0.0 --IgnitionRad 0 --seed 123 --nthreads 1 --ROS-Threshold 0.0 --HFI-Threshold 0.0 --HFactor 1.0 --BFactor 1.0 --FFactor 1.0 --EFactor 1.0  --HarvestPlan  --verbose\n",
      "End of Cell2FireC execution...\n"
     ]
    }
   ],
   "source": [
    "# Update parameters\n",
    "args['input_PeriodLen'] = 0.1\n",
    "args['HFactor'] = 1.\n",
    "args['FFactor'] = 1.0\n",
    "args['BFactor'] = 1.0\n",
    "args['EFactor'] = 1.0\n",
    "args['BBO'] = False\n",
    "\n",
    "# Convert dictionary of parameters to Class entity\n",
    "args_obj = Dict2Class(args)\n",
    "\n",
    "# Generate data if needed\n",
    "generateDataC(args_obj)\n",
    "              \n",
    "# Execution\n",
    "exec_array = run(cell2fire_path=CELL2FIRE_PATH, opt_args=None, args=args_obj, verbose=True)"
   ]
  },
  {
   "cell_type": "code",
   "execution_count": 38,
   "metadata": {},
   "outputs": [
    {
     "name": "stdout",
     "output_type": "stream",
     "text": [
      "Cell2FireML\n"
     ]
    },
    {
     "data": {
      "image/png": "[encoded data removed]",
      "text/plain": [
       "<Figure size 600x600 with 1 Axes>"
      ]
     },
     "metadata": {},
     "output_type": "display_data"
    }
   ],
   "source": [
    "# Outputs\n",
    "print('Cell2FireML')\n",
    "cell2fire_ml={}\n",
    "cell2fire_ml[INSTANCE_NAME] = print_grids_results_folders([args_obj.OutFolder])"
   ]
  }
 ],
 "metadata": {
  "kernelspec": {
   "display_name": "Python 3.12.3 ('c2fml')",
   "language": "python",
   "name": "python3"
  },
  "language_info": {
   "codemirror_mode": {
    "name": "ipython",
    "version": 3
   },
   "file_extension": ".py",
   "mimetype": "text/x-python",
   "name": "python",
   "nbconvert_exporter": "python",
   "pygments_lexer": "ipython3",
   "version": "3.12.3"
  },
  "orig_nbformat": 4,
  "vscode": {
   "interpreter": {
    "hash": "bdb563c2ed4d1f3163c8cacd5f9884855bf0e832da69121a0a63848d960ab80d"
   }
  }
 },
 "nbformat": 4,
 "nbformat_minor": 2
}
